{
 "cells": [
  {
   "cell_type": "markdown",
   "metadata": {},
   "source": [
    "**Step 1 -> Loading dataset**"
   ]
  },
  {
   "cell_type": "code",
   "execution_count": 17,
   "metadata": {},
   "outputs": [],
   "source": [
    "import pandas as pd\n",
    "import plotly.express as plx\n",
    "import plotly.graph_objects as pgo\n",
    "import numpy as np"
   ]
  },
  {
   "cell_type": "code",
   "execution_count": 18,
   "metadata": {},
   "outputs": [],
   "source": [
    "data = pd.read_csv(r\"./dataset.csv\")"
   ]
  },
  {
   "cell_type": "code",
   "execution_count": 19,
   "metadata": {},
   "outputs": [
    {
     "data": {
      "text/html": [
       "<div>\n",
       "<style scoped>\n",
       "    .dataframe tbody tr th:only-of-type {\n",
       "        vertical-align: middle;\n",
       "    }\n",
       "\n",
       "    .dataframe tbody tr th {\n",
       "        vertical-align: top;\n",
       "    }\n",
       "\n",
       "    .dataframe thead th {\n",
       "        text-align: right;\n",
       "    }\n",
       "</style>\n",
       "<table border=\"1\" class=\"dataframe\">\n",
       "  <thead>\n",
       "    <tr style=\"text-align: right;\">\n",
       "      <th></th>\n",
       "      <th>Number_of_Riders</th>\n",
       "      <th>Number_of_Drivers</th>\n",
       "      <th>Location_Category</th>\n",
       "      <th>Customer_Loyalty_Status</th>\n",
       "      <th>Number_of_Past_Rides</th>\n",
       "      <th>Average_Ratings</th>\n",
       "      <th>Time_of_Booking</th>\n",
       "      <th>Vehicle_Type</th>\n",
       "      <th>Expected_Ride_Duration</th>\n",
       "      <th>Historical_Cost_of_Ride</th>\n",
       "    </tr>\n",
       "  </thead>\n",
       "  <tbody>\n",
       "    <tr>\n",
       "      <th>0</th>\n",
       "      <td>90</td>\n",
       "      <td>45</td>\n",
       "      <td>Urban</td>\n",
       "      <td>Silver</td>\n",
       "      <td>13</td>\n",
       "      <td>4.47</td>\n",
       "      <td>Night</td>\n",
       "      <td>Premium</td>\n",
       "      <td>90</td>\n",
       "      <td>284.257273</td>\n",
       "    </tr>\n",
       "    <tr>\n",
       "      <th>1</th>\n",
       "      <td>58</td>\n",
       "      <td>39</td>\n",
       "      <td>Suburban</td>\n",
       "      <td>Silver</td>\n",
       "      <td>72</td>\n",
       "      <td>4.06</td>\n",
       "      <td>Evening</td>\n",
       "      <td>Economy</td>\n",
       "      <td>43</td>\n",
       "      <td>173.874753</td>\n",
       "    </tr>\n",
       "    <tr>\n",
       "      <th>2</th>\n",
       "      <td>42</td>\n",
       "      <td>31</td>\n",
       "      <td>Rural</td>\n",
       "      <td>Silver</td>\n",
       "      <td>0</td>\n",
       "      <td>3.99</td>\n",
       "      <td>Afternoon</td>\n",
       "      <td>Premium</td>\n",
       "      <td>76</td>\n",
       "      <td>329.795469</td>\n",
       "    </tr>\n",
       "    <tr>\n",
       "      <th>3</th>\n",
       "      <td>89</td>\n",
       "      <td>28</td>\n",
       "      <td>Rural</td>\n",
       "      <td>Regular</td>\n",
       "      <td>67</td>\n",
       "      <td>4.31</td>\n",
       "      <td>Afternoon</td>\n",
       "      <td>Premium</td>\n",
       "      <td>134</td>\n",
       "      <td>470.201232</td>\n",
       "    </tr>\n",
       "    <tr>\n",
       "      <th>4</th>\n",
       "      <td>78</td>\n",
       "      <td>22</td>\n",
       "      <td>Rural</td>\n",
       "      <td>Regular</td>\n",
       "      <td>74</td>\n",
       "      <td>3.77</td>\n",
       "      <td>Afternoon</td>\n",
       "      <td>Economy</td>\n",
       "      <td>149</td>\n",
       "      <td>579.681422</td>\n",
       "    </tr>\n",
       "  </tbody>\n",
       "</table>\n",
       "</div>"
      ],
      "text/plain": [
       "   Number_of_Riders  Number_of_Drivers Location_Category  \\\n",
       "0                90                 45             Urban   \n",
       "1                58                 39          Suburban   \n",
       "2                42                 31             Rural   \n",
       "3                89                 28             Rural   \n",
       "4                78                 22             Rural   \n",
       "\n",
       "  Customer_Loyalty_Status  Number_of_Past_Rides  Average_Ratings  \\\n",
       "0                  Silver                    13             4.47   \n",
       "1                  Silver                    72             4.06   \n",
       "2                  Silver                     0             3.99   \n",
       "3                 Regular                    67             4.31   \n",
       "4                 Regular                    74             3.77   \n",
       "\n",
       "  Time_of_Booking Vehicle_Type  Expected_Ride_Duration  \\\n",
       "0           Night      Premium                      90   \n",
       "1         Evening      Economy                      43   \n",
       "2       Afternoon      Premium                      76   \n",
       "3       Afternoon      Premium                     134   \n",
       "4       Afternoon      Economy                     149   \n",
       "\n",
       "   Historical_Cost_of_Ride  \n",
       "0               284.257273  \n",
       "1               173.874753  \n",
       "2               329.795469  \n",
       "3               470.201232  \n",
       "4               579.681422  "
      ]
     },
     "execution_count": 19,
     "metadata": {},
     "output_type": "execute_result"
    }
   ],
   "source": [
    "data.head(5)"
   ]
  },
  {
   "cell_type": "markdown",
   "metadata": {},
   "source": [
    "**Step 2 -> Exploration of Data**"
   ]
  },
  {
   "cell_type": "code",
   "execution_count": 20,
   "metadata": {},
   "outputs": [
    {
     "data": {
      "text/plain": [
       "Number_of_Riders             int64\n",
       "Number_of_Drivers            int64\n",
       "Location_Category           object\n",
       "Customer_Loyalty_Status     object\n",
       "Number_of_Past_Rides         int64\n",
       "Average_Ratings            float64\n",
       "Time_of_Booking             object\n",
       "Vehicle_Type                object\n",
       "Expected_Ride_Duration       int64\n",
       "Historical_Cost_of_Ride    float64\n",
       "dtype: object"
      ]
     },
     "execution_count": 20,
     "metadata": {},
     "output_type": "execute_result"
    }
   ],
   "source": [
    "data.dtypes"
   ]
  },
  {
   "cell_type": "markdown",
   "metadata": {},
   "source": [
    "**Step 3 -> Data Cleaning**"
   ]
  },
  {
   "cell_type": "markdown",
   "metadata": {},
   "source": [
    "*Searching for Null or Missing Values*"
   ]
  },
  {
   "cell_type": "code",
   "execution_count": 21,
   "metadata": {},
   "outputs": [
    {
     "data": {
      "text/plain": [
       "Number_of_Riders           0\n",
       "Number_of_Drivers          0\n",
       "Location_Category          0\n",
       "Customer_Loyalty_Status    0\n",
       "Number_of_Past_Rides       0\n",
       "Average_Ratings            0\n",
       "Time_of_Booking            0\n",
       "Vehicle_Type               0\n",
       "Expected_Ride_Duration     0\n",
       "Historical_Cost_of_Ride    0\n",
       "dtype: int64"
      ]
     },
     "execution_count": 21,
     "metadata": {},
     "output_type": "execute_result"
    }
   ],
   "source": [
    "data.isnull().sum()"
   ]
  },
  {
   "cell_type": "markdown",
   "metadata": {},
   "source": [
    "*Searching for Duplicates and Removing Duplicates if any.*"
   ]
  },
  {
   "cell_type": "code",
   "execution_count": 22,
   "metadata": {},
   "outputs": [
    {
     "data": {
      "text/html": [
       "<div>\n",
       "<style scoped>\n",
       "    .dataframe tbody tr th:only-of-type {\n",
       "        vertical-align: middle;\n",
       "    }\n",
       "\n",
       "    .dataframe tbody tr th {\n",
       "        vertical-align: top;\n",
       "    }\n",
       "\n",
       "    .dataframe thead th {\n",
       "        text-align: right;\n",
       "    }\n",
       "</style>\n",
       "<table border=\"1\" class=\"dataframe\">\n",
       "  <thead>\n",
       "    <tr style=\"text-align: right;\">\n",
       "      <th></th>\n",
       "      <th>Number_of_Riders</th>\n",
       "      <th>Number_of_Drivers</th>\n",
       "      <th>Location_Category</th>\n",
       "      <th>Customer_Loyalty_Status</th>\n",
       "      <th>Number_of_Past_Rides</th>\n",
       "      <th>Average_Ratings</th>\n",
       "      <th>Time_of_Booking</th>\n",
       "      <th>Vehicle_Type</th>\n",
       "      <th>Expected_Ride_Duration</th>\n",
       "      <th>Historical_Cost_of_Ride</th>\n",
       "    </tr>\n",
       "  </thead>\n",
       "  <tbody>\n",
       "    <tr>\n",
       "      <th>0</th>\n",
       "      <td>90</td>\n",
       "      <td>45</td>\n",
       "      <td>Urban</td>\n",
       "      <td>Silver</td>\n",
       "      <td>13</td>\n",
       "      <td>4.47</td>\n",
       "      <td>Night</td>\n",
       "      <td>Premium</td>\n",
       "      <td>90</td>\n",
       "      <td>284.257273</td>\n",
       "    </tr>\n",
       "    <tr>\n",
       "      <th>1</th>\n",
       "      <td>58</td>\n",
       "      <td>39</td>\n",
       "      <td>Suburban</td>\n",
       "      <td>Silver</td>\n",
       "      <td>72</td>\n",
       "      <td>4.06</td>\n",
       "      <td>Evening</td>\n",
       "      <td>Economy</td>\n",
       "      <td>43</td>\n",
       "      <td>173.874753</td>\n",
       "    </tr>\n",
       "    <tr>\n",
       "      <th>2</th>\n",
       "      <td>42</td>\n",
       "      <td>31</td>\n",
       "      <td>Rural</td>\n",
       "      <td>Silver</td>\n",
       "      <td>0</td>\n",
       "      <td>3.99</td>\n",
       "      <td>Afternoon</td>\n",
       "      <td>Premium</td>\n",
       "      <td>76</td>\n",
       "      <td>329.795469</td>\n",
       "    </tr>\n",
       "    <tr>\n",
       "      <th>3</th>\n",
       "      <td>89</td>\n",
       "      <td>28</td>\n",
       "      <td>Rural</td>\n",
       "      <td>Regular</td>\n",
       "      <td>67</td>\n",
       "      <td>4.31</td>\n",
       "      <td>Afternoon</td>\n",
       "      <td>Premium</td>\n",
       "      <td>134</td>\n",
       "      <td>470.201232</td>\n",
       "    </tr>\n",
       "    <tr>\n",
       "      <th>4</th>\n",
       "      <td>78</td>\n",
       "      <td>22</td>\n",
       "      <td>Rural</td>\n",
       "      <td>Regular</td>\n",
       "      <td>74</td>\n",
       "      <td>3.77</td>\n",
       "      <td>Afternoon</td>\n",
       "      <td>Economy</td>\n",
       "      <td>149</td>\n",
       "      <td>579.681422</td>\n",
       "    </tr>\n",
       "    <tr>\n",
       "      <th>...</th>\n",
       "      <td>...</td>\n",
       "      <td>...</td>\n",
       "      <td>...</td>\n",
       "      <td>...</td>\n",
       "      <td>...</td>\n",
       "      <td>...</td>\n",
       "      <td>...</td>\n",
       "      <td>...</td>\n",
       "      <td>...</td>\n",
       "      <td>...</td>\n",
       "    </tr>\n",
       "    <tr>\n",
       "      <th>995</th>\n",
       "      <td>33</td>\n",
       "      <td>23</td>\n",
       "      <td>Urban</td>\n",
       "      <td>Gold</td>\n",
       "      <td>24</td>\n",
       "      <td>4.21</td>\n",
       "      <td>Morning</td>\n",
       "      <td>Premium</td>\n",
       "      <td>11</td>\n",
       "      <td>91.389526</td>\n",
       "    </tr>\n",
       "    <tr>\n",
       "      <th>996</th>\n",
       "      <td>84</td>\n",
       "      <td>29</td>\n",
       "      <td>Urban</td>\n",
       "      <td>Regular</td>\n",
       "      <td>92</td>\n",
       "      <td>4.55</td>\n",
       "      <td>Morning</td>\n",
       "      <td>Premium</td>\n",
       "      <td>94</td>\n",
       "      <td>424.155987</td>\n",
       "    </tr>\n",
       "    <tr>\n",
       "      <th>997</th>\n",
       "      <td>44</td>\n",
       "      <td>6</td>\n",
       "      <td>Suburban</td>\n",
       "      <td>Gold</td>\n",
       "      <td>80</td>\n",
       "      <td>4.13</td>\n",
       "      <td>Night</td>\n",
       "      <td>Premium</td>\n",
       "      <td>40</td>\n",
       "      <td>157.364830</td>\n",
       "    </tr>\n",
       "    <tr>\n",
       "      <th>998</th>\n",
       "      <td>53</td>\n",
       "      <td>27</td>\n",
       "      <td>Suburban</td>\n",
       "      <td>Regular</td>\n",
       "      <td>78</td>\n",
       "      <td>3.63</td>\n",
       "      <td>Night</td>\n",
       "      <td>Premium</td>\n",
       "      <td>58</td>\n",
       "      <td>279.095048</td>\n",
       "    </tr>\n",
       "    <tr>\n",
       "      <th>999</th>\n",
       "      <td>78</td>\n",
       "      <td>63</td>\n",
       "      <td>Rural</td>\n",
       "      <td>Gold</td>\n",
       "      <td>14</td>\n",
       "      <td>4.21</td>\n",
       "      <td>Afternoon</td>\n",
       "      <td>Economy</td>\n",
       "      <td>147</td>\n",
       "      <td>655.065106</td>\n",
       "    </tr>\n",
       "  </tbody>\n",
       "</table>\n",
       "<p>1000 rows × 10 columns</p>\n",
       "</div>"
      ],
      "text/plain": [
       "     Number_of_Riders  Number_of_Drivers Location_Category  \\\n",
       "0                  90                 45             Urban   \n",
       "1                  58                 39          Suburban   \n",
       "2                  42                 31             Rural   \n",
       "3                  89                 28             Rural   \n",
       "4                  78                 22             Rural   \n",
       "..                ...                ...               ...   \n",
       "995                33                 23             Urban   \n",
       "996                84                 29             Urban   \n",
       "997                44                  6          Suburban   \n",
       "998                53                 27          Suburban   \n",
       "999                78                 63             Rural   \n",
       "\n",
       "    Customer_Loyalty_Status  Number_of_Past_Rides  Average_Ratings  \\\n",
       "0                    Silver                    13             4.47   \n",
       "1                    Silver                    72             4.06   \n",
       "2                    Silver                     0             3.99   \n",
       "3                   Regular                    67             4.31   \n",
       "4                   Regular                    74             3.77   \n",
       "..                      ...                   ...              ...   \n",
       "995                    Gold                    24             4.21   \n",
       "996                 Regular                    92             4.55   \n",
       "997                    Gold                    80             4.13   \n",
       "998                 Regular                    78             3.63   \n",
       "999                    Gold                    14             4.21   \n",
       "\n",
       "    Time_of_Booking Vehicle_Type  Expected_Ride_Duration  \\\n",
       "0             Night      Premium                      90   \n",
       "1           Evening      Economy                      43   \n",
       "2         Afternoon      Premium                      76   \n",
       "3         Afternoon      Premium                     134   \n",
       "4         Afternoon      Economy                     149   \n",
       "..              ...          ...                     ...   \n",
       "995         Morning      Premium                      11   \n",
       "996         Morning      Premium                      94   \n",
       "997           Night      Premium                      40   \n",
       "998           Night      Premium                      58   \n",
       "999       Afternoon      Economy                     147   \n",
       "\n",
       "     Historical_Cost_of_Ride  \n",
       "0                 284.257273  \n",
       "1                 173.874753  \n",
       "2                 329.795469  \n",
       "3                 470.201232  \n",
       "4                 579.681422  \n",
       "..                       ...  \n",
       "995                91.389526  \n",
       "996               424.155987  \n",
       "997               157.364830  \n",
       "998               279.095048  \n",
       "999               655.065106  \n",
       "\n",
       "[1000 rows x 10 columns]"
      ]
     },
     "execution_count": 22,
     "metadata": {},
     "output_type": "execute_result"
    }
   ],
   "source": [
    "data.drop_duplicates()"
   ]
  },
  {
   "cell_type": "code",
   "execution_count": 23,
   "metadata": {},
   "outputs": [
    {
     "data": {
      "text/html": [
       "<div>\n",
       "<style scoped>\n",
       "    .dataframe tbody tr th:only-of-type {\n",
       "        vertical-align: middle;\n",
       "    }\n",
       "\n",
       "    .dataframe tbody tr th {\n",
       "        vertical-align: top;\n",
       "    }\n",
       "\n",
       "    .dataframe thead th {\n",
       "        text-align: right;\n",
       "    }\n",
       "</style>\n",
       "<table border=\"1\" class=\"dataframe\">\n",
       "  <thead>\n",
       "    <tr style=\"text-align: right;\">\n",
       "      <th></th>\n",
       "      <th>Number_of_Riders</th>\n",
       "      <th>Number_of_Drivers</th>\n",
       "      <th>Number_of_Past_Rides</th>\n",
       "      <th>Average_Ratings</th>\n",
       "      <th>Expected_Ride_Duration</th>\n",
       "      <th>Historical_Cost_of_Ride</th>\n",
       "    </tr>\n",
       "  </thead>\n",
       "  <tbody>\n",
       "    <tr>\n",
       "      <th>count</th>\n",
       "      <td>1000.000000</td>\n",
       "      <td>1000.000000</td>\n",
       "      <td>1000.000000</td>\n",
       "      <td>1000.000000</td>\n",
       "      <td>1000.00000</td>\n",
       "      <td>1000.000000</td>\n",
       "    </tr>\n",
       "    <tr>\n",
       "      <th>mean</th>\n",
       "      <td>60.372000</td>\n",
       "      <td>27.076000</td>\n",
       "      <td>50.031000</td>\n",
       "      <td>4.257220</td>\n",
       "      <td>99.58800</td>\n",
       "      <td>372.502623</td>\n",
       "    </tr>\n",
       "    <tr>\n",
       "      <th>std</th>\n",
       "      <td>23.701506</td>\n",
       "      <td>19.068346</td>\n",
       "      <td>29.313774</td>\n",
       "      <td>0.435781</td>\n",
       "      <td>49.16545</td>\n",
       "      <td>187.158756</td>\n",
       "    </tr>\n",
       "    <tr>\n",
       "      <th>min</th>\n",
       "      <td>20.000000</td>\n",
       "      <td>5.000000</td>\n",
       "      <td>0.000000</td>\n",
       "      <td>3.500000</td>\n",
       "      <td>10.00000</td>\n",
       "      <td>25.993449</td>\n",
       "    </tr>\n",
       "    <tr>\n",
       "      <th>25%</th>\n",
       "      <td>40.000000</td>\n",
       "      <td>11.000000</td>\n",
       "      <td>25.000000</td>\n",
       "      <td>3.870000</td>\n",
       "      <td>59.75000</td>\n",
       "      <td>221.365202</td>\n",
       "    </tr>\n",
       "    <tr>\n",
       "      <th>50%</th>\n",
       "      <td>60.000000</td>\n",
       "      <td>22.000000</td>\n",
       "      <td>51.000000</td>\n",
       "      <td>4.270000</td>\n",
       "      <td>102.00000</td>\n",
       "      <td>362.019426</td>\n",
       "    </tr>\n",
       "    <tr>\n",
       "      <th>75%</th>\n",
       "      <td>81.000000</td>\n",
       "      <td>38.000000</td>\n",
       "      <td>75.000000</td>\n",
       "      <td>4.632500</td>\n",
       "      <td>143.00000</td>\n",
       "      <td>510.497504</td>\n",
       "    </tr>\n",
       "    <tr>\n",
       "      <th>max</th>\n",
       "      <td>100.000000</td>\n",
       "      <td>89.000000</td>\n",
       "      <td>100.000000</td>\n",
       "      <td>5.000000</td>\n",
       "      <td>180.00000</td>\n",
       "      <td>836.116419</td>\n",
       "    </tr>\n",
       "  </tbody>\n",
       "</table>\n",
       "</div>"
      ],
      "text/plain": [
       "       Number_of_Riders  Number_of_Drivers  Number_of_Past_Rides  \\\n",
       "count       1000.000000        1000.000000           1000.000000   \n",
       "mean          60.372000          27.076000             50.031000   \n",
       "std           23.701506          19.068346             29.313774   \n",
       "min           20.000000           5.000000              0.000000   \n",
       "25%           40.000000          11.000000             25.000000   \n",
       "50%           60.000000          22.000000             51.000000   \n",
       "75%           81.000000          38.000000             75.000000   \n",
       "max          100.000000          89.000000            100.000000   \n",
       "\n",
       "       Average_Ratings  Expected_Ride_Duration  Historical_Cost_of_Ride  \n",
       "count      1000.000000              1000.00000              1000.000000  \n",
       "mean          4.257220                99.58800               372.502623  \n",
       "std           0.435781                49.16545               187.158756  \n",
       "min           3.500000                10.00000                25.993449  \n",
       "25%           3.870000                59.75000               221.365202  \n",
       "50%           4.270000               102.00000               362.019426  \n",
       "75%           4.632500               143.00000               510.497504  \n",
       "max           5.000000               180.00000               836.116419  "
      ]
     },
     "execution_count": 23,
     "metadata": {},
     "output_type": "execute_result"
    }
   ],
   "source": [
    "data.describe()"
   ]
  },
  {
   "cell_type": "markdown",
   "metadata": {},
   "source": [
    "**Step 4 -> Visualization**"
   ]
  },
  {
   "cell_type": "markdown",
   "metadata": {},
   "source": [
    "*Relationships Between Historical_Cost_of_Ride and other variables*"
   ]
  },
  {
   "cell_type": "markdown",
   "metadata": {},
   "source": [
    "Relationship Between Historical Cost of Ride and Number of Riders"
   ]
  },
  {
   "cell_type": "code",
   "execution_count": 24,
   "metadata": {},
   "outputs": [
    {
     "data": {
      "application/vnd.plotly.v1+json": {
       "config": {
        "plotlyServerURL": "https://plot.ly"
       },
       "data": [
        {
         "hovertemplate": "Historical_Cost_of_Ride=%{x}<br>Number_of_Riders=%{y}<extra></extra>",
         "legendgroup": "",
         "marker": {
          "color": "#636efa",
          "symbol": "circle"
         },
         "mode": "markers",
         "name": "",
         "orientation": "v",
         "showlegend": false,
         "type": "scatter",
         "x": {
          "bdata": "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",
          "dtype": "f8"
         },
         "xaxis": "x",
         "y": {
          "bdata": "WjoqWU47XT5PKlY8GCQ/JyYuIR9gFkoYMDhIYT45GUsnI0RgHBkcSSQ4YT9OHUleNkMXRhRfK2EgXy8ZJTsqNU87KEwpUyxbNjtILyAtSDgqNFFNG0pcTUJNIzA9R19MIDEmXCg3OiJGM1gZIigaUVBALVQiQ11kIyQcFRphGltBWFJBKVUjU1ssYE1bXSk9UzsqUUgrSkQkMz9gXkpbRTMtXEU4K1Y9MklMVzVHIFsvFzkwFjxeK2EvJzIjHDM2QT0uSVZLJyEoNjVRLRQvIU4aPlQxIjFTWFpBSVVBSilPNSM1JCY0W1dgUzBBT2RJT1hMMWRXFhVdHGEwRk4ZGFwrYFhTMmFURE1SFUs9WmRdXD01NzkiMiMrMjddXkYkJURNG1ouYFBQQDk0RUMZUEkYJRsXKkpEO1lRIUtXOEtjISk3XTYiVlVKPzdkMyVjNh5UMVYwQ2RPYyI2TVBKOWE0M1dbVTkcOh8bWjYXXlZPSUoaY1BOPxlkLjsVQDRkU1lkR140G1gwNR84MF0xSD4nQ1gdZGIjOhZUWzhhOV5UKEEjKD0yYjYlTlQsGSZVH0NNIEdBQDBMTEdMM1g8SRdKMR85QFY2VTpgOk1dLBRGKldGPUdRV1VbU0BFJV1CL0c6ZF4xKk87NjwaWiJQFWFALywVOT4ZXCZjIx4cOxgVVGQeLTVBXRwmGUwWKFkfXDo6JEJMNxU9SEEUFkgqZFckRik7IUYtYktkTCAjHksZWCsnTSkzHh0VMj1DSSNgJks5JElEGWEeUxs6IEwVLyFcGEtZQz1QQicuWTw6RC1bJ2EqG0NFRV1UYB48SB9HW1sgFz05WUBbW0VHJmRBSThLYV41US9QS1keQDdeNR0dS0pZHShPYl9PJlM7M0AePEsZLjAzRFlUMmMVNTwgMxYVNypWMFI/LCcXHywXPxkbOVNQMlRaHGFjYFg1HDsyWVNJTDgoGyAwRzVXJCdbH15TIiAWMT0VKBYiOF0mTC9AOCwiLR9fUl8bXkIoODYuQWAvFF40Ry41GmRKNUssTFg2MRkkKh00JVsdPkUgTjU8YVdKWhVGJR5AKBxVXF0kXhtWFl9jFmQ9ISclXxxCPF4/JiNTPlhEVChdOUNEJjFiLxs7ODJdLjglVRssSxUqGUMdZCUfMSo9GBQWYh4gFj4zVRxdJFA8YTVPLCI3MUhIYxUyPRgfI0peLFQbO1IYVDQmGj1XYhgsR1sgT0kgFiMYQ2RCYDxcXDhYV1ViHCQUXl5GWiosPBpPGj4qOSEWQz5fPTBdO19HFBdQOkdFWVRiX09SV1MvIhpYOS1SNl8/KyEhVCw1Tg==",
          "dtype": "i1"
         },
         "yaxis": "y"
        },
        {
         "hovertemplate": "<b>OLS trendline</b><br>Number_of_Riders = 0.000737758 * Historical_Cost_of_Ride + 60.0972<br>R<sup>2</sup>=0.000034<br><br>Historical_Cost_of_Ride=%{x}<br>Number_of_Riders=%{y} <b>(trend)</b><extra></extra>",
         "legendgroup": "",
         "marker": {
          "color": "#636efa",
          "symbol": "circle"
         },
         "mode": "lines",
         "name": "",
         "showlegend": false,
         "type": "scatter",
         "x": {
          "bdata": "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",
          "dtype": "f8"
         },
         "xaxis": "x",
         "y": {
          "bdata": "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",
          "dtype": "f8"
         },
         "yaxis": "y"
        }
       ],
       "layout": {
        "legend": {
         "tracegroupgap": 0
        },
        "template": {
         "data": {
          "bar": [
           {
            "error_x": {
             "color": "#2a3f5f"
            },
            "error_y": {
             "color": "#2a3f5f"
            },
            "marker": {
             "line": {
              "color": "#E5ECF6",
              "width": 0.5
             },
             "pattern": {
              "fillmode": "overlay",
              "size": 10,
              "solidity": 0.2
             }
            },
            "type": "bar"
           }
          ],
          "barpolar": [
           {
            "marker": {
             "line": {
              "color": "#E5ECF6",
              "width": 0.5
             },
             "pattern": {
              "fillmode": "overlay",
              "size": 10,
              "solidity": 0.2
             }
            },
            "type": "barpolar"
           }
          ],
          "carpet": [
           {
            "aaxis": {
             "endlinecolor": "#2a3f5f",
             "gridcolor": "white",
             "linecolor": "white",
             "minorgridcolor": "white",
             "startlinecolor": "#2a3f5f"
            },
            "baxis": {
             "endlinecolor": "#2a3f5f",
             "gridcolor": "white",
             "linecolor": "white",
             "minorgridcolor": "white",
             "startlinecolor": "#2a3f5f"
            },
            "type": "carpet"
           }
          ],
          "choropleth": [
           {
            "colorbar": {
             "outlinewidth": 0,
             "ticks": ""
            },
            "type": "choropleth"
           }
          ],
          "contour": [
           {
            "colorbar": {
             "outlinewidth": 0,
             "ticks": ""
            },
            "colorscale": [
             [
              0,
              "#0d0887"
             ],
             [
              0.1111111111111111,
              "#46039f"
             ],
             [
              0.2222222222222222,
              "#7201a8"
             ],
             [
              0.3333333333333333,
              "#9c179e"
             ],
             [
              0.4444444444444444,
              "#bd3786"
             ],
             [
              0.5555555555555556,
              "#d8576b"
             ],
             [
              0.6666666666666666,
              "#ed7953"
             ],
             [
              0.7777777777777778,
              "#fb9f3a"
             ],
             [
              0.8888888888888888,
              "#fdca26"
             ],
             [
              1,
              "#f0f921"
             ]
            ],
            "type": "contour"
           }
          ],
          "contourcarpet": [
           {
            "colorbar": {
             "outlinewidth": 0,
             "ticks": ""
            },
            "type": "contourcarpet"
           }
          ],
          "heatmap": [
           {
            "colorbar": {
             "outlinewidth": 0,
             "ticks": ""
            },
            "colorscale": [
             [
              0,
              "#0d0887"
             ],
             [
              0.1111111111111111,
              "#46039f"
             ],
             [
              0.2222222222222222,
              "#7201a8"
             ],
             [
              0.3333333333333333,
              "#9c179e"
             ],
             [
              0.4444444444444444,
              "#bd3786"
             ],
             [
              0.5555555555555556,
              "#d8576b"
             ],
             [
              0.6666666666666666,
              "#ed7953"
             ],
             [
              0.7777777777777778,
              "#fb9f3a"
             ],
             [
              0.8888888888888888,
              "#fdca26"
             ],
             [
              1,
              "#f0f921"
             ]
            ],
            "type": "heatmap"
           }
          ],
          "histogram": [
           {
            "marker": {
             "pattern": {
              "fillmode": "overlay",
              "size": 10,
              "solidity": 0.2
             }
            },
            "type": "histogram"
           }
          ],
          "histogram2d": [
           {
            "colorbar": {
             "outlinewidth": 0,
             "ticks": ""
            },
            "colorscale": [
             [
              0,
              "#0d0887"
             ],
             [
              0.1111111111111111,
              "#46039f"
             ],
             [
              0.2222222222222222,
              "#7201a8"
             ],
             [
              0.3333333333333333,
              "#9c179e"
             ],
             [
              0.4444444444444444,
              "#bd3786"
             ],
             [
              0.5555555555555556,
              "#d8576b"
             ],
             [
              0.6666666666666666,
              "#ed7953"
             ],
             [
              0.7777777777777778,
              "#fb9f3a"
             ],
             [
              0.8888888888888888,
              "#fdca26"
             ],
             [
              1,
              "#f0f921"
             ]
            ],
            "type": "histogram2d"
           }
          ],
          "histogram2dcontour": [
           {
            "colorbar": {
             "outlinewidth": 0,
             "ticks": ""
            },
            "colorscale": [
             [
              0,
              "#0d0887"
             ],
             [
              0.1111111111111111,
              "#46039f"
             ],
             [
              0.2222222222222222,
              "#7201a8"
             ],
             [
              0.3333333333333333,
              "#9c179e"
             ],
             [
              0.4444444444444444,
              "#bd3786"
             ],
             [
              0.5555555555555556,
              "#d8576b"
             ],
             [
              0.6666666666666666,
              "#ed7953"
             ],
             [
              0.7777777777777778,
              "#fb9f3a"
             ],
             [
              0.8888888888888888,
              "#fdca26"
             ],
             [
              1,
              "#f0f921"
             ]
            ],
            "type": "histogram2dcontour"
           }
          ],
          "mesh3d": [
           {
            "colorbar": {
             "outlinewidth": 0,
             "ticks": ""
            },
            "type": "mesh3d"
           }
          ],
          "parcoords": [
           {
            "line": {
             "colorbar": {
              "outlinewidth": 0,
              "ticks": ""
             }
            },
            "type": "parcoords"
           }
          ],
          "pie": [
           {
            "automargin": true,
            "type": "pie"
           }
          ],
          "scatter": [
           {
            "fillpattern": {
             "fillmode": "overlay",
             "size": 10,
             "solidity": 0.2
            },
            "type": "scatter"
           }
          ],
          "scatter3d": [
           {
            "line": {
             "colorbar": {
              "outlinewidth": 0,
              "ticks": ""
             }
            },
            "marker": {
             "colorbar": {
              "outlinewidth": 0,
              "ticks": ""
             }
            },
            "type": "scatter3d"
           }
          ],
          "scattercarpet": [
           {
            "marker": {
             "colorbar": {
              "outlinewidth": 0,
              "ticks": ""
             }
            },
            "type": "scattercarpet"
           }
          ],
          "scattergeo": [
           {
            "marker": {
             "colorbar": {
              "outlinewidth": 0,
              "ticks": ""
             }
            },
            "type": "scattergeo"
           }
          ],
          "scattergl": [
           {
            "marker": {
             "colorbar": {
              "outlinewidth": 0,
              "ticks": ""
             }
            },
            "type": "scattergl"
           }
          ],
          "scattermap": [
           {
            "marker": {
             "colorbar": {
              "outlinewidth": 0,
              "ticks": ""
             }
            },
            "type": "scattermap"
           }
          ],
          "scattermapbox": [
           {
            "marker": {
             "colorbar": {
              "outlinewidth": 0,
              "ticks": ""
             }
            },
            "type": "scattermapbox"
           }
          ],
          "scatterpolar": [
           {
            "marker": {
             "colorbar": {
              "outlinewidth": 0,
              "ticks": ""
             }
            },
            "type": "scatterpolar"
           }
          ],
          "scatterpolargl": [
           {
            "marker": {
             "colorbar": {
              "outlinewidth": 0,
              "ticks": ""
             }
            },
            "type": "scatterpolargl"
           }
          ],
          "scatterternary": [
           {
            "marker": {
             "colorbar": {
              "outlinewidth": 0,
              "ticks": ""
             }
            },
            "type": "scatterternary"
           }
          ],
          "surface": [
           {
            "colorbar": {
             "outlinewidth": 0,
             "ticks": ""
            },
            "colorscale": [
             [
              0,
              "#0d0887"
             ],
             [
              0.1111111111111111,
              "#46039f"
             ],
             [
              0.2222222222222222,
              "#7201a8"
             ],
             [
              0.3333333333333333,
              "#9c179e"
             ],
             [
              0.4444444444444444,
              "#bd3786"
             ],
             [
              0.5555555555555556,
              "#d8576b"
             ],
             [
              0.6666666666666666,
              "#ed7953"
             ],
             [
              0.7777777777777778,
              "#fb9f3a"
             ],
             [
              0.8888888888888888,
              "#fdca26"
             ],
             [
              1,
              "#f0f921"
             ]
            ],
            "type": "surface"
           }
          ],
          "table": [
           {
            "cells": {
             "fill": {
              "color": "#EBF0F8"
             },
             "line": {
              "color": "white"
             }
            },
            "header": {
             "fill": {
              "color": "#C8D4E3"
             },
             "line": {
              "color": "white"
             }
            },
            "type": "table"
           }
          ]
         },
         "layout": {
          "annotationdefaults": {
           "arrowcolor": "#2a3f5f",
           "arrowhead": 0,
           "arrowwidth": 1
          },
          "autotypenumbers": "strict",
          "coloraxis": {
           "colorbar": {
            "outlinewidth": 0,
            "ticks": ""
           }
          },
          "colorscale": {
           "diverging": [
            [
             0,
             "#8e0152"
            ],
            [
             0.1,
             "#c51b7d"
            ],
            [
             0.2,
             "#de77ae"
            ],
            [
             0.3,
             "#f1b6da"
            ],
            [
             0.4,
             "#fde0ef"
            ],
            [
             0.5,
             "#f7f7f7"
            ],
            [
             0.6,
             "#e6f5d0"
            ],
            [
             0.7,
             "#b8e186"
            ],
            [
             0.8,
             "#7fbc41"
            ],
            [
             0.9,
             "#4d9221"
            ],
            [
             1,
             "#276419"
            ]
           ],
           "sequential": [
            [
             0,
             "#0d0887"
            ],
            [
             0.1111111111111111,
             "#46039f"
            ],
            [
             0.2222222222222222,
             "#7201a8"
            ],
            [
             0.3333333333333333,
             "#9c179e"
            ],
            [
             0.4444444444444444,
             "#bd3786"
            ],
            [
             0.5555555555555556,
             "#d8576b"
            ],
            [
             0.6666666666666666,
             "#ed7953"
            ],
            [
             0.7777777777777778,
             "#fb9f3a"
            ],
            [
             0.8888888888888888,
             "#fdca26"
            ],
            [
             1,
             "#f0f921"
            ]
           ],
           "sequentialminus": [
            [
             0,
             "#0d0887"
            ],
            [
             0.1111111111111111,
             "#46039f"
            ],
            [
             0.2222222222222222,
             "#7201a8"
            ],
            [
             0.3333333333333333,
             "#9c179e"
            ],
            [
             0.4444444444444444,
             "#bd3786"
            ],
            [
             0.5555555555555556,
             "#d8576b"
            ],
            [
             0.6666666666666666,
             "#ed7953"
            ],
            [
             0.7777777777777778,
             "#fb9f3a"
            ],
            [
             0.8888888888888888,
             "#fdca26"
            ],
            [
             1,
             "#f0f921"
            ]
           ]
          },
          "colorway": [
           "#636efa",
           "#EF553B",
           "#00cc96",
           "#ab63fa",
           "#FFA15A",
           "#19d3f3",
           "#FF6692",
           "#B6E880",
           "#FF97FF",
           "#FECB52"
          ],
          "font": {
           "color": "#2a3f5f"
          },
          "geo": {
           "bgcolor": "white",
           "lakecolor": "white",
           "landcolor": "#E5ECF6",
           "showlakes": true,
           "showland": true,
           "subunitcolor": "white"
          },
          "hoverlabel": {
           "align": "left"
          },
          "hovermode": "closest",
          "mapbox": {
           "style": "light"
          },
          "paper_bgcolor": "white",
          "plot_bgcolor": "#E5ECF6",
          "polar": {
           "angularaxis": {
            "gridcolor": "white",
            "linecolor": "white",
            "ticks": ""
           },
           "bgcolor": "#E5ECF6",
           "radialaxis": {
            "gridcolor": "white",
            "linecolor": "white",
            "ticks": ""
           }
          },
          "scene": {
           "xaxis": {
            "backgroundcolor": "#E5ECF6",
            "gridcolor": "white",
            "gridwidth": 2,
            "linecolor": "white",
            "showbackground": true,
            "ticks": "",
            "zerolinecolor": "white"
           },
           "yaxis": {
            "backgroundcolor": "#E5ECF6",
            "gridcolor": "white",
            "gridwidth": 2,
            "linecolor": "white",
            "showbackground": true,
            "ticks": "",
            "zerolinecolor": "white"
           },
           "zaxis": {
            "backgroundcolor": "#E5ECF6",
            "gridcolor": "white",
            "gridwidth": 2,
            "linecolor": "white",
            "showbackground": true,
            "ticks": "",
            "zerolinecolor": "white"
           }
          },
          "shapedefaults": {
           "line": {
            "color": "#2a3f5f"
           }
          },
          "ternary": {
           "aaxis": {
            "gridcolor": "white",
            "linecolor": "white",
            "ticks": ""
           },
           "baxis": {
            "gridcolor": "white",
            "linecolor": "white",
            "ticks": ""
           },
           "bgcolor": "#E5ECF6",
           "caxis": {
            "gridcolor": "white",
            "linecolor": "white",
            "ticks": ""
           }
          },
          "title": {
           "x": 0.05
          },
          "xaxis": {
           "automargin": true,
           "gridcolor": "white",
           "linecolor": "white",
           "ticks": "",
           "title": {
            "standoff": 15
           },
           "zerolinecolor": "white",
           "zerolinewidth": 2
          },
          "yaxis": {
           "automargin": true,
           "gridcolor": "white",
           "linecolor": "white",
           "ticks": "",
           "title": {
            "standoff": 15
           },
           "zerolinecolor": "white",
           "zerolinewidth": 2
          }
         }
        },
        "title": {
         "text": "Relationship Between Historical Cost of Ride and Number of Riders"
        },
        "xaxis": {
         "anchor": "y",
         "domain": [
          0,
          1
         ],
         "title": {
          "text": "Historical_Cost_of_Ride"
         }
        },
        "yaxis": {
         "anchor": "x",
         "domain": [
          0,
          1
         ],
         "title": {
          "text": "Number_of_Riders"
         }
        }
       }
      }
     },
     "metadata": {},
     "output_type": "display_data"
    }
   ],
   "source": [
    "figure = plx.scatter( data, x=\"Historical_Cost_of_Ride\",\n",
    "                     y= \"Number_of_Riders\",\n",
    "                     title = \"Relationship Between Historical Cost of Ride and Number of Riders\",\n",
    "                     trendline = 'ols')\n",
    "figure.show()"
   ]
  },
  {
   "cell_type": "markdown",
   "metadata": {},
   "source": [
    "Relationship Between Historical Cost of Ride and Number ofDrivers"
   ]
  },
  {
   "cell_type": "code",
   "execution_count": 25,
   "metadata": {},
   "outputs": [
    {
     "data": {
      "application/vnd.plotly.v1+json": {
       "config": {
        "plotlyServerURL": "https://plot.ly"
       },
       "data": [
        {
         "hovertemplate": "Historical_Cost_of_Ride=%{x}<br>Number_of_Drivers=%{y}<extra></extra>",
         "legendgroup": "",
         "marker": {
          "color": "#636efa",
          "symbol": "circle"
         },
         "mode": "markers",
         "name": "",
         "orientation": "v",
         "showlegend": false,
         "type": "scatter",
         "x": {
          "bdata": "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",
          "dtype": "f8"
         },
         "xaxis": "x",
         "y": {
          "bdata": "LScfHBYjKycOBhEmCBgNDBwOBwctCxAMEw0hSyEmBzgJGCArCw8GERIKUQkhCiEdHAYIDgpUEDcUGQ8LFicUC0AXHSgaDhFJECUrCRYNLQ8WDhcZBiJFIgYnECYSFQcsDR4RIx0qIgUvGDgIEw8HKjgTEjEQIBczFg0SCQ8VDzgwHA0oBiQNHR8cDC5QKgksChYfEBMJIS0NBRcdOyANDBQRIiQOGjAiJCIHKSEIBR4lDRQRBRMqBhIRHCcRCCAMChoJMjEHHQYdIxoiFAkWEjkMFTsIFh4yBUcFHD4bKgcXBw4oFxkkQAUUOxcTHRY/QzciHkAaBQs5DwcMJQwHCSUhFy4rHUsYKB5DCBgJDRUfDgwMFS0ICxYOGRNDRTwZCS4PDDgXUAYfGSoHODYHIwYGDgYLCCceCUsjCBwwJSA2EBwTMyMUEhsFNQ1CGwpHGAc4DgoYEhAHCRgVKxU2JkIOJTQqIhUIHgkLSwgJQBQ3DRcLHiojBggyCB0LBxY4SAolBxoXDz4mIwwiI0ISIQsPOA8QGCsKDgclDh0VLxsGCyQWHi0OGSUNKRUgCw0ZDQYLCx4mHSYqNQ4JDiYYNwobBgguE0wcJQ8bHy1JCwooDCErDyQhQEFBOQoWDBwxJB4TEhwGBz8FBwYNCgwiB0cHIhwJJQUGIQcfBw0GLw0GNjILIyMpBgUIBhcHBRAVLSAUByg2FwgtPhIIBzEeNiAIJgcoDhoHRz8iFwwXEDgGEBoUPw4UCggFDyoFFhI6HBwaChsdCRkHBwUVDwgJJRRCBwlMFBdDDwwWShANEBM9DAkSDzAzLxJKMA0wJw0NPTwGCi8oRi0dNSU9ByAzJhk3FUcWCCIwNwwNBR1MHAcRKjVLDRQLV0wNFikYCy4GDzMPHwsGFwg3CCgJExAWGQUHFR8aEkEwGBIHBwcFLg8LHBoFKAg2CUAWNUURDhUbCCIOIyMUBgcYKQYsEBRREkMSCQYHFCYJEgYLHyQJGhgKChkGEgccOyYMFw8GGwYPEDAJBzkeBggoCy4mBT8JPBIjHggSGQ4QBhEILQcOHwoyOk0UOggjBwsWFxITTTgZMggpCzhZCFUmEhYFNQYRCyIMCBVADjALQAoULBAQFhw7CQsdFCclFhMQOgcQMwsdDy4GRgoODBMFBwoJVw4NDAgbSglGCRYYLQ4WGAwMHTYbBgoZIwURFB49CyUMJBQKQwkMDCcpLg0IOzsOGBsQChMKH0kQJAgfMSVHLwY2DgkIJFIHRwoSEAUNCAcQEA0KLA8xJAw7EkkhBwdFChkaNj49GR0KBSMJBw0HGhEaJxgfEg4XHQYbPw==",
          "dtype": "i1"
         },
         "yaxis": "y"
        },
        {
         "hovertemplate": "<b>OLS trendline</b><br>Number_of_Drivers = 0.00174034 * Historical_Cost_of_Ride + 26.4277<br>R<sup>2</sup>=0.000292<br><br>Historical_Cost_of_Ride=%{x}<br>Number_of_Drivers=%{y} <b>(trend)</b><extra></extra>",
         "legendgroup": "",
         "marker": {
          "color": "#636efa",
          "symbol": "circle"
         },
         "mode": "lines",
         "name": "",
         "showlegend": false,
         "type": "scatter",
         "x": {
          "bdata": "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",
          "dtype": "f8"
         },
         "xaxis": "x",
         "y": {
          "bdata": "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",
          "dtype": "f8"
         },
         "yaxis": "y"
        }
       ],
       "layout": {
        "legend": {
         "tracegroupgap": 0
        },
        "template": {
         "data": {
          "bar": [
           {
            "error_x": {
             "color": "#2a3f5f"
            },
            "error_y": {
             "color": "#2a3f5f"
            },
            "marker": {
             "line": {
              "color": "#E5ECF6",
              "width": 0.5
             },
             "pattern": {
              "fillmode": "overlay",
              "size": 10,
              "solidity": 0.2
             }
            },
            "type": "bar"
           }
          ],
          "barpolar": [
           {
            "marker": {
             "line": {
              "color": "#E5ECF6",
              "width": 0.5
             },
             "pattern": {
              "fillmode": "overlay",
              "size": 10,
              "solidity": 0.2
             }
            },
            "type": "barpolar"
           }
          ],
          "carpet": [
           {
            "aaxis": {
             "endlinecolor": "#2a3f5f",
             "gridcolor": "white",
             "linecolor": "white",
             "minorgridcolor": "white",
             "startlinecolor": "#2a3f5f"
            },
            "baxis": {
             "endlinecolor": "#2a3f5f",
             "gridcolor": "white",
             "linecolor": "white",
             "minorgridcolor": "white",
             "startlinecolor": "#2a3f5f"
            },
            "type": "carpet"
           }
          ],
          "choropleth": [
           {
            "colorbar": {
             "outlinewidth": 0,
             "ticks": ""
            },
            "type": "choropleth"
           }
          ],
          "contour": [
           {
            "colorbar": {
             "outlinewidth": 0,
             "ticks": ""
            },
            "colorscale": [
             [
              0,
              "#0d0887"
             ],
             [
              0.1111111111111111,
              "#46039f"
             ],
             [
              0.2222222222222222,
              "#7201a8"
             ],
             [
              0.3333333333333333,
              "#9c179e"
             ],
             [
              0.4444444444444444,
              "#bd3786"
             ],
             [
              0.5555555555555556,
              "#d8576b"
             ],
             [
              0.6666666666666666,
              "#ed7953"
             ],
             [
              0.7777777777777778,
              "#fb9f3a"
             ],
             [
              0.8888888888888888,
              "#fdca26"
             ],
             [
              1,
              "#f0f921"
             ]
            ],
            "type": "contour"
           }
          ],
          "contourcarpet": [
           {
            "colorbar": {
             "outlinewidth": 0,
             "ticks": ""
            },
            "type": "contourcarpet"
           }
          ],
          "heatmap": [
           {
            "colorbar": {
             "outlinewidth": 0,
             "ticks": ""
            },
            "colorscale": [
             [
              0,
              "#0d0887"
             ],
             [
              0.1111111111111111,
              "#46039f"
             ],
             [
              0.2222222222222222,
              "#7201a8"
             ],
             [
              0.3333333333333333,
              "#9c179e"
             ],
             [
              0.4444444444444444,
              "#bd3786"
             ],
             [
              0.5555555555555556,
              "#d8576b"
             ],
             [
              0.6666666666666666,
              "#ed7953"
             ],
             [
              0.7777777777777778,
              "#fb9f3a"
             ],
             [
              0.8888888888888888,
              "#fdca26"
             ],
             [
              1,
              "#f0f921"
             ]
            ],
            "type": "heatmap"
           }
          ],
          "histogram": [
           {
            "marker": {
             "pattern": {
              "fillmode": "overlay",
              "size": 10,
              "solidity": 0.2
             }
            },
            "type": "histogram"
           }
          ],
          "histogram2d": [
           {
            "colorbar": {
             "outlinewidth": 0,
             "ticks": ""
            },
            "colorscale": [
             [
              0,
              "#0d0887"
             ],
             [
              0.1111111111111111,
              "#46039f"
             ],
             [
              0.2222222222222222,
              "#7201a8"
             ],
             [
              0.3333333333333333,
              "#9c179e"
             ],
             [
              0.4444444444444444,
              "#bd3786"
             ],
             [
              0.5555555555555556,
              "#d8576b"
             ],
             [
              0.6666666666666666,
              "#ed7953"
             ],
             [
              0.7777777777777778,
              "#fb9f3a"
             ],
             [
              0.8888888888888888,
              "#fdca26"
             ],
             [
              1,
              "#f0f921"
             ]
            ],
            "type": "histogram2d"
           }
          ],
          "histogram2dcontour": [
           {
            "colorbar": {
             "outlinewidth": 0,
             "ticks": ""
            },
            "colorscale": [
             [
              0,
              "#0d0887"
             ],
             [
              0.1111111111111111,
              "#46039f"
             ],
             [
              0.2222222222222222,
              "#7201a8"
             ],
             [
              0.3333333333333333,
              "#9c179e"
             ],
             [
              0.4444444444444444,
              "#bd3786"
             ],
             [
              0.5555555555555556,
              "#d8576b"
             ],
             [
              0.6666666666666666,
              "#ed7953"
             ],
             [
              0.7777777777777778,
              "#fb9f3a"
             ],
             [
              0.8888888888888888,
              "#fdca26"
             ],
             [
              1,
              "#f0f921"
             ]
            ],
            "type": "histogram2dcontour"
           }
          ],
          "mesh3d": [
           {
            "colorbar": {
             "outlinewidth": 0,
             "ticks": ""
            },
            "type": "mesh3d"
           }
          ],
          "parcoords": [
           {
            "line": {
             "colorbar": {
              "outlinewidth": 0,
              "ticks": ""
             }
            },
            "type": "parcoords"
           }
          ],
          "pie": [
           {
            "automargin": true,
            "type": "pie"
           }
          ],
          "scatter": [
           {
            "fillpattern": {
             "fillmode": "overlay",
             "size": 10,
             "solidity": 0.2
            },
            "type": "scatter"
           }
          ],
          "scatter3d": [
           {
            "line": {
             "colorbar": {
              "outlinewidth": 0,
              "ticks": ""
             }
            },
            "marker": {
             "colorbar": {
              "outlinewidth": 0,
              "ticks": ""
             }
            },
            "type": "scatter3d"
           }
          ],
          "scattercarpet": [
           {
            "marker": {
             "colorbar": {
              "outlinewidth": 0,
              "ticks": ""
             }
            },
            "type": "scattercarpet"
           }
          ],
          "scattergeo": [
           {
            "marker": {
             "colorbar": {
              "outlinewidth": 0,
              "ticks": ""
             }
            },
            "type": "scattergeo"
           }
          ],
          "scattergl": [
           {
            "marker": {
             "colorbar": {
              "outlinewidth": 0,
              "ticks": ""
             }
            },
            "type": "scattergl"
           }
          ],
          "scattermap": [
           {
            "marker": {
             "colorbar": {
              "outlinewidth": 0,
              "ticks": ""
             }
            },
            "type": "scattermap"
           }
          ],
          "scattermapbox": [
           {
            "marker": {
             "colorbar": {
              "outlinewidth": 0,
              "ticks": ""
             }
            },
            "type": "scattermapbox"
           }
          ],
          "scatterpolar": [
           {
            "marker": {
             "colorbar": {
              "outlinewidth": 0,
              "ticks": ""
             }
            },
            "type": "scatterpolar"
           }
          ],
          "scatterpolargl": [
           {
            "marker": {
             "colorbar": {
              "outlinewidth": 0,
              "ticks": ""
             }
            },
            "type": "scatterpolargl"
           }
          ],
          "scatterternary": [
           {
            "marker": {
             "colorbar": {
              "outlinewidth": 0,
              "ticks": ""
             }
            },
            "type": "scatterternary"
           }
          ],
          "surface": [
           {
            "colorbar": {
             "outlinewidth": 0,
             "ticks": ""
            },
            "colorscale": [
             [
              0,
              "#0d0887"
             ],
             [
              0.1111111111111111,
              "#46039f"
             ],
             [
              0.2222222222222222,
              "#7201a8"
             ],
             [
              0.3333333333333333,
              "#9c179e"
             ],
             [
              0.4444444444444444,
              "#bd3786"
             ],
             [
              0.5555555555555556,
              "#d8576b"
             ],
             [
              0.6666666666666666,
              "#ed7953"
             ],
             [
              0.7777777777777778,
              "#fb9f3a"
             ],
             [
              0.8888888888888888,
              "#fdca26"
             ],
             [
              1,
              "#f0f921"
             ]
            ],
            "type": "surface"
           }
          ],
          "table": [
           {
            "cells": {
             "fill": {
              "color": "#EBF0F8"
             },
             "line": {
              "color": "white"
             }
            },
            "header": {
             "fill": {
              "color": "#C8D4E3"
             },
             "line": {
              "color": "white"
             }
            },
            "type": "table"
           }
          ]
         },
         "layout": {
          "annotationdefaults": {
           "arrowcolor": "#2a3f5f",
           "arrowhead": 0,
           "arrowwidth": 1
          },
          "autotypenumbers": "strict",
          "coloraxis": {
           "colorbar": {
            "outlinewidth": 0,
            "ticks": ""
           }
          },
          "colorscale": {
           "diverging": [
            [
             0,
             "#8e0152"
            ],
            [
             0.1,
             "#c51b7d"
            ],
            [
             0.2,
             "#de77ae"
            ],
            [
             0.3,
             "#f1b6da"
            ],
            [
             0.4,
             "#fde0ef"
            ],
            [
             0.5,
             "#f7f7f7"
            ],
            [
             0.6,
             "#e6f5d0"
            ],
            [
             0.7,
             "#b8e186"
            ],
            [
             0.8,
             "#7fbc41"
            ],
            [
             0.9,
             "#4d9221"
            ],
            [
             1,
             "#276419"
            ]
           ],
           "sequential": [
            [
             0,
             "#0d0887"
            ],
            [
             0.1111111111111111,
             "#46039f"
            ],
            [
             0.2222222222222222,
             "#7201a8"
            ],
            [
             0.3333333333333333,
             "#9c179e"
            ],
            [
             0.4444444444444444,
             "#bd3786"
            ],
            [
             0.5555555555555556,
             "#d8576b"
            ],
            [
             0.6666666666666666,
             "#ed7953"
            ],
            [
             0.7777777777777778,
             "#fb9f3a"
            ],
            [
             0.8888888888888888,
             "#fdca26"
            ],
            [
             1,
             "#f0f921"
            ]
           ],
           "sequentialminus": [
            [
             0,
             "#0d0887"
            ],
            [
             0.1111111111111111,
             "#46039f"
            ],
            [
             0.2222222222222222,
             "#7201a8"
            ],
            [
             0.3333333333333333,
             "#9c179e"
            ],
            [
             0.4444444444444444,
             "#bd3786"
            ],
            [
             0.5555555555555556,
             "#d8576b"
            ],
            [
             0.6666666666666666,
             "#ed7953"
            ],
            [
             0.7777777777777778,
             "#fb9f3a"
            ],
            [
             0.8888888888888888,
             "#fdca26"
            ],
            [
             1,
             "#f0f921"
            ]
           ]
          },
          "colorway": [
           "#636efa",
           "#EF553B",
           "#00cc96",
           "#ab63fa",
           "#FFA15A",
           "#19d3f3",
           "#FF6692",
           "#B6E880",
           "#FF97FF",
           "#FECB52"
          ],
          "font": {
           "color": "#2a3f5f"
          },
          "geo": {
           "bgcolor": "white",
           "lakecolor": "white",
           "landcolor": "#E5ECF6",
           "showlakes": true,
           "showland": true,
           "subunitcolor": "white"
          },
          "hoverlabel": {
           "align": "left"
          },
          "hovermode": "closest",
          "mapbox": {
           "style": "light"
          },
          "paper_bgcolor": "white",
          "plot_bgcolor": "#E5ECF6",
          "polar": {
           "angularaxis": {
            "gridcolor": "white",
            "linecolor": "white",
            "ticks": ""
           },
           "bgcolor": "#E5ECF6",
           "radialaxis": {
            "gridcolor": "white",
            "linecolor": "white",
            "ticks": ""
           }
          },
          "scene": {
           "xaxis": {
            "backgroundcolor": "#E5ECF6",
            "gridcolor": "white",
            "gridwidth": 2,
            "linecolor": "white",
            "showbackground": true,
            "ticks": "",
            "zerolinecolor": "white"
           },
           "yaxis": {
            "backgroundcolor": "#E5ECF6",
            "gridcolor": "white",
            "gridwidth": 2,
            "linecolor": "white",
            "showbackground": true,
            "ticks": "",
            "zerolinecolor": "white"
           },
           "zaxis": {
            "backgroundcolor": "#E5ECF6",
            "gridcolor": "white",
            "gridwidth": 2,
            "linecolor": "white",
            "showbackground": true,
            "ticks": "",
            "zerolinecolor": "white"
           }
          },
          "shapedefaults": {
           "line": {
            "color": "#2a3f5f"
           }
          },
          "ternary": {
           "aaxis": {
            "gridcolor": "white",
            "linecolor": "white",
            "ticks": ""
           },
           "baxis": {
            "gridcolor": "white",
            "linecolor": "white",
            "ticks": ""
           },
           "bgcolor": "#E5ECF6",
           "caxis": {
            "gridcolor": "white",
            "linecolor": "white",
            "ticks": ""
           }
          },
          "title": {
           "x": 0.05
          },
          "xaxis": {
           "automargin": true,
           "gridcolor": "white",
           "linecolor": "white",
           "ticks": "",
           "title": {
            "standoff": 15
           },
           "zerolinecolor": "white",
           "zerolinewidth": 2
          },
          "yaxis": {
           "automargin": true,
           "gridcolor": "white",
           "linecolor": "white",
           "ticks": "",
           "title": {
            "standoff": 15
           },
           "zerolinecolor": "white",
           "zerolinewidth": 2
          }
         }
        },
        "title": {
         "text": "Relationship Between Historical Cost of Ride and Number ofDrivers"
        },
        "xaxis": {
         "anchor": "y",
         "domain": [
          0,
          1
         ],
         "title": {
          "text": "Historical_Cost_of_Ride"
         }
        },
        "yaxis": {
         "anchor": "x",
         "domain": [
          0,
          1
         ],
         "title": {
          "text": "Number_of_Drivers"
         }
        }
       }
      }
     },
     "metadata": {},
     "output_type": "display_data"
    }
   ],
   "source": [
    "figure = plx.scatter( data, x=\"Historical_Cost_of_Ride\",\n",
    "                     y= \"Number_of_Drivers\",\n",
    "                     title = \"Relationship Between Historical Cost of Ride and Number ofDrivers\",\n",
    "                     trendline = 'ols')\n",
    "figure.show()"
   ]
  },
  {
   "cell_type": "markdown",
   "metadata": {},
   "source": [
    "Relationship Between Historical Cost of Ride and Number of Past Rides"
   ]
  },
  {
   "cell_type": "code",
   "execution_count": 26,
   "metadata": {},
   "outputs": [
    {
     "data": {
      "application/vnd.plotly.v1+json": {
       "config": {
        "plotlyServerURL": "https://plot.ly"
       },
       "data": [
        {
         "hovertemplate": "Historical_Cost_of_Ride=%{x}<br>Number_of_Past_Rides=%{y}<extra></extra>",
         "legendgroup": "",
         "marker": {
          "color": "#636efa",
          "symbol": "circle"
         },
         "mode": "markers",
         "name": "",
         "orientation": "v",
         "showlegend": false,
         "type": "scatter",
         "x": {
          "bdata": "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",
          "dtype": "f8"
         },
         "xaxis": "x",
         "y": {
          "bdata": "DUgAQ0pTLFNHFWMPMlhKHiMVMRgGTwYKSCRCTCc2DV4nSSJhNEECDlg3NFkjGTxDUw8bEEYSKF4sSA4hTDFYAlspSE1gUA89CFYcMTFgUiJDVydGAhJYIRcXHyhUUigUFTlcLhoYExoDGQtTM1o6WD9WRCAvKCI4Dx9kCiM7ChEMFiAwOEBQTgwfD2FKS0lFHE8+SVkCUkFUADBUVAIgKjkKYjceOyVSEl9MVyg5UCJAKlwCJyUAIjUHSF5ORWJUTRVDB2NkDFoGQjZiUE0LWgUJPUMBIlYHWVgYFjY+WERYQEpPKgIBGjtYCAAYAC0ZODgKUAc/XRciWhYzCmMYBgcQCCMUAg8nOmMNJSxKGBQNOTtPFE4zE1IBE0AVVjk9SQgvQD0TLytbVSQ5STUNHQVBEkoLDAscHkwtSjFfYBRgUVlKDAsVPQhQIS0bViEDVTlHN2IRTmAfIQMXSVUQH1phIg9MQhxDIBJYWCkyPjNbXS0KSlUFHR4UIFoSMEhDGSQvHwApHz5AASIBLxY+PyU1MSdLWD4oCjVeE0MkGmQYARQcQwZiHikfDFgzXCYVVxlGHjwNQi1fTQhAEB0FN1AzEgcqI1RJCg4VIFhOODYJXDUvHUUpRUkoUEsZDz8qZC0vMjsXWjgRW0EEOyZUOjRcEB4NOzM8Ri4AQTU1STIPO1NjACMzVUVORUBJERtNO1wqGl06LjkqMEEbEA8aWyYvYwRAJg9XUyohNUU6WUIXGkVhSDthVjQIPgtRGhsZCAZcQWIzC19VGAJIQygmNWEaIkcjKjNQPjYJKThjXUdkRjonC15LQSIHKUgPJ1I8VgINL2ROVhZSQy9PHENhW1dQKzAcTlcNNioIW1waBkRMJjwKLC0BV0pDEjAoSDNdXxFYQ1ZAYBIBGRpbNkQJFUsGMSAfPCtYU05iGzdcJA8BG001PRUBRD4HOllOTWFkKGAcCCELXE8jH0o9UkcPLiIMQUsPNF8wEFJCCTw5Sgs+HCALRhYiJycBR1glPjBgUgtYNw0ZMCcNYUpfZBg2UVBfBwsPLAI/OxVPVzNQBgo2AQxEAUUjAV0aBmQRZDgaWDBgJ1Y/BDtkBz9LBjZUEmM2Ow1OITRZIjwmThhbPD03JmFESj4lYRAIVVkfRC5DZFwYKhslHjgwVRIkO0BLMQ0IUhoVNRESWhg1NwNgI0RMMRZZBDlHPmEMHwMnKzsYMBgsUFJhNzYrR0RLADdQBS1PQF9eOUQ2CRsqBlwiGBYmKTANJThYHAcGQQIhACIaGw9cSBkeQxQER2BeM0gwMDRbGh1hBgMFNg4LXEMjWE8COlcYXFBODg==",
          "dtype": "i1"
         },
         "yaxis": "y"
        },
        {
         "hovertemplate": "<b>OLS trendline</b><br>Number_of_Past_Rides = 0.00561637 * Historical_Cost_of_Ride + 47.9389<br>R<sup>2</sup>=0.001286<br><br>Historical_Cost_of_Ride=%{x}<br>Number_of_Past_Rides=%{y} <b>(trend)</b><extra></extra>",
         "legendgroup": "",
         "marker": {
          "color": "#636efa",
          "symbol": "circle"
         },
         "mode": "lines",
         "name": "",
         "showlegend": false,
         "type": "scatter",
         "x": {
          "bdata": "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",
          "dtype": "f8"
         },
         "xaxis": "x",
         "y": {
          "bdata": "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",
          "dtype": "f8"
         },
         "yaxis": "y"
        }
       ],
       "layout": {
        "legend": {
         "tracegroupgap": 0
        },
        "template": {
         "data": {
          "bar": [
           {
            "error_x": {
             "color": "#2a3f5f"
            },
            "error_y": {
             "color": "#2a3f5f"
            },
            "marker": {
             "line": {
              "color": "#E5ECF6",
              "width": 0.5
             },
             "pattern": {
              "fillmode": "overlay",
              "size": 10,
              "solidity": 0.2
             }
            },
            "type": "bar"
           }
          ],
          "barpolar": [
           {
            "marker": {
             "line": {
              "color": "#E5ECF6",
              "width": 0.5
             },
             "pattern": {
              "fillmode": "overlay",
              "size": 10,
              "solidity": 0.2
             }
            },
            "type": "barpolar"
           }
          ],
          "carpet": [
           {
            "aaxis": {
             "endlinecolor": "#2a3f5f",
             "gridcolor": "white",
             "linecolor": "white",
             "minorgridcolor": "white",
             "startlinecolor": "#2a3f5f"
            },
            "baxis": {
             "endlinecolor": "#2a3f5f",
             "gridcolor": "white",
             "linecolor": "white",
             "minorgridcolor": "white",
             "startlinecolor": "#2a3f5f"
            },
            "type": "carpet"
           }
          ],
          "choropleth": [
           {
            "colorbar": {
             "outlinewidth": 0,
             "ticks": ""
            },
            "type": "choropleth"
           }
          ],
          "contour": [
           {
            "colorbar": {
             "outlinewidth": 0,
             "ticks": ""
            },
            "colorscale": [
             [
              0,
              "#0d0887"
             ],
             [
              0.1111111111111111,
              "#46039f"
             ],
             [
              0.2222222222222222,
              "#7201a8"
             ],
             [
              0.3333333333333333,
              "#9c179e"
             ],
             [
              0.4444444444444444,
              "#bd3786"
             ],
             [
              0.5555555555555556,
              "#d8576b"
             ],
             [
              0.6666666666666666,
              "#ed7953"
             ],
             [
              0.7777777777777778,
              "#fb9f3a"
             ],
             [
              0.8888888888888888,
              "#fdca26"
             ],
             [
              1,
              "#f0f921"
             ]
            ],
            "type": "contour"
           }
          ],
          "contourcarpet": [
           {
            "colorbar": {
             "outlinewidth": 0,
             "ticks": ""
            },
            "type": "contourcarpet"
           }
          ],
          "heatmap": [
           {
            "colorbar": {
             "outlinewidth": 0,
             "ticks": ""
            },
            "colorscale": [
             [
              0,
              "#0d0887"
             ],
             [
              0.1111111111111111,
              "#46039f"
             ],
             [
              0.2222222222222222,
              "#7201a8"
             ],
             [
              0.3333333333333333,
              "#9c179e"
             ],
             [
              0.4444444444444444,
              "#bd3786"
             ],
             [
              0.5555555555555556,
              "#d8576b"
             ],
             [
              0.6666666666666666,
              "#ed7953"
             ],
             [
              0.7777777777777778,
              "#fb9f3a"
             ],
             [
              0.8888888888888888,
              "#fdca26"
             ],
             [
              1,
              "#f0f921"
             ]
            ],
            "type": "heatmap"
           }
          ],
          "histogram": [
           {
            "marker": {
             "pattern": {
              "fillmode": "overlay",
              "size": 10,
              "solidity": 0.2
             }
            },
            "type": "histogram"
           }
          ],
          "histogram2d": [
           {
            "colorbar": {
             "outlinewidth": 0,
             "ticks": ""
            },
            "colorscale": [
             [
              0,
              "#0d0887"
             ],
             [
              0.1111111111111111,
              "#46039f"
             ],
             [
              0.2222222222222222,
              "#7201a8"
             ],
             [
              0.3333333333333333,
              "#9c179e"
             ],
             [
              0.4444444444444444,
              "#bd3786"
             ],
             [
              0.5555555555555556,
              "#d8576b"
             ],
             [
              0.6666666666666666,
              "#ed7953"
             ],
             [
              0.7777777777777778,
              "#fb9f3a"
             ],
             [
              0.8888888888888888,
              "#fdca26"
             ],
             [
              1,
              "#f0f921"
             ]
            ],
            "type": "histogram2d"
           }
          ],
          "histogram2dcontour": [
           {
            "colorbar": {
             "outlinewidth": 0,
             "ticks": ""
            },
            "colorscale": [
             [
              0,
              "#0d0887"
             ],
             [
              0.1111111111111111,
              "#46039f"
             ],
             [
              0.2222222222222222,
              "#7201a8"
             ],
             [
              0.3333333333333333,
              "#9c179e"
             ],
             [
              0.4444444444444444,
              "#bd3786"
             ],
             [
              0.5555555555555556,
              "#d8576b"
             ],
             [
              0.6666666666666666,
              "#ed7953"
             ],
             [
              0.7777777777777778,
              "#fb9f3a"
             ],
             [
              0.8888888888888888,
              "#fdca26"
             ],
             [
              1,
              "#f0f921"
             ]
            ],
            "type": "histogram2dcontour"
           }
          ],
          "mesh3d": [
           {
            "colorbar": {
             "outlinewidth": 0,
             "ticks": ""
            },
            "type": "mesh3d"
           }
          ],
          "parcoords": [
           {
            "line": {
             "colorbar": {
              "outlinewidth": 0,
              "ticks": ""
             }
            },
            "type": "parcoords"
           }
          ],
          "pie": [
           {
            "automargin": true,
            "type": "pie"
           }
          ],
          "scatter": [
           {
            "fillpattern": {
             "fillmode": "overlay",
             "size": 10,
             "solidity": 0.2
            },
            "type": "scatter"
           }
          ],
          "scatter3d": [
           {
            "line": {
             "colorbar": {
              "outlinewidth": 0,
              "ticks": ""
             }
            },
            "marker": {
             "colorbar": {
              "outlinewidth": 0,
              "ticks": ""
             }
            },
            "type": "scatter3d"
           }
          ],
          "scattercarpet": [
           {
            "marker": {
             "colorbar": {
              "outlinewidth": 0,
              "ticks": ""
             }
            },
            "type": "scattercarpet"
           }
          ],
          "scattergeo": [
           {
            "marker": {
             "colorbar": {
              "outlinewidth": 0,
              "ticks": ""
             }
            },
            "type": "scattergeo"
           }
          ],
          "scattergl": [
           {
            "marker": {
             "colorbar": {
              "outlinewidth": 0,
              "ticks": ""
             }
            },
            "type": "scattergl"
           }
          ],
          "scattermap": [
           {
            "marker": {
             "colorbar": {
              "outlinewidth": 0,
              "ticks": ""
             }
            },
            "type": "scattermap"
           }
          ],
          "scattermapbox": [
           {
            "marker": {
             "colorbar": {
              "outlinewidth": 0,
              "ticks": ""
             }
            },
            "type": "scattermapbox"
           }
          ],
          "scatterpolar": [
           {
            "marker": {
             "colorbar": {
              "outlinewidth": 0,
              "ticks": ""
             }
            },
            "type": "scatterpolar"
           }
          ],
          "scatterpolargl": [
           {
            "marker": {
             "colorbar": {
              "outlinewidth": 0,
              "ticks": ""
             }
            },
            "type": "scatterpolargl"
           }
          ],
          "scatterternary": [
           {
            "marker": {
             "colorbar": {
              "outlinewidth": 0,
              "ticks": ""
             }
            },
            "type": "scatterternary"
           }
          ],
          "surface": [
           {
            "colorbar": {
             "outlinewidth": 0,
             "ticks": ""
            },
            "colorscale": [
             [
              0,
              "#0d0887"
             ],
             [
              0.1111111111111111,
              "#46039f"
             ],
             [
              0.2222222222222222,
              "#7201a8"
             ],
             [
              0.3333333333333333,
              "#9c179e"
             ],
             [
              0.4444444444444444,
              "#bd3786"
             ],
             [
              0.5555555555555556,
              "#d8576b"
             ],
             [
              0.6666666666666666,
              "#ed7953"
             ],
             [
              0.7777777777777778,
              "#fb9f3a"
             ],
             [
              0.8888888888888888,
              "#fdca26"
             ],
             [
              1,
              "#f0f921"
             ]
            ],
            "type": "surface"
           }
          ],
          "table": [
           {
            "cells": {
             "fill": {
              "color": "#EBF0F8"
             },
             "line": {
              "color": "white"
             }
            },
            "header": {
             "fill": {
              "color": "#C8D4E3"
             },
             "line": {
              "color": "white"
             }
            },
            "type": "table"
           }
          ]
         },
         "layout": {
          "annotationdefaults": {
           "arrowcolor": "#2a3f5f",
           "arrowhead": 0,
           "arrowwidth": 1
          },
          "autotypenumbers": "strict",
          "coloraxis": {
           "colorbar": {
            "outlinewidth": 0,
            "ticks": ""
           }
          },
          "colorscale": {
           "diverging": [
            [
             0,
             "#8e0152"
            ],
            [
             0.1,
             "#c51b7d"
            ],
            [
             0.2,
             "#de77ae"
            ],
            [
             0.3,
             "#f1b6da"
            ],
            [
             0.4,
             "#fde0ef"
            ],
            [
             0.5,
             "#f7f7f7"
            ],
            [
             0.6,
             "#e6f5d0"
            ],
            [
             0.7,
             "#b8e186"
            ],
            [
             0.8,
             "#7fbc41"
            ],
            [
             0.9,
             "#4d9221"
            ],
            [
             1,
             "#276419"
            ]
           ],
           "sequential": [
            [
             0,
             "#0d0887"
            ],
            [
             0.1111111111111111,
             "#46039f"
            ],
            [
             0.2222222222222222,
             "#7201a8"
            ],
            [
             0.3333333333333333,
             "#9c179e"
            ],
            [
             0.4444444444444444,
             "#bd3786"
            ],
            [
             0.5555555555555556,
             "#d8576b"
            ],
            [
             0.6666666666666666,
             "#ed7953"
            ],
            [
             0.7777777777777778,
             "#fb9f3a"
            ],
            [
             0.8888888888888888,
             "#fdca26"
            ],
            [
             1,
             "#f0f921"
            ]
           ],
           "sequentialminus": [
            [
             0,
             "#0d0887"
            ],
            [
             0.1111111111111111,
             "#46039f"
            ],
            [
             0.2222222222222222,
             "#7201a8"
            ],
            [
             0.3333333333333333,
             "#9c179e"
            ],
            [
             0.4444444444444444,
             "#bd3786"
            ],
            [
             0.5555555555555556,
             "#d8576b"
            ],
            [
             0.6666666666666666,
             "#ed7953"
            ],
            [
             0.7777777777777778,
             "#fb9f3a"
            ],
            [
             0.8888888888888888,
             "#fdca26"
            ],
            [
             1,
             "#f0f921"
            ]
           ]
          },
          "colorway": [
           "#636efa",
           "#EF553B",
           "#00cc96",
           "#ab63fa",
           "#FFA15A",
           "#19d3f3",
           "#FF6692",
           "#B6E880",
           "#FF97FF",
           "#FECB52"
          ],
          "font": {
           "color": "#2a3f5f"
          },
          "geo": {
           "bgcolor": "white",
           "lakecolor": "white",
           "landcolor": "#E5ECF6",
           "showlakes": true,
           "showland": true,
           "subunitcolor": "white"
          },
          "hoverlabel": {
           "align": "left"
          },
          "hovermode": "closest",
          "mapbox": {
           "style": "light"
          },
          "paper_bgcolor": "white",
          "plot_bgcolor": "#E5ECF6",
          "polar": {
           "angularaxis": {
            "gridcolor": "white",
            "linecolor": "white",
            "ticks": ""
           },
           "bgcolor": "#E5ECF6",
           "radialaxis": {
            "gridcolor": "white",
            "linecolor": "white",
            "ticks": ""
           }
          },
          "scene": {
           "xaxis": {
            "backgroundcolor": "#E5ECF6",
            "gridcolor": "white",
            "gridwidth": 2,
            "linecolor": "white",
            "showbackground": true,
            "ticks": "",
            "zerolinecolor": "white"
           },
           "yaxis": {
            "backgroundcolor": "#E5ECF6",
            "gridcolor": "white",
            "gridwidth": 2,
            "linecolor": "white",
            "showbackground": true,
            "ticks": "",
            "zerolinecolor": "white"
           },
           "zaxis": {
            "backgroundcolor": "#E5ECF6",
            "gridcolor": "white",
            "gridwidth": 2,
            "linecolor": "white",
            "showbackground": true,
            "ticks": "",
            "zerolinecolor": "white"
           }
          },
          "shapedefaults": {
           "line": {
            "color": "#2a3f5f"
           }
          },
          "ternary": {
           "aaxis": {
            "gridcolor": "white",
            "linecolor": "white",
            "ticks": ""
           },
           "baxis": {
            "gridcolor": "white",
            "linecolor": "white",
            "ticks": ""
           },
           "bgcolor": "#E5ECF6",
           "caxis": {
            "gridcolor": "white",
            "linecolor": "white",
            "ticks": ""
           }
          },
          "title": {
           "x": 0.05
          },
          "xaxis": {
           "automargin": true,
           "gridcolor": "white",
           "linecolor": "white",
           "ticks": "",
           "title": {
            "standoff": 15
           },
           "zerolinecolor": "white",
           "zerolinewidth": 2
          },
          "yaxis": {
           "automargin": true,
           "gridcolor": "white",
           "linecolor": "white",
           "ticks": "",
           "title": {
            "standoff": 15
           },
           "zerolinecolor": "white",
           "zerolinewidth": 2
          }
         }
        },
        "title": {
         "text": "Relationship Between Historical Cost of Ride and Number of Past Rides"
        },
        "xaxis": {
         "anchor": "y",
         "domain": [
          0,
          1
         ],
         "title": {
          "text": "Historical_Cost_of_Ride"
         }
        },
        "yaxis": {
         "anchor": "x",
         "domain": [
          0,
          1
         ],
         "title": {
          "text": "Number_of_Past_Rides"
         }
        }
       }
      }
     },
     "metadata": {},
     "output_type": "display_data"
    }
   ],
   "source": [
    "figure = plx.scatter( data, x=\"Historical_Cost_of_Ride\",\n",
    "                     y= \"Number_of_Past_Rides\",\n",
    "                     title = \"Relationship Between Historical Cost of Ride and Number of Past Rides\",\n",
    "                     trendline = 'ols')\n",
    "figure.show()"
   ]
  },
  {
   "cell_type": "markdown",
   "metadata": {},
   "source": [
    "Relationship Between Historical Cost of Ride and Average Ratings"
   ]
  },
  {
   "cell_type": "code",
   "execution_count": 27,
   "metadata": {},
   "outputs": [
    {
     "data": {
      "application/vnd.plotly.v1+json": {
       "config": {
        "plotlyServerURL": "https://plot.ly"
       },
       "data": [
        {
         "hovertemplate": "Historical_Cost_of_Ride=%{x}<br>Average_Ratings=%{y}<extra></extra>",
         "legendgroup": "",
         "marker": {
          "color": "#636efa",
          "symbol": "circle"
         },
         "mode": "markers",
         "name": "",
         "orientation": "v",
         "showlegend": false,
         "type": "scatter",
         "x": {
          "bdata": "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",
          "dtype": "f8"
         },
         "xaxis": "x",
         "y": {
          "bdata": "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",
          "dtype": "f8"
         },
         "yaxis": "y"
        },
        {
         "hovertemplate": "<b>OLS trendline</b><br>Average_Ratings = -2.47589e-06 * Historical_Cost_of_Ride + 4.25814<br>R<sup>2</sup>=0.000001<br><br>Historical_Cost_of_Ride=%{x}<br>Average_Ratings=%{y} <b>(trend)</b><extra></extra>",
         "legendgroup": "",
         "marker": {
          "color": "#636efa",
          "symbol": "circle"
         },
         "mode": "lines",
         "name": "",
         "showlegend": false,
         "type": "scatter",
         "x": {
          "bdata": "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",
          "dtype": "f8"
         },
         "xaxis": "x",
         "y": {
          "bdata": "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",
          "dtype": "f8"
         },
         "yaxis": "y"
        }
       ],
       "layout": {
        "legend": {
         "tracegroupgap": 0
        },
        "template": {
         "data": {
          "bar": [
           {
            "error_x": {
             "color": "#2a3f5f"
            },
            "error_y": {
             "color": "#2a3f5f"
            },
            "marker": {
             "line": {
              "color": "#E5ECF6",
              "width": 0.5
             },
             "pattern": {
              "fillmode": "overlay",
              "size": 10,
              "solidity": 0.2
             }
            },
            "type": "bar"
           }
          ],
          "barpolar": [
           {
            "marker": {
             "line": {
              "color": "#E5ECF6",
              "width": 0.5
             },
             "pattern": {
              "fillmode": "overlay",
              "size": 10,
              "solidity": 0.2
             }
            },
            "type": "barpolar"
           }
          ],
          "carpet": [
           {
            "aaxis": {
             "endlinecolor": "#2a3f5f",
             "gridcolor": "white",
             "linecolor": "white",
             "minorgridcolor": "white",
             "startlinecolor": "#2a3f5f"
            },
            "baxis": {
             "endlinecolor": "#2a3f5f",
             "gridcolor": "white",
             "linecolor": "white",
             "minorgridcolor": "white",
             "startlinecolor": "#2a3f5f"
            },
            "type": "carpet"
           }
          ],
          "choropleth": [
           {
            "colorbar": {
             "outlinewidth": 0,
             "ticks": ""
            },
            "type": "choropleth"
           }
          ],
          "contour": [
           {
            "colorbar": {
             "outlinewidth": 0,
             "ticks": ""
            },
            "colorscale": [
             [
              0,
              "#0d0887"
             ],
             [
              0.1111111111111111,
              "#46039f"
             ],
             [
              0.2222222222222222,
              "#7201a8"
             ],
             [
              0.3333333333333333,
              "#9c179e"
             ],
             [
              0.4444444444444444,
              "#bd3786"
             ],
             [
              0.5555555555555556,
              "#d8576b"
             ],
             [
              0.6666666666666666,
              "#ed7953"
             ],
             [
              0.7777777777777778,
              "#fb9f3a"
             ],
             [
              0.8888888888888888,
              "#fdca26"
             ],
             [
              1,
              "#f0f921"
             ]
            ],
            "type": "contour"
           }
          ],
          "contourcarpet": [
           {
            "colorbar": {
             "outlinewidth": 0,
             "ticks": ""
            },
            "type": "contourcarpet"
           }
          ],
          "heatmap": [
           {
            "colorbar": {
             "outlinewidth": 0,
             "ticks": ""
            },
            "colorscale": [
             [
              0,
              "#0d0887"
             ],
             [
              0.1111111111111111,
              "#46039f"
             ],
             [
              0.2222222222222222,
              "#7201a8"
             ],
             [
              0.3333333333333333,
              "#9c179e"
             ],
             [
              0.4444444444444444,
              "#bd3786"
             ],
             [
              0.5555555555555556,
              "#d8576b"
             ],
             [
              0.6666666666666666,
              "#ed7953"
             ],
             [
              0.7777777777777778,
              "#fb9f3a"
             ],
             [
              0.8888888888888888,
              "#fdca26"
             ],
             [
              1,
              "#f0f921"
             ]
            ],
            "type": "heatmap"
           }
          ],
          "histogram": [
           {
            "marker": {
             "pattern": {
              "fillmode": "overlay",
              "size": 10,
              "solidity": 0.2
             }
            },
            "type": "histogram"
           }
          ],
          "histogram2d": [
           {
            "colorbar": {
             "outlinewidth": 0,
             "ticks": ""
            },
            "colorscale": [
             [
              0,
              "#0d0887"
             ],
             [
              0.1111111111111111,
              "#46039f"
             ],
             [
              0.2222222222222222,
              "#7201a8"
             ],
             [
              0.3333333333333333,
              "#9c179e"
             ],
             [
              0.4444444444444444,
              "#bd3786"
             ],
             [
              0.5555555555555556,
              "#d8576b"
             ],
             [
              0.6666666666666666,
              "#ed7953"
             ],
             [
              0.7777777777777778,
              "#fb9f3a"
             ],
             [
              0.8888888888888888,
              "#fdca26"
             ],
             [
              1,
              "#f0f921"
             ]
            ],
            "type": "histogram2d"
           }
          ],
          "histogram2dcontour": [
           {
            "colorbar": {
             "outlinewidth": 0,
             "ticks": ""
            },
            "colorscale": [
             [
              0,
              "#0d0887"
             ],
             [
              0.1111111111111111,
              "#46039f"
             ],
             [
              0.2222222222222222,
              "#7201a8"
             ],
             [
              0.3333333333333333,
              "#9c179e"
             ],
             [
              0.4444444444444444,
              "#bd3786"
             ],
             [
              0.5555555555555556,
              "#d8576b"
             ],
             [
              0.6666666666666666,
              "#ed7953"
             ],
             [
              0.7777777777777778,
              "#fb9f3a"
             ],
             [
              0.8888888888888888,
              "#fdca26"
             ],
             [
              1,
              "#f0f921"
             ]
            ],
            "type": "histogram2dcontour"
           }
          ],
          "mesh3d": [
           {
            "colorbar": {
             "outlinewidth": 0,
             "ticks": ""
            },
            "type": "mesh3d"
           }
          ],
          "parcoords": [
           {
            "line": {
             "colorbar": {
              "outlinewidth": 0,
              "ticks": ""
             }
            },
            "type": "parcoords"
           }
          ],
          "pie": [
           {
            "automargin": true,
            "type": "pie"
           }
          ],
          "scatter": [
           {
            "fillpattern": {
             "fillmode": "overlay",
             "size": 10,
             "solidity": 0.2
            },
            "type": "scatter"
           }
          ],
          "scatter3d": [
           {
            "line": {
             "colorbar": {
              "outlinewidth": 0,
              "ticks": ""
             }
            },
            "marker": {
             "colorbar": {
              "outlinewidth": 0,
              "ticks": ""
             }
            },
            "type": "scatter3d"
           }
          ],
          "scattercarpet": [
           {
            "marker": {
             "colorbar": {
              "outlinewidth": 0,
              "ticks": ""
             }
            },
            "type": "scattercarpet"
           }
          ],
          "scattergeo": [
           {
            "marker": {
             "colorbar": {
              "outlinewidth": 0,
              "ticks": ""
             }
            },
            "type": "scattergeo"
           }
          ],
          "scattergl": [
           {
            "marker": {
             "colorbar": {
              "outlinewidth": 0,
              "ticks": ""
             }
            },
            "type": "scattergl"
           }
          ],
          "scattermap": [
           {
            "marker": {
             "colorbar": {
              "outlinewidth": 0,
              "ticks": ""
             }
            },
            "type": "scattermap"
           }
          ],
          "scattermapbox": [
           {
            "marker": {
             "colorbar": {
              "outlinewidth": 0,
              "ticks": ""
             }
            },
            "type": "scattermapbox"
           }
          ],
          "scatterpolar": [
           {
            "marker": {
             "colorbar": {
              "outlinewidth": 0,
              "ticks": ""
             }
            },
            "type": "scatterpolar"
           }
          ],
          "scatterpolargl": [
           {
            "marker": {
             "colorbar": {
              "outlinewidth": 0,
              "ticks": ""
             }
            },
            "type": "scatterpolargl"
           }
          ],
          "scatterternary": [
           {
            "marker": {
             "colorbar": {
              "outlinewidth": 0,
              "ticks": ""
             }
            },
            "type": "scatterternary"
           }
          ],
          "surface": [
           {
            "colorbar": {
             "outlinewidth": 0,
             "ticks": ""
            },
            "colorscale": [
             [
              0,
              "#0d0887"
             ],
             [
              0.1111111111111111,
              "#46039f"
             ],
             [
              0.2222222222222222,
              "#7201a8"
             ],
             [
              0.3333333333333333,
              "#9c179e"
             ],
             [
              0.4444444444444444,
              "#bd3786"
             ],
             [
              0.5555555555555556,
              "#d8576b"
             ],
             [
              0.6666666666666666,
              "#ed7953"
             ],
             [
              0.7777777777777778,
              "#fb9f3a"
             ],
             [
              0.8888888888888888,
              "#fdca26"
             ],
             [
              1,
              "#f0f921"
             ]
            ],
            "type": "surface"
           }
          ],
          "table": [
           {
            "cells": {
             "fill": {
              "color": "#EBF0F8"
             },
             "line": {
              "color": "white"
             }
            },
            "header": {
             "fill": {
              "color": "#C8D4E3"
             },
             "line": {
              "color": "white"
             }
            },
            "type": "table"
           }
          ]
         },
         "layout": {
          "annotationdefaults": {
           "arrowcolor": "#2a3f5f",
           "arrowhead": 0,
           "arrowwidth": 1
          },
          "autotypenumbers": "strict",
          "coloraxis": {
           "colorbar": {
            "outlinewidth": 0,
            "ticks": ""
           }
          },
          "colorscale": {
           "diverging": [
            [
             0,
             "#8e0152"
            ],
            [
             0.1,
             "#c51b7d"
            ],
            [
             0.2,
             "#de77ae"
            ],
            [
             0.3,
             "#f1b6da"
            ],
            [
             0.4,
             "#fde0ef"
            ],
            [
             0.5,
             "#f7f7f7"
            ],
            [
             0.6,
             "#e6f5d0"
            ],
            [
             0.7,
             "#b8e186"
            ],
            [
             0.8,
             "#7fbc41"
            ],
            [
             0.9,
             "#4d9221"
            ],
            [
             1,
             "#276419"
            ]
           ],
           "sequential": [
            [
             0,
             "#0d0887"
            ],
            [
             0.1111111111111111,
             "#46039f"
            ],
            [
             0.2222222222222222,
             "#7201a8"
            ],
            [
             0.3333333333333333,
             "#9c179e"
            ],
            [
             0.4444444444444444,
             "#bd3786"
            ],
            [
             0.5555555555555556,
             "#d8576b"
            ],
            [
             0.6666666666666666,
             "#ed7953"
            ],
            [
             0.7777777777777778,
             "#fb9f3a"
            ],
            [
             0.8888888888888888,
             "#fdca26"
            ],
            [
             1,
             "#f0f921"
            ]
           ],
           "sequentialminus": [
            [
             0,
             "#0d0887"
            ],
            [
             0.1111111111111111,
             "#46039f"
            ],
            [
             0.2222222222222222,
             "#7201a8"
            ],
            [
             0.3333333333333333,
             "#9c179e"
            ],
            [
             0.4444444444444444,
             "#bd3786"
            ],
            [
             0.5555555555555556,
             "#d8576b"
            ],
            [
             0.6666666666666666,
             "#ed7953"
            ],
            [
             0.7777777777777778,
             "#fb9f3a"
            ],
            [
             0.8888888888888888,
             "#fdca26"
            ],
            [
             1,
             "#f0f921"
            ]
           ]
          },
          "colorway": [
           "#636efa",
           "#EF553B",
           "#00cc96",
           "#ab63fa",
           "#FFA15A",
           "#19d3f3",
           "#FF6692",
           "#B6E880",
           "#FF97FF",
           "#FECB52"
          ],
          "font": {
           "color": "#2a3f5f"
          },
          "geo": {
           "bgcolor": "white",
           "lakecolor": "white",
           "landcolor": "#E5ECF6",
           "showlakes": true,
           "showland": true,
           "subunitcolor": "white"
          },
          "hoverlabel": {
           "align": "left"
          },
          "hovermode": "closest",
          "mapbox": {
           "style": "light"
          },
          "paper_bgcolor": "white",
          "plot_bgcolor": "#E5ECF6",
          "polar": {
           "angularaxis": {
            "gridcolor": "white",
            "linecolor": "white",
            "ticks": ""
           },
           "bgcolor": "#E5ECF6",
           "radialaxis": {
            "gridcolor": "white",
            "linecolor": "white",
            "ticks": ""
           }
          },
          "scene": {
           "xaxis": {
            "backgroundcolor": "#E5ECF6",
            "gridcolor": "white",
            "gridwidth": 2,
            "linecolor": "white",
            "showbackground": true,
            "ticks": "",
            "zerolinecolor": "white"
           },
           "yaxis": {
            "backgroundcolor": "#E5ECF6",
            "gridcolor": "white",
            "gridwidth": 2,
            "linecolor": "white",
            "showbackground": true,
            "ticks": "",
            "zerolinecolor": "white"
           },
           "zaxis": {
            "backgroundcolor": "#E5ECF6",
            "gridcolor": "white",
            "gridwidth": 2,
            "linecolor": "white",
            "showbackground": true,
            "ticks": "",
            "zerolinecolor": "white"
           }
          },
          "shapedefaults": {
           "line": {
            "color": "#2a3f5f"
           }
          },
          "ternary": {
           "aaxis": {
            "gridcolor": "white",
            "linecolor": "white",
            "ticks": ""
           },
           "baxis": {
            "gridcolor": "white",
            "linecolor": "white",
            "ticks": ""
           },
           "bgcolor": "#E5ECF6",
           "caxis": {
            "gridcolor": "white",
            "linecolor": "white",
            "ticks": ""
           }
          },
          "title": {
           "x": 0.05
          },
          "xaxis": {
           "automargin": true,
           "gridcolor": "white",
           "linecolor": "white",
           "ticks": "",
           "title": {
            "standoff": 15
           },
           "zerolinecolor": "white",
           "zerolinewidth": 2
          },
          "yaxis": {
           "automargin": true,
           "gridcolor": "white",
           "linecolor": "white",
           "ticks": "",
           "title": {
            "standoff": 15
           },
           "zerolinecolor": "white",
           "zerolinewidth": 2
          }
         }
        },
        "title": {
         "text": "Relationship Between Historical Cost of Ride and Average Ratings"
        },
        "xaxis": {
         "anchor": "y",
         "domain": [
          0,
          1
         ],
         "title": {
          "text": "Historical_Cost_of_Ride"
         }
        },
        "yaxis": {
         "anchor": "x",
         "domain": [
          0,
          1
         ],
         "title": {
          "text": "Average_Ratings"
         }
        }
       }
      }
     },
     "metadata": {},
     "output_type": "display_data"
    }
   ],
   "source": [
    "figure = plx.scatter( data, x=\"Historical_Cost_of_Ride\",\n",
    "                     y= \"Average_Ratings\",\n",
    "                     title = \"Relationship Between Historical Cost of Ride and Average Ratings\",\n",
    "                     trendline = 'ols')\n",
    "figure.show()"
   ]
  },
  {
   "cell_type": "markdown",
   "metadata": {},
   "source": [
    "Relationship Between Historical Cost of Ride and Expected_Ride_Duration"
   ]
  },
  {
   "cell_type": "code",
   "execution_count": 28,
   "metadata": {},
   "outputs": [
    {
     "data": {
      "application/vnd.plotly.v1+json": {
       "config": {
        "plotlyServerURL": "https://plot.ly"
       },
       "data": [
        {
         "hovertemplate": "Historical_Cost_of_Ride=%{x}<br>Expected_Ride_Duration=%{y}<extra></extra>",
         "legendgroup": "",
         "marker": {
          "color": "#636efa",
          "symbol": "circle"
         },
         "mode": "markers",
         "name": "",
         "orientation": "v",
         "showlegend": false,
         "type": "scatter",
         "x": {
          "bdata": "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",
          "dtype": "f8"
         },
         "xaxis": "x",
         "y": {
          "bdata": "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",
          "dtype": "i2"
         },
         "yaxis": "y"
        },
        {
         "hovertemplate": "<b>OLS trendline</b><br>Expected_Ride_Duration = 0.243661 * Historical_Cost_of_Ride + 8.82367<br>R<sup>2</sup>=0.860344<br><br>Historical_Cost_of_Ride=%{x}<br>Expected_Ride_Duration=%{y} <b>(trend)</b><extra></extra>",
         "legendgroup": "",
         "marker": {
          "color": "#636efa",
          "symbol": "circle"
         },
         "mode": "lines",
         "name": "",
         "showlegend": false,
         "type": "scatter",
         "x": {
          "bdata": "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",
          "dtype": "f8"
         },
         "xaxis": "x",
         "y": {
          "bdata": "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",
          "dtype": "f8"
         },
         "yaxis": "y"
        }
       ],
       "layout": {
        "legend": {
         "tracegroupgap": 0
        },
        "template": {
         "data": {
          "bar": [
           {
            "error_x": {
             "color": "#2a3f5f"
            },
            "error_y": {
             "color": "#2a3f5f"
            },
            "marker": {
             "line": {
              "color": "#E5ECF6",
              "width": 0.5
             },
             "pattern": {
              "fillmode": "overlay",
              "size": 10,
              "solidity": 0.2
             }
            },
            "type": "bar"
           }
          ],
          "barpolar": [
           {
            "marker": {
             "line": {
              "color": "#E5ECF6",
              "width": 0.5
             },
             "pattern": {
              "fillmode": "overlay",
              "size": 10,
              "solidity": 0.2
             }
            },
            "type": "barpolar"
           }
          ],
          "carpet": [
           {
            "aaxis": {
             "endlinecolor": "#2a3f5f",
             "gridcolor": "white",
             "linecolor": "white",
             "minorgridcolor": "white",
             "startlinecolor": "#2a3f5f"
            },
            "baxis": {
             "endlinecolor": "#2a3f5f",
             "gridcolor": "white",
             "linecolor": "white",
             "minorgridcolor": "white",
             "startlinecolor": "#2a3f5f"
            },
            "type": "carpet"
           }
          ],
          "choropleth": [
           {
            "colorbar": {
             "outlinewidth": 0,
             "ticks": ""
            },
            "type": "choropleth"
           }
          ],
          "contour": [
           {
            "colorbar": {
             "outlinewidth": 0,
             "ticks": ""
            },
            "colorscale": [
             [
              0,
              "#0d0887"
             ],
             [
              0.1111111111111111,
              "#46039f"
             ],
             [
              0.2222222222222222,
              "#7201a8"
             ],
             [
              0.3333333333333333,
              "#9c179e"
             ],
             [
              0.4444444444444444,
              "#bd3786"
             ],
             [
              0.5555555555555556,
              "#d8576b"
             ],
             [
              0.6666666666666666,
              "#ed7953"
             ],
             [
              0.7777777777777778,
              "#fb9f3a"
             ],
             [
              0.8888888888888888,
              "#fdca26"
             ],
             [
              1,
              "#f0f921"
             ]
            ],
            "type": "contour"
           }
          ],
          "contourcarpet": [
           {
            "colorbar": {
             "outlinewidth": 0,
             "ticks": ""
            },
            "type": "contourcarpet"
           }
          ],
          "heatmap": [
           {
            "colorbar": {
             "outlinewidth": 0,
             "ticks": ""
            },
            "colorscale": [
             [
              0,
              "#0d0887"
             ],
             [
              0.1111111111111111,
              "#46039f"
             ],
             [
              0.2222222222222222,
              "#7201a8"
             ],
             [
              0.3333333333333333,
              "#9c179e"
             ],
             [
              0.4444444444444444,
              "#bd3786"
             ],
             [
              0.5555555555555556,
              "#d8576b"
             ],
             [
              0.6666666666666666,
              "#ed7953"
             ],
             [
              0.7777777777777778,
              "#fb9f3a"
             ],
             [
              0.8888888888888888,
              "#fdca26"
             ],
             [
              1,
              "#f0f921"
             ]
            ],
            "type": "heatmap"
           }
          ],
          "histogram": [
           {
            "marker": {
             "pattern": {
              "fillmode": "overlay",
              "size": 10,
              "solidity": 0.2
             }
            },
            "type": "histogram"
           }
          ],
          "histogram2d": [
           {
            "colorbar": {
             "outlinewidth": 0,
             "ticks": ""
            },
            "colorscale": [
             [
              0,
              "#0d0887"
             ],
             [
              0.1111111111111111,
              "#46039f"
             ],
             [
              0.2222222222222222,
              "#7201a8"
             ],
             [
              0.3333333333333333,
              "#9c179e"
             ],
             [
              0.4444444444444444,
              "#bd3786"
             ],
             [
              0.5555555555555556,
              "#d8576b"
             ],
             [
              0.6666666666666666,
              "#ed7953"
             ],
             [
              0.7777777777777778,
              "#fb9f3a"
             ],
             [
              0.8888888888888888,
              "#fdca26"
             ],
             [
              1,
              "#f0f921"
             ]
            ],
            "type": "histogram2d"
           }
          ],
          "histogram2dcontour": [
           {
            "colorbar": {
             "outlinewidth": 0,
             "ticks": ""
            },
            "colorscale": [
             [
              0,
              "#0d0887"
             ],
             [
              0.1111111111111111,
              "#46039f"
             ],
             [
              0.2222222222222222,
              "#7201a8"
             ],
             [
              0.3333333333333333,
              "#9c179e"
             ],
             [
              0.4444444444444444,
              "#bd3786"
             ],
             [
              0.5555555555555556,
              "#d8576b"
             ],
             [
              0.6666666666666666,
              "#ed7953"
             ],
             [
              0.7777777777777778,
              "#fb9f3a"
             ],
             [
              0.8888888888888888,
              "#fdca26"
             ],
             [
              1,
              "#f0f921"
             ]
            ],
            "type": "histogram2dcontour"
           }
          ],
          "mesh3d": [
           {
            "colorbar": {
             "outlinewidth": 0,
             "ticks": ""
            },
            "type": "mesh3d"
           }
          ],
          "parcoords": [
           {
            "line": {
             "colorbar": {
              "outlinewidth": 0,
              "ticks": ""
             }
            },
            "type": "parcoords"
           }
          ],
          "pie": [
           {
            "automargin": true,
            "type": "pie"
           }
          ],
          "scatter": [
           {
            "fillpattern": {
             "fillmode": "overlay",
             "size": 10,
             "solidity": 0.2
            },
            "type": "scatter"
           }
          ],
          "scatter3d": [
           {
            "line": {
             "colorbar": {
              "outlinewidth": 0,
              "ticks": ""
             }
            },
            "marker": {
             "colorbar": {
              "outlinewidth": 0,
              "ticks": ""
             }
            },
            "type": "scatter3d"
           }
          ],
          "scattercarpet": [
           {
            "marker": {
             "colorbar": {
              "outlinewidth": 0,
              "ticks": ""
             }
            },
            "type": "scattercarpet"
           }
          ],
          "scattergeo": [
           {
            "marker": {
             "colorbar": {
              "outlinewidth": 0,
              "ticks": ""
             }
            },
            "type": "scattergeo"
           }
          ],
          "scattergl": [
           {
            "marker": {
             "colorbar": {
              "outlinewidth": 0,
              "ticks": ""
             }
            },
            "type": "scattergl"
           }
          ],
          "scattermap": [
           {
            "marker": {
             "colorbar": {
              "outlinewidth": 0,
              "ticks": ""
             }
            },
            "type": "scattermap"
           }
          ],
          "scattermapbox": [
           {
            "marker": {
             "colorbar": {
              "outlinewidth": 0,
              "ticks": ""
             }
            },
            "type": "scattermapbox"
           }
          ],
          "scatterpolar": [
           {
            "marker": {
             "colorbar": {
              "outlinewidth": 0,
              "ticks": ""
             }
            },
            "type": "scatterpolar"
           }
          ],
          "scatterpolargl": [
           {
            "marker": {
             "colorbar": {
              "outlinewidth": 0,
              "ticks": ""
             }
            },
            "type": "scatterpolargl"
           }
          ],
          "scatterternary": [
           {
            "marker": {
             "colorbar": {
              "outlinewidth": 0,
              "ticks": ""
             }
            },
            "type": "scatterternary"
           }
          ],
          "surface": [
           {
            "colorbar": {
             "outlinewidth": 0,
             "ticks": ""
            },
            "colorscale": [
             [
              0,
              "#0d0887"
             ],
             [
              0.1111111111111111,
              "#46039f"
             ],
             [
              0.2222222222222222,
              "#7201a8"
             ],
             [
              0.3333333333333333,
              "#9c179e"
             ],
             [
              0.4444444444444444,
              "#bd3786"
             ],
             [
              0.5555555555555556,
              "#d8576b"
             ],
             [
              0.6666666666666666,
              "#ed7953"
             ],
             [
              0.7777777777777778,
              "#fb9f3a"
             ],
             [
              0.8888888888888888,
              "#fdca26"
             ],
             [
              1,
              "#f0f921"
             ]
            ],
            "type": "surface"
           }
          ],
          "table": [
           {
            "cells": {
             "fill": {
              "color": "#EBF0F8"
             },
             "line": {
              "color": "white"
             }
            },
            "header": {
             "fill": {
              "color": "#C8D4E3"
             },
             "line": {
              "color": "white"
             }
            },
            "type": "table"
           }
          ]
         },
         "layout": {
          "annotationdefaults": {
           "arrowcolor": "#2a3f5f",
           "arrowhead": 0,
           "arrowwidth": 1
          },
          "autotypenumbers": "strict",
          "coloraxis": {
           "colorbar": {
            "outlinewidth": 0,
            "ticks": ""
           }
          },
          "colorscale": {
           "diverging": [
            [
             0,
             "#8e0152"
            ],
            [
             0.1,
             "#c51b7d"
            ],
            [
             0.2,
             "#de77ae"
            ],
            [
             0.3,
             "#f1b6da"
            ],
            [
             0.4,
             "#fde0ef"
            ],
            [
             0.5,
             "#f7f7f7"
            ],
            [
             0.6,
             "#e6f5d0"
            ],
            [
             0.7,
             "#b8e186"
            ],
            [
             0.8,
             "#7fbc41"
            ],
            [
             0.9,
             "#4d9221"
            ],
            [
             1,
             "#276419"
            ]
           ],
           "sequential": [
            [
             0,
             "#0d0887"
            ],
            [
             0.1111111111111111,
             "#46039f"
            ],
            [
             0.2222222222222222,
             "#7201a8"
            ],
            [
             0.3333333333333333,
             "#9c179e"
            ],
            [
             0.4444444444444444,
             "#bd3786"
            ],
            [
             0.5555555555555556,
             "#d8576b"
            ],
            [
             0.6666666666666666,
             "#ed7953"
            ],
            [
             0.7777777777777778,
             "#fb9f3a"
            ],
            [
             0.8888888888888888,
             "#fdca26"
            ],
            [
             1,
             "#f0f921"
            ]
           ],
           "sequentialminus": [
            [
             0,
             "#0d0887"
            ],
            [
             0.1111111111111111,
             "#46039f"
            ],
            [
             0.2222222222222222,
             "#7201a8"
            ],
            [
             0.3333333333333333,
             "#9c179e"
            ],
            [
             0.4444444444444444,
             "#bd3786"
            ],
            [
             0.5555555555555556,
             "#d8576b"
            ],
            [
             0.6666666666666666,
             "#ed7953"
            ],
            [
             0.7777777777777778,
             "#fb9f3a"
            ],
            [
             0.8888888888888888,
             "#fdca26"
            ],
            [
             1,
             "#f0f921"
            ]
           ]
          },
          "colorway": [
           "#636efa",
           "#EF553B",
           "#00cc96",
           "#ab63fa",
           "#FFA15A",
           "#19d3f3",
           "#FF6692",
           "#B6E880",
           "#FF97FF",
           "#FECB52"
          ],
          "font": {
           "color": "#2a3f5f"
          },
          "geo": {
           "bgcolor": "white",
           "lakecolor": "white",
           "landcolor": "#E5ECF6",
           "showlakes": true,
           "showland": true,
           "subunitcolor": "white"
          },
          "hoverlabel": {
           "align": "left"
          },
          "hovermode": "closest",
          "mapbox": {
           "style": "light"
          },
          "paper_bgcolor": "white",
          "plot_bgcolor": "#E5ECF6",
          "polar": {
           "angularaxis": {
            "gridcolor": "white",
            "linecolor": "white",
            "ticks": ""
           },
           "bgcolor": "#E5ECF6",
           "radialaxis": {
            "gridcolor": "white",
            "linecolor": "white",
            "ticks": ""
           }
          },
          "scene": {
           "xaxis": {
            "backgroundcolor": "#E5ECF6",
            "gridcolor": "white",
            "gridwidth": 2,
            "linecolor": "white",
            "showbackground": true,
            "ticks": "",
            "zerolinecolor": "white"
           },
           "yaxis": {
            "backgroundcolor": "#E5ECF6",
            "gridcolor": "white",
            "gridwidth": 2,
            "linecolor": "white",
            "showbackground": true,
            "ticks": "",
            "zerolinecolor": "white"
           },
           "zaxis": {
            "backgroundcolor": "#E5ECF6",
            "gridcolor": "white",
            "gridwidth": 2,
            "linecolor": "white",
            "showbackground": true,
            "ticks": "",
            "zerolinecolor": "white"
           }
          },
          "shapedefaults": {
           "line": {
            "color": "#2a3f5f"
           }
          },
          "ternary": {
           "aaxis": {
            "gridcolor": "white",
            "linecolor": "white",
            "ticks": ""
           },
           "baxis": {
            "gridcolor": "white",
            "linecolor": "white",
            "ticks": ""
           },
           "bgcolor": "#E5ECF6",
           "caxis": {
            "gridcolor": "white",
            "linecolor": "white",
            "ticks": ""
           }
          },
          "title": {
           "x": 0.05
          },
          "xaxis": {
           "automargin": true,
           "gridcolor": "white",
           "linecolor": "white",
           "ticks": "",
           "title": {
            "standoff": 15
           },
           "zerolinecolor": "white",
           "zerolinewidth": 2
          },
          "yaxis": {
           "automargin": true,
           "gridcolor": "white",
           "linecolor": "white",
           "ticks": "",
           "title": {
            "standoff": 15
           },
           "zerolinecolor": "white",
           "zerolinewidth": 2
          }
         }
        },
        "title": {
         "text": "Relationship Between Historical Cost of Ride and Expected_Ride_Duration"
        },
        "xaxis": {
         "anchor": "y",
         "domain": [
          0,
          1
         ],
         "title": {
          "text": "Historical_Cost_of_Ride"
         }
        },
        "yaxis": {
         "anchor": "x",
         "domain": [
          0,
          1
         ],
         "title": {
          "text": "Expected_Ride_Duration"
         }
        }
       }
      }
     },
     "metadata": {},
     "output_type": "display_data"
    }
   ],
   "source": [
    "figure = plx.scatter( data, x=\"Historical_Cost_of_Ride\",\n",
    "                     y= \"Expected_Ride_Duration\",\n",
    "                     title = \"Relationship Between Historical Cost of Ride and Expected_Ride_Duration\",\n",
    "                     trendline = 'ols')\n",
    "figure.show()"
   ]
  },
  {
   "cell_type": "markdown",
   "metadata": {},
   "source": [
    "Relationship Between Historical Cost of Ride and Location_Category"
   ]
  },
  {
   "cell_type": "code",
   "execution_count": 29,
   "metadata": {},
   "outputs": [
    {
     "data": {
      "application/vnd.plotly.v1+json": {
       "config": {
        "plotlyServerURL": "https://plot.ly"
       },
       "data": [
        {
         "alignmentgroup": "True",
         "hovertemplate": "Location_Category=%{x}<br>Historical_Cost_of_Ride=%{y}<extra></extra>",
         "legendgroup": "",
         "marker": {
          "color": "#636efa"
         },
         "name": "",
         "notched": false,
         "offsetgroup": "",
         "orientation": "v",
         "showlegend": false,
         "type": "box",
         "x": [
          "Urban",
          "Suburban",
          "Rural",
          "Rural",
          "Rural",
          "Urban",
          "Suburban",
          "Rural",
          "Rural",
          "Rural",
          "Urban",
          "Rural",
          "Rural",
          "Suburban",
          "Rural",
          "Urban",
          "Rural",
          "Suburban",
          "Suburban",
          "Suburban",
          "Urban",
          "Suburban",
          "Rural",
          "Urban",
          "Suburban",
          "Rural",
          "Rural",
          "Urban",
          "Suburban",
          "Suburban",
          "Suburban",
          "Suburban",
          "Urban",
          "Suburban",
          "Suburban",
          "Rural",
          "Suburban",
          "Rural",
          "Suburban",
          "Rural",
          "Urban",
          "Urban",
          "Suburban",
          "Rural",
          "Urban",
          "Suburban",
          "Suburban",
          "Urban",
          "Suburban",
          "Rural",
          "Urban",
          "Urban",
          "Rural",
          "Suburban",
          "Urban",
          "Suburban",
          "Rural",
          "Suburban",
          "Urban",
          "Rural",
          "Rural",
          "Suburban",
          "Urban",
          "Rural",
          "Rural",
          "Urban",
          "Urban",
          "Suburban",
          "Urban",
          "Urban",
          "Rural",
          "Urban",
          "Suburban",
          "Rural",
          "Suburban",
          "Rural",
          "Rural",
          "Rural",
          "Urban",
          "Urban",
          "Rural",
          "Suburban",
          "Urban",
          "Rural",
          "Urban",
          "Rural",
          "Urban",
          "Rural",
          "Rural",
          "Urban",
          "Urban",
          "Rural",
          "Rural",
          "Suburban",
          "Rural",
          "Suburban",
          "Suburban",
          "Rural",
          "Urban",
          "Suburban",
          "Suburban",
          "Suburban",
          "Rural",
          "Urban",
          "Suburban",
          "Rural",
          "Rural",
          "Suburban",
          "Rural",
          "Urban",
          "Suburban",
          "Suburban",
          "Suburban",
          "Rural",
          "Rural",
          "Urban",
          "Urban",
          "Suburban",
          "Suburban",
          "Urban",
          "Suburban",
          "Rural",
          "Suburban",
          "Urban",
          "Urban",
          "Suburban",
          "Urban",
          "Urban",
          "Rural",
          "Urban",
          "Suburban",
          "Urban",
          "Urban",
          "Rural",
          "Rural",
          "Urban",
          "Urban",
          "Rural",
          "Suburban",
          "Suburban",
          "Rural",
          "Rural",
          "Rural",
          "Suburban",
          "Urban",
          "Rural",
          "Suburban",
          "Suburban",
          "Rural",
          "Rural",
          "Urban",
          "Rural",
          "Urban",
          "Urban",
          "Urban",
          "Urban",
          "Suburban",
          "Suburban",
          "Rural",
          "Suburban",
          "Rural",
          "Rural",
          "Suburban",
          "Suburban",
          "Suburban",
          "Rural",
          "Urban",
          "Urban",
          "Suburban",
          "Urban",
          "Urban",
          "Urban",
          "Rural",
          "Suburban",
          "Rural",
          "Suburban",
          "Suburban",
          "Rural",
          "Rural",
          "Suburban",
          "Urban",
          "Urban",
          "Rural",
          "Suburban",
          "Suburban",
          "Rural",
          "Urban",
          "Suburban",
          "Urban",
          "Suburban",
          "Rural",
          "Suburban",
          "Urban",
          "Rural",
          "Suburban",
          "Urban",
          "Urban",
          "Suburban",
          "Suburban",
          "Rural",
          "Suburban",
          "Suburban",
          "Urban",
          "Urban",
          "Urban",
          "Urban",
          "Rural",
          "Urban",
          "Rural",
          "Rural",
          "Rural",
          "Suburban",
          "Urban",
          "Suburban",
          "Rural",
          "Rural",
          "Urban",
          "Suburban",
          "Rural",
          "Urban",
          "Suburban",
          "Rural",
          "Urban",
          "Rural",
          "Urban",
          "Urban",
          "Urban",
          "Rural",
          "Urban",
          "Urban",
          "Rural",
          "Suburban",
          "Urban",
          "Suburban",
          "Urban",
          "Rural",
          "Suburban",
          "Suburban",
          "Suburban",
          "Suburban",
          "Rural",
          "Rural",
          "Suburban",
          "Suburban",
          "Rural",
          "Rural",
          "Rural",
          "Rural",
          "Suburban",
          "Rural",
          "Urban",
          "Urban",
          "Urban",
          "Rural",
          "Rural",
          "Urban",
          "Rural",
          "Rural",
          "Urban",
          "Rural",
          "Suburban",
          "Urban",
          "Urban",
          "Suburban",
          "Suburban",
          "Urban",
          "Urban",
          "Suburban",
          "Rural",
          "Urban",
          "Suburban",
          "Suburban",
          "Suburban",
          "Urban",
          "Rural",
          "Suburban",
          "Urban",
          "Rural",
          "Suburban",
          "Suburban",
          "Rural",
          "Suburban",
          "Suburban",
          "Urban",
          "Urban",
          "Urban",
          "Urban",
          "Suburban",
          "Suburban",
          "Urban",
          "Suburban",
          "Suburban",
          "Suburban",
          "Suburban",
          "Urban",
          "Rural",
          "Suburban",
          "Suburban",
          "Rural",
          "Rural",
          "Urban",
          "Suburban",
          "Rural",
          "Rural",
          "Suburban",
          "Urban",
          "Rural",
          "Rural",
          "Urban",
          "Rural",
          "Urban",
          "Urban",
          "Suburban",
          "Rural",
          "Suburban",
          "Suburban",
          "Urban",
          "Suburban",
          "Suburban",
          "Urban",
          "Rural",
          "Rural",
          "Rural",
          "Suburban",
          "Rural",
          "Urban",
          "Urban",
          "Suburban",
          "Suburban",
          "Suburban",
          "Rural",
          "Suburban",
          "Suburban",
          "Urban",
          "Urban",
          "Suburban",
          "Rural",
          "Rural",
          "Urban",
          "Suburban",
          "Urban",
          "Rural",
          "Urban",
          "Rural",
          "Rural",
          "Rural",
          "Urban",
          "Urban",
          "Suburban",
          "Urban",
          "Urban",
          "Urban",
          "Urban",
          "Suburban",
          "Rural",
          "Urban",
          "Suburban",
          "Rural",
          "Rural",
          "Urban",
          "Urban",
          "Rural",
          "Suburban",
          "Urban",
          "Suburban",
          "Suburban",
          "Urban",
          "Suburban",
          "Suburban",
          "Urban",
          "Urban",
          "Urban",
          "Urban",
          "Urban",
          "Rural",
          "Urban",
          "Rural",
          "Urban",
          "Urban",
          "Urban",
          "Rural",
          "Rural",
          "Suburban",
          "Suburban",
          "Rural",
          "Rural",
          "Rural",
          "Urban",
          "Suburban",
          "Urban",
          "Urban",
          "Urban",
          "Suburban",
          "Suburban",
          "Suburban",
          "Suburban",
          "Rural",
          "Suburban",
          "Rural",
          "Rural",
          "Suburban",
          "Suburban",
          "Urban",
          "Urban",
          "Urban",
          "Urban",
          "Suburban",
          "Rural",
          "Rural",
          "Urban",
          "Suburban",
          "Suburban",
          "Urban",
          "Rural",
          "Urban",
          "Suburban",
          "Suburban",
          "Rural",
          "Suburban",
          "Urban",
          "Urban",
          "Urban",
          "Urban",
          "Suburban",
          "Suburban",
          "Rural",
          "Urban",
          "Rural",
          "Suburban",
          "Urban",
          "Urban",
          "Urban",
          "Suburban",
          "Rural",
          "Rural",
          "Suburban",
          "Rural",
          "Urban",
          "Urban",
          "Urban",
          "Rural",
          "Urban",
          "Suburban",
          "Urban",
          "Rural",
          "Rural",
          "Rural",
          "Rural",
          "Urban",
          "Suburban",
          "Suburban",
          "Rural",
          "Rural",
          "Suburban",
          "Suburban",
          "Suburban",
          "Rural",
          "Rural",
          "Rural",
          "Suburban",
          "Suburban",
          "Rural",
          "Rural",
          "Rural",
          "Suburban",
          "Rural",
          "Rural",
          "Suburban",
          "Urban",
          "Suburban",
          "Suburban",
          "Rural",
          "Suburban",
          "Urban",
          "Rural",
          "Suburban",
          "Rural",
          "Rural",
          "Urban",
          "Rural",
          "Rural",
          "Rural",
          "Urban",
          "Suburban",
          "Urban",
          "Rural",
          "Rural",
          "Urban",
          "Rural",
          "Urban",
          "Rural",
          "Suburban",
          "Rural",
          "Suburban",
          "Suburban",
          "Rural",
          "Suburban",
          "Suburban",
          "Rural",
          "Rural",
          "Suburban",
          "Urban",
          "Rural",
          "Urban",
          "Suburban",
          "Rural",
          "Urban",
          "Rural",
          "Urban",
          "Urban",
          "Rural",
          "Urban",
          "Suburban",
          "Suburban",
          "Urban",
          "Urban",
          "Rural",
          "Urban",
          "Rural",
          "Rural",
          "Rural",
          "Urban",
          "Urban",
          "Rural",
          "Suburban",
          "Rural",
          "Suburban",
          "Suburban",
          "Rural",
          "Urban",
          "Rural",
          "Suburban",
          "Rural",
          "Urban",
          "Urban",
          "Urban",
          "Rural",
          "Suburban",
          "Rural",
          "Rural",
          "Suburban",
          "Suburban",
          "Urban",
          "Suburban",
          "Suburban",
          "Urban",
          "Urban",
          "Urban",
          "Rural",
          "Urban",
          "Urban",
          "Rural",
          "Suburban",
          "Urban",
          "Rural",
          "Urban",
          "Urban",
          "Suburban",
          "Suburban",
          "Urban",
          "Rural",
          "Suburban",
          "Rural",
          "Rural",
          "Suburban",
          "Suburban",
          "Rural",
          "Suburban",
          "Urban",
          "Rural",
          "Suburban",
          "Rural",
          "Suburban",
          "Suburban",
          "Urban",
          "Urban",
          "Urban",
          "Urban",
          "Suburban",
          "Rural",
          "Rural",
          "Rural",
          "Rural",
          "Urban",
          "Rural",
          "Suburban",
          "Rural",
          "Suburban",
          "Urban",
          "Urban",
          "Suburban",
          "Urban",
          "Suburban",
          "Rural",
          "Rural",
          "Rural",
          "Urban",
          "Urban",
          "Suburban",
          "Rural",
          "Suburban",
          "Suburban",
          "Urban",
          "Rural",
          "Urban",
          "Rural",
          "Urban",
          "Suburban",
          "Suburban",
          "Urban",
          "Rural",
          "Suburban",
          "Urban",
          "Rural",
          "Urban",
          "Urban",
          "Suburban",
          "Suburban",
          "Urban",
          "Suburban",
          "Suburban",
          "Urban",
          "Suburban",
          "Rural",
          "Rural",
          "Rural",
          "Urban",
          "Suburban",
          "Suburban",
          "Urban",
          "Suburban",
          "Rural",
          "Urban",
          "Suburban",
          "Suburban",
          "Suburban",
          "Rural",
          "Suburban",
          "Suburban",
          "Urban",
          "Suburban",
          "Rural",
          "Urban",
          "Rural",
          "Urban",
          "Rural",
          "Rural",
          "Suburban",
          "Rural",
          "Urban",
          "Rural",
          "Rural",
          "Suburban",
          "Suburban",
          "Urban",
          "Suburban",
          "Urban",
          "Suburban",
          "Suburban",
          "Urban",
          "Suburban",
          "Rural",
          "Urban",
          "Urban",
          "Urban",
          "Rural",
          "Suburban",
          "Suburban",
          "Suburban",
          "Suburban",
          "Rural",
          "Rural",
          "Suburban",
          "Rural",
          "Suburban",
          "Suburban",
          "Urban",
          "Rural",
          "Suburban",
          "Suburban",
          "Suburban",
          "Rural",
          "Urban",
          "Urban",
          "Suburban",
          "Urban",
          "Suburban",
          "Rural",
          "Urban",
          "Rural",
          "Rural",
          "Rural",
          "Rural",
          "Rural",
          "Urban",
          "Rural",
          "Urban",
          "Suburban",
          "Rural",
          "Rural",
          "Rural",
          "Urban",
          "Urban",
          "Urban",
          "Rural",
          "Urban",
          "Suburban",
          "Suburban",
          "Rural",
          "Rural",
          "Rural",
          "Urban",
          "Rural",
          "Suburban",
          "Rural",
          "Rural",
          "Rural",
          "Rural",
          "Rural",
          "Suburban",
          "Urban",
          "Urban",
          "Urban",
          "Suburban",
          "Rural",
          "Rural",
          "Urban",
          "Urban",
          "Urban",
          "Urban",
          "Rural",
          "Rural",
          "Urban",
          "Rural",
          "Rural",
          "Urban",
          "Suburban",
          "Urban",
          "Urban",
          "Rural",
          "Urban",
          "Rural",
          "Urban",
          "Urban",
          "Urban",
          "Urban",
          "Suburban",
          "Rural",
          "Urban",
          "Suburban",
          "Suburban",
          "Suburban",
          "Urban",
          "Rural",
          "Rural",
          "Rural",
          "Suburban",
          "Rural",
          "Rural",
          "Rural",
          "Urban",
          "Suburban",
          "Suburban",
          "Urban",
          "Rural",
          "Suburban",
          "Suburban",
          "Suburban",
          "Suburban",
          "Urban",
          "Suburban",
          "Urban",
          "Suburban",
          "Suburban",
          "Suburban",
          "Rural",
          "Urban",
          "Urban",
          "Suburban",
          "Urban",
          "Rural",
          "Urban",
          "Suburban",
          "Suburban",
          "Suburban",
          "Rural",
          "Urban",
          "Urban",
          "Suburban",
          "Suburban",
          "Rural",
          "Urban",
          "Rural",
          "Rural",
          "Rural",
          "Rural",
          "Urban",
          "Suburban",
          "Urban",
          "Rural",
          "Suburban",
          "Urban",
          "Urban",
          "Rural",
          "Urban",
          "Rural",
          "Urban",
          "Suburban",
          "Rural",
          "Urban",
          "Urban",
          "Urban",
          "Rural",
          "Urban",
          "Suburban",
          "Rural",
          "Suburban",
          "Rural",
          "Rural",
          "Rural",
          "Rural",
          "Urban",
          "Rural",
          "Suburban",
          "Rural",
          "Suburban",
          "Rural",
          "Urban",
          "Suburban",
          "Suburban",
          "Urban",
          "Suburban",
          "Suburban",
          "Urban",
          "Suburban",
          "Suburban",
          "Suburban",
          "Rural",
          "Urban",
          "Rural",
          "Urban",
          "Urban",
          "Urban",
          "Urban",
          "Suburban",
          "Urban",
          "Urban",
          "Urban",
          "Urban",
          "Suburban",
          "Urban",
          "Urban",
          "Urban",
          "Urban",
          "Urban",
          "Rural",
          "Suburban",
          "Suburban",
          "Urban",
          "Urban",
          "Rural",
          "Suburban",
          "Urban",
          "Suburban",
          "Suburban",
          "Suburban",
          "Suburban",
          "Urban",
          "Suburban",
          "Urban",
          "Suburban",
          "Rural",
          "Rural",
          "Suburban",
          "Rural",
          "Urban",
          "Suburban",
          "Urban",
          "Urban",
          "Urban",
          "Urban",
          "Urban",
          "Suburban",
          "Urban",
          "Suburban",
          "Suburban",
          "Rural",
          "Rural",
          "Urban",
          "Suburban",
          "Rural",
          "Urban",
          "Suburban",
          "Urban",
          "Suburban",
          "Rural",
          "Urban",
          "Suburban",
          "Rural",
          "Urban",
          "Rural",
          "Rural",
          "Rural",
          "Suburban",
          "Urban",
          "Urban",
          "Rural",
          "Urban",
          "Suburban",
          "Suburban",
          "Urban",
          "Urban",
          "Suburban",
          "Suburban",
          "Rural",
          "Urban",
          "Suburban",
          "Rural",
          "Suburban",
          "Urban",
          "Urban",
          "Urban",
          "Urban",
          "Urban",
          "Urban",
          "Urban",
          "Rural",
          "Rural",
          "Urban",
          "Suburban",
          "Rural",
          "Urban",
          "Urban",
          "Urban",
          "Urban",
          "Rural",
          "Urban",
          "Urban",
          "Rural",
          "Rural",
          "Suburban",
          "Rural",
          "Rural",
          "Suburban",
          "Suburban",
          "Rural",
          "Suburban",
          "Urban",
          "Suburban",
          "Urban",
          "Suburban",
          "Suburban",
          "Rural",
          "Rural",
          "Rural",
          "Urban",
          "Rural",
          "Urban",
          "Rural",
          "Rural",
          "Urban",
          "Suburban",
          "Rural",
          "Urban",
          "Rural",
          "Rural",
          "Urban",
          "Urban",
          "Suburban",
          "Suburban",
          "Urban",
          "Suburban",
          "Urban",
          "Urban",
          "Rural",
          "Suburban",
          "Urban",
          "Urban",
          "Urban",
          "Rural",
          "Urban",
          "Rural",
          "Rural",
          "Rural",
          "Urban",
          "Rural",
          "Rural",
          "Rural",
          "Rural",
          "Urban",
          "Rural",
          "Suburban",
          "Suburban",
          "Urban",
          "Suburban",
          "Urban",
          "Urban",
          "Suburban",
          "Suburban",
          "Rural"
         ],
         "x0": " ",
         "xaxis": "x",
         "y": {
          "bdata": "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",
          "dtype": "f8"
         },
         "y0": " ",
         "yaxis": "y"
        }
       ],
       "layout": {
        "boxmode": "group",
        "legend": {
         "tracegroupgap": 0
        },
        "template": {
         "data": {
          "bar": [
           {
            "error_x": {
             "color": "#2a3f5f"
            },
            "error_y": {
             "color": "#2a3f5f"
            },
            "marker": {
             "line": {
              "color": "#E5ECF6",
              "width": 0.5
             },
             "pattern": {
              "fillmode": "overlay",
              "size": 10,
              "solidity": 0.2
             }
            },
            "type": "bar"
           }
          ],
          "barpolar": [
           {
            "marker": {
             "line": {
              "color": "#E5ECF6",
              "width": 0.5
             },
             "pattern": {
              "fillmode": "overlay",
              "size": 10,
              "solidity": 0.2
             }
            },
            "type": "barpolar"
           }
          ],
          "carpet": [
           {
            "aaxis": {
             "endlinecolor": "#2a3f5f",
             "gridcolor": "white",
             "linecolor": "white",
             "minorgridcolor": "white",
             "startlinecolor": "#2a3f5f"
            },
            "baxis": {
             "endlinecolor": "#2a3f5f",
             "gridcolor": "white",
             "linecolor": "white",
             "minorgridcolor": "white",
             "startlinecolor": "#2a3f5f"
            },
            "type": "carpet"
           }
          ],
          "choropleth": [
           {
            "colorbar": {
             "outlinewidth": 0,
             "ticks": ""
            },
            "type": "choropleth"
           }
          ],
          "contour": [
           {
            "colorbar": {
             "outlinewidth": 0,
             "ticks": ""
            },
            "colorscale": [
             [
              0,
              "#0d0887"
             ],
             [
              0.1111111111111111,
              "#46039f"
             ],
             [
              0.2222222222222222,
              "#7201a8"
             ],
             [
              0.3333333333333333,
              "#9c179e"
             ],
             [
              0.4444444444444444,
              "#bd3786"
             ],
             [
              0.5555555555555556,
              "#d8576b"
             ],
             [
              0.6666666666666666,
              "#ed7953"
             ],
             [
              0.7777777777777778,
              "#fb9f3a"
             ],
             [
              0.8888888888888888,
              "#fdca26"
             ],
             [
              1,
              "#f0f921"
             ]
            ],
            "type": "contour"
           }
          ],
          "contourcarpet": [
           {
            "colorbar": {
             "outlinewidth": 0,
             "ticks": ""
            },
            "type": "contourcarpet"
           }
          ],
          "heatmap": [
           {
            "colorbar": {
             "outlinewidth": 0,
             "ticks": ""
            },
            "colorscale": [
             [
              0,
              "#0d0887"
             ],
             [
              0.1111111111111111,
              "#46039f"
             ],
             [
              0.2222222222222222,
              "#7201a8"
             ],
             [
              0.3333333333333333,
              "#9c179e"
             ],
             [
              0.4444444444444444,
              "#bd3786"
             ],
             [
              0.5555555555555556,
              "#d8576b"
             ],
             [
              0.6666666666666666,
              "#ed7953"
             ],
             [
              0.7777777777777778,
              "#fb9f3a"
             ],
             [
              0.8888888888888888,
              "#fdca26"
             ],
             [
              1,
              "#f0f921"
             ]
            ],
            "type": "heatmap"
           }
          ],
          "histogram": [
           {
            "marker": {
             "pattern": {
              "fillmode": "overlay",
              "size": 10,
              "solidity": 0.2
             }
            },
            "type": "histogram"
           }
          ],
          "histogram2d": [
           {
            "colorbar": {
             "outlinewidth": 0,
             "ticks": ""
            },
            "colorscale": [
             [
              0,
              "#0d0887"
             ],
             [
              0.1111111111111111,
              "#46039f"
             ],
             [
              0.2222222222222222,
              "#7201a8"
             ],
             [
              0.3333333333333333,
              "#9c179e"
             ],
             [
              0.4444444444444444,
              "#bd3786"
             ],
             [
              0.5555555555555556,
              "#d8576b"
             ],
             [
              0.6666666666666666,
              "#ed7953"
             ],
             [
              0.7777777777777778,
              "#fb9f3a"
             ],
             [
              0.8888888888888888,
              "#fdca26"
             ],
             [
              1,
              "#f0f921"
             ]
            ],
            "type": "histogram2d"
           }
          ],
          "histogram2dcontour": [
           {
            "colorbar": {
             "outlinewidth": 0,
             "ticks": ""
            },
            "colorscale": [
             [
              0,
              "#0d0887"
             ],
             [
              0.1111111111111111,
              "#46039f"
             ],
             [
              0.2222222222222222,
              "#7201a8"
             ],
             [
              0.3333333333333333,
              "#9c179e"
             ],
             [
              0.4444444444444444,
              "#bd3786"
             ],
             [
              0.5555555555555556,
              "#d8576b"
             ],
             [
              0.6666666666666666,
              "#ed7953"
             ],
             [
              0.7777777777777778,
              "#fb9f3a"
             ],
             [
              0.8888888888888888,
              "#fdca26"
             ],
             [
              1,
              "#f0f921"
             ]
            ],
            "type": "histogram2dcontour"
           }
          ],
          "mesh3d": [
           {
            "colorbar": {
             "outlinewidth": 0,
             "ticks": ""
            },
            "type": "mesh3d"
           }
          ],
          "parcoords": [
           {
            "line": {
             "colorbar": {
              "outlinewidth": 0,
              "ticks": ""
             }
            },
            "type": "parcoords"
           }
          ],
          "pie": [
           {
            "automargin": true,
            "type": "pie"
           }
          ],
          "scatter": [
           {
            "fillpattern": {
             "fillmode": "overlay",
             "size": 10,
             "solidity": 0.2
            },
            "type": "scatter"
           }
          ],
          "scatter3d": [
           {
            "line": {
             "colorbar": {
              "outlinewidth": 0,
              "ticks": ""
             }
            },
            "marker": {
             "colorbar": {
              "outlinewidth": 0,
              "ticks": ""
             }
            },
            "type": "scatter3d"
           }
          ],
          "scattercarpet": [
           {
            "marker": {
             "colorbar": {
              "outlinewidth": 0,
              "ticks": ""
             }
            },
            "type": "scattercarpet"
           }
          ],
          "scattergeo": [
           {
            "marker": {
             "colorbar": {
              "outlinewidth": 0,
              "ticks": ""
             }
            },
            "type": "scattergeo"
           }
          ],
          "scattergl": [
           {
            "marker": {
             "colorbar": {
              "outlinewidth": 0,
              "ticks": ""
             }
            },
            "type": "scattergl"
           }
          ],
          "scattermap": [
           {
            "marker": {
             "colorbar": {
              "outlinewidth": 0,
              "ticks": ""
             }
            },
            "type": "scattermap"
           }
          ],
          "scattermapbox": [
           {
            "marker": {
             "colorbar": {
              "outlinewidth": 0,
              "ticks": ""
             }
            },
            "type": "scattermapbox"
           }
          ],
          "scatterpolar": [
           {
            "marker": {
             "colorbar": {
              "outlinewidth": 0,
              "ticks": ""
             }
            },
            "type": "scatterpolar"
           }
          ],
          "scatterpolargl": [
           {
            "marker": {
             "colorbar": {
              "outlinewidth": 0,
              "ticks": ""
             }
            },
            "type": "scatterpolargl"
           }
          ],
          "scatterternary": [
           {
            "marker": {
             "colorbar": {
              "outlinewidth": 0,
              "ticks": ""
             }
            },
            "type": "scatterternary"
           }
          ],
          "surface": [
           {
            "colorbar": {
             "outlinewidth": 0,
             "ticks": ""
            },
            "colorscale": [
             [
              0,
              "#0d0887"
             ],
             [
              0.1111111111111111,
              "#46039f"
             ],
             [
              0.2222222222222222,
              "#7201a8"
             ],
             [
              0.3333333333333333,
              "#9c179e"
             ],
             [
              0.4444444444444444,
              "#bd3786"
             ],
             [
              0.5555555555555556,
              "#d8576b"
             ],
             [
              0.6666666666666666,
              "#ed7953"
             ],
             [
              0.7777777777777778,
              "#fb9f3a"
             ],
             [
              0.8888888888888888,
              "#fdca26"
             ],
             [
              1,
              "#f0f921"
             ]
            ],
            "type": "surface"
           }
          ],
          "table": [
           {
            "cells": {
             "fill": {
              "color": "#EBF0F8"
             },
             "line": {
              "color": "white"
             }
            },
            "header": {
             "fill": {
              "color": "#C8D4E3"
             },
             "line": {
              "color": "white"
             }
            },
            "type": "table"
           }
          ]
         },
         "layout": {
          "annotationdefaults": {
           "arrowcolor": "#2a3f5f",
           "arrowhead": 0,
           "arrowwidth": 1
          },
          "autotypenumbers": "strict",
          "coloraxis": {
           "colorbar": {
            "outlinewidth": 0,
            "ticks": ""
           }
          },
          "colorscale": {
           "diverging": [
            [
             0,
             "#8e0152"
            ],
            [
             0.1,
             "#c51b7d"
            ],
            [
             0.2,
             "#de77ae"
            ],
            [
             0.3,
             "#f1b6da"
            ],
            [
             0.4,
             "#fde0ef"
            ],
            [
             0.5,
             "#f7f7f7"
            ],
            [
             0.6,
             "#e6f5d0"
            ],
            [
             0.7,
             "#b8e186"
            ],
            [
             0.8,
             "#7fbc41"
            ],
            [
             0.9,
             "#4d9221"
            ],
            [
             1,
             "#276419"
            ]
           ],
           "sequential": [
            [
             0,
             "#0d0887"
            ],
            [
             0.1111111111111111,
             "#46039f"
            ],
            [
             0.2222222222222222,
             "#7201a8"
            ],
            [
             0.3333333333333333,
             "#9c179e"
            ],
            [
             0.4444444444444444,
             "#bd3786"
            ],
            [
             0.5555555555555556,
             "#d8576b"
            ],
            [
             0.6666666666666666,
             "#ed7953"
            ],
            [
             0.7777777777777778,
             "#fb9f3a"
            ],
            [
             0.8888888888888888,
             "#fdca26"
            ],
            [
             1,
             "#f0f921"
            ]
           ],
           "sequentialminus": [
            [
             0,
             "#0d0887"
            ],
            [
             0.1111111111111111,
             "#46039f"
            ],
            [
             0.2222222222222222,
             "#7201a8"
            ],
            [
             0.3333333333333333,
             "#9c179e"
            ],
            [
             0.4444444444444444,
             "#bd3786"
            ],
            [
             0.5555555555555556,
             "#d8576b"
            ],
            [
             0.6666666666666666,
             "#ed7953"
            ],
            [
             0.7777777777777778,
             "#fb9f3a"
            ],
            [
             0.8888888888888888,
             "#fdca26"
            ],
            [
             1,
             "#f0f921"
            ]
           ]
          },
          "colorway": [
           "#636efa",
           "#EF553B",
           "#00cc96",
           "#ab63fa",
           "#FFA15A",
           "#19d3f3",
           "#FF6692",
           "#B6E880",
           "#FF97FF",
           "#FECB52"
          ],
          "font": {
           "color": "#2a3f5f"
          },
          "geo": {
           "bgcolor": "white",
           "lakecolor": "white",
           "landcolor": "#E5ECF6",
           "showlakes": true,
           "showland": true,
           "subunitcolor": "white"
          },
          "hoverlabel": {
           "align": "left"
          },
          "hovermode": "closest",
          "mapbox": {
           "style": "light"
          },
          "paper_bgcolor": "white",
          "plot_bgcolor": "#E5ECF6",
          "polar": {
           "angularaxis": {
            "gridcolor": "white",
            "linecolor": "white",
            "ticks": ""
           },
           "bgcolor": "#E5ECF6",
           "radialaxis": {
            "gridcolor": "white",
            "linecolor": "white",
            "ticks": ""
           }
          },
          "scene": {
           "xaxis": {
            "backgroundcolor": "#E5ECF6",
            "gridcolor": "white",
            "gridwidth": 2,
            "linecolor": "white",
            "showbackground": true,
            "ticks": "",
            "zerolinecolor": "white"
           },
           "yaxis": {
            "backgroundcolor": "#E5ECF6",
            "gridcolor": "white",
            "gridwidth": 2,
            "linecolor": "white",
            "showbackground": true,
            "ticks": "",
            "zerolinecolor": "white"
           },
           "zaxis": {
            "backgroundcolor": "#E5ECF6",
            "gridcolor": "white",
            "gridwidth": 2,
            "linecolor": "white",
            "showbackground": true,
            "ticks": "",
            "zerolinecolor": "white"
           }
          },
          "shapedefaults": {
           "line": {
            "color": "#2a3f5f"
           }
          },
          "ternary": {
           "aaxis": {
            "gridcolor": "white",
            "linecolor": "white",
            "ticks": ""
           },
           "baxis": {
            "gridcolor": "white",
            "linecolor": "white",
            "ticks": ""
           },
           "bgcolor": "#E5ECF6",
           "caxis": {
            "gridcolor": "white",
            "linecolor": "white",
            "ticks": ""
           }
          },
          "title": {
           "x": 0.05
          },
          "xaxis": {
           "automargin": true,
           "gridcolor": "white",
           "linecolor": "white",
           "ticks": "",
           "title": {
            "standoff": 15
           },
           "zerolinecolor": "white",
           "zerolinewidth": 2
          },
          "yaxis": {
           "automargin": true,
           "gridcolor": "white",
           "linecolor": "white",
           "ticks": "",
           "title": {
            "standoff": 15
           },
           "zerolinecolor": "white",
           "zerolinewidth": 2
          }
         }
        },
        "title": {
         "text": "Relationship Between Historical Cost of Ride and Location_Category"
        },
        "xaxis": {
         "anchor": "y",
         "domain": [
          0,
          1
         ],
         "title": {
          "text": "Location_Category"
         }
        },
        "yaxis": {
         "anchor": "x",
         "domain": [
          0,
          1
         ],
         "title": {
          "text": "Historical_Cost_of_Ride"
         }
        }
       }
      }
     },
     "metadata": {},
     "output_type": "display_data"
    }
   ],
   "source": [
    "figure = plx.box( data, x=\"Location_Category\",\n",
    "                     y= \"Historical_Cost_of_Ride\",\n",
    "                     title = \"Relationship Between Historical Cost of Ride and Location_Category\",\n",
    "                    )\n",
    "figure.show()"
   ]
  },
  {
   "cell_type": "markdown",
   "metadata": {},
   "source": [
    "Relationship Between Historical Cost of Ride and Customer_Loyalty_Status"
   ]
  },
  {
   "cell_type": "code",
   "execution_count": 30,
   "metadata": {},
   "outputs": [
    {
     "data": {
      "application/vnd.plotly.v1+json": {
       "config": {
        "plotlyServerURL": "https://plot.ly"
       },
       "data": [
        {
         "alignmentgroup": "True",
         "hovertemplate": "Customer_Loyalty_Status=%{x}<br>Historical_Cost_of_Ride=%{y}<extra></extra>",
         "legendgroup": "",
         "marker": {
          "color": "#636efa"
         },
         "name": "",
         "notched": false,
         "offsetgroup": "",
         "orientation": "v",
         "showlegend": false,
         "type": "box",
         "x": [
          "Silver",
          "Silver",
          "Silver",
          "Regular",
          "Regular",
          "Silver",
          "Regular",
          "Gold",
          "Silver",
          "Silver",
          "Regular",
          "Gold",
          "Gold",
          "Silver",
          "Regular",
          "Silver",
          "Silver",
          "Silver",
          "Gold",
          "Silver",
          "Regular",
          "Silver",
          "Regular",
          "Regular",
          "Gold",
          "Regular",
          "Gold",
          "Silver",
          "Regular",
          "Silver",
          "Silver",
          "Gold",
          "Gold",
          "Gold",
          "Regular",
          "Silver",
          "Gold",
          "Gold",
          "Regular",
          "Regular",
          "Silver",
          "Silver",
          "Regular",
          "Regular",
          "Silver",
          "Regular",
          "Silver",
          "Regular",
          "Silver",
          "Gold",
          "Silver",
          "Silver",
          "Silver",
          "Gold",
          "Silver",
          "Silver",
          "Silver",
          "Regular",
          "Gold",
          "Silver",
          "Regular",
          "Gold",
          "Silver",
          "Regular",
          "Regular",
          "Gold",
          "Regular",
          "Silver",
          "Regular",
          "Regular",
          "Regular",
          "Gold",
          "Regular",
          "Silver",
          "Gold",
          "Gold",
          "Silver",
          "Regular",
          "Silver",
          "Gold",
          "Silver",
          "Silver",
          "Gold",
          "Regular",
          "Gold",
          "Regular",
          "Silver",
          "Gold",
          "Regular",
          "Regular",
          "Regular",
          "Gold",
          "Gold",
          "Silver",
          "Gold",
          "Gold",
          "Regular",
          "Silver",
          "Silver",
          "Regular",
          "Silver",
          "Silver",
          "Gold",
          "Regular",
          "Silver",
          "Gold",
          "Regular",
          "Silver",
          "Regular",
          "Regular",
          "Gold",
          "Regular",
          "Gold",
          "Gold",
          "Gold",
          "Regular",
          "Silver",
          "Regular",
          "Silver",
          "Silver",
          "Gold",
          "Silver",
          "Regular",
          "Gold",
          "Regular",
          "Regular",
          "Silver",
          "Gold",
          "Silver",
          "Gold",
          "Gold",
          "Silver",
          "Silver",
          "Silver",
          "Silver",
          "Silver",
          "Regular",
          "Regular",
          "Gold",
          "Regular",
          "Gold",
          "Silver",
          "Silver",
          "Regular",
          "Gold",
          "Regular",
          "Gold",
          "Regular",
          "Gold",
          "Silver",
          "Silver",
          "Silver",
          "Silver",
          "Gold",
          "Silver",
          "Regular",
          "Regular",
          "Regular",
          "Silver",
          "Regular",
          "Silver",
          "Gold",
          "Regular",
          "Gold",
          "Silver",
          "Regular",
          "Silver",
          "Gold",
          "Gold",
          "Regular",
          "Gold",
          "Regular",
          "Regular",
          "Silver",
          "Gold",
          "Gold",
          "Gold",
          "Silver",
          "Regular",
          "Silver",
          "Gold",
          "Silver",
          "Regular",
          "Silver",
          "Regular",
          "Silver",
          "Silver",
          "Regular",
          "Regular",
          "Regular",
          "Regular",
          "Silver",
          "Regular",
          "Gold",
          "Silver",
          "Regular",
          "Regular",
          "Gold",
          "Silver",
          "Gold",
          "Silver",
          "Silver",
          "Gold",
          "Silver",
          "Regular",
          "Silver",
          "Silver",
          "Gold",
          "Silver",
          "Silver",
          "Regular",
          "Silver",
          "Regular",
          "Gold",
          "Silver",
          "Regular",
          "Silver",
          "Gold",
          "Silver",
          "Silver",
          "Silver",
          "Gold",
          "Gold",
          "Gold",
          "Gold",
          "Silver",
          "Silver",
          "Gold",
          "Silver",
          "Regular",
          "Silver",
          "Regular",
          "Silver",
          "Gold",
          "Gold",
          "Gold",
          "Silver",
          "Silver",
          "Silver",
          "Silver",
          "Gold",
          "Regular",
          "Silver",
          "Silver",
          "Regular",
          "Gold",
          "Silver",
          "Silver",
          "Regular",
          "Gold",
          "Silver",
          "Silver",
          "Silver",
          "Silver",
          "Regular",
          "Gold",
          "Silver",
          "Gold",
          "Gold",
          "Gold",
          "Regular",
          "Regular",
          "Regular",
          "Regular",
          "Silver",
          "Regular",
          "Regular",
          "Gold",
          "Regular",
          "Gold",
          "Regular",
          "Regular",
          "Gold",
          "Silver",
          "Gold",
          "Gold",
          "Regular",
          "Gold",
          "Silver",
          "Silver",
          "Silver",
          "Regular",
          "Silver",
          "Regular",
          "Silver",
          "Silver",
          "Regular",
          "Regular",
          "Silver",
          "Gold",
          "Regular",
          "Silver",
          "Silver",
          "Regular",
          "Regular",
          "Silver",
          "Silver",
          "Silver",
          "Silver",
          "Silver",
          "Regular",
          "Regular",
          "Silver",
          "Regular",
          "Silver",
          "Regular",
          "Gold",
          "Regular",
          "Regular",
          "Gold",
          "Silver",
          "Regular",
          "Silver",
          "Silver",
          "Regular",
          "Regular",
          "Gold",
          "Silver",
          "Silver",
          "Silver",
          "Silver",
          "Regular",
          "Gold",
          "Silver",
          "Silver",
          "Silver",
          "Gold",
          "Silver",
          "Gold",
          "Regular",
          "Gold",
          "Silver",
          "Gold",
          "Gold",
          "Silver",
          "Gold",
          "Silver",
          "Gold",
          "Silver",
          "Silver",
          "Silver",
          "Gold",
          "Silver",
          "Gold",
          "Silver",
          "Silver",
          "Silver",
          "Silver",
          "Regular",
          "Regular",
          "Regular",
          "Regular",
          "Silver",
          "Gold",
          "Regular",
          "Gold",
          "Silver",
          "Regular",
          "Silver",
          "Regular",
          "Regular",
          "Gold",
          "Gold",
          "Gold",
          "Regular",
          "Silver",
          "Regular",
          "Silver",
          "Regular",
          "Regular",
          "Regular",
          "Gold",
          "Regular",
          "Gold",
          "Regular",
          "Gold",
          "Regular",
          "Regular",
          "Silver",
          "Regular",
          "Gold",
          "Silver",
          "Gold",
          "Silver",
          "Regular",
          "Silver",
          "Silver",
          "Gold",
          "Regular",
          "Regular",
          "Silver",
          "Regular",
          "Silver",
          "Regular",
          "Gold",
          "Silver",
          "Gold",
          "Silver",
          "Silver",
          "Gold",
          "Gold",
          "Regular",
          "Gold",
          "Regular",
          "Silver",
          "Silver",
          "Gold",
          "Gold",
          "Gold",
          "Gold",
          "Regular",
          "Silver",
          "Gold",
          "Regular",
          "Gold",
          "Silver",
          "Gold",
          "Silver",
          "Silver",
          "Silver",
          "Regular",
          "Silver",
          "Gold",
          "Silver",
          "Regular",
          "Regular",
          "Silver",
          "Gold",
          "Silver",
          "Silver",
          "Gold",
          "Silver",
          "Gold",
          "Regular",
          "Silver",
          "Silver",
          "Regular",
          "Regular",
          "Silver",
          "Silver",
          "Gold",
          "Regular",
          "Silver",
          "Silver",
          "Gold",
          "Gold",
          "Gold",
          "Regular",
          "Silver",
          "Silver",
          "Gold",
          "Gold",
          "Regular",
          "Regular",
          "Regular",
          "Regular",
          "Gold",
          "Regular",
          "Gold",
          "Silver",
          "Silver",
          "Regular",
          "Regular",
          "Regular",
          "Regular",
          "Gold",
          "Regular",
          "Gold",
          "Gold",
          "Silver",
          "Regular",
          "Silver",
          "Regular",
          "Regular",
          "Silver",
          "Gold",
          "Silver",
          "Silver",
          "Silver",
          "Gold",
          "Silver",
          "Regular",
          "Silver",
          "Silver",
          "Regular",
          "Silver",
          "Gold",
          "Gold",
          "Gold",
          "Regular",
          "Silver",
          "Silver",
          "Silver",
          "Silver",
          "Silver",
          "Regular",
          "Silver",
          "Regular",
          "Gold",
          "Gold",
          "Gold",
          "Gold",
          "Silver",
          "Gold",
          "Silver",
          "Gold",
          "Silver",
          "Regular",
          "Gold",
          "Gold",
          "Silver",
          "Silver",
          "Regular",
          "Silver",
          "Silver",
          "Silver",
          "Regular",
          "Gold",
          "Gold",
          "Silver",
          "Regular",
          "Silver",
          "Regular",
          "Regular",
          "Gold",
          "Silver",
          "Regular",
          "Silver",
          "Silver",
          "Gold",
          "Silver",
          "Regular",
          "Regular",
          "Regular",
          "Gold",
          "Regular",
          "Gold",
          "Regular",
          "Gold",
          "Silver",
          "Silver",
          "Gold",
          "Regular",
          "Regular",
          "Silver",
          "Gold",
          "Silver",
          "Gold",
          "Gold",
          "Regular",
          "Silver",
          "Regular",
          "Regular",
          "Gold",
          "Gold",
          "Silver",
          "Silver",
          "Gold",
          "Gold",
          "Regular",
          "Regular",
          "Gold",
          "Silver",
          "Silver",
          "Gold",
          "Silver",
          "Silver",
          "Gold",
          "Gold",
          "Gold",
          "Regular",
          "Gold",
          "Silver",
          "Regular",
          "Gold",
          "Silver",
          "Gold",
          "Gold",
          "Silver",
          "Gold",
          "Gold",
          "Gold",
          "Gold",
          "Regular",
          "Regular",
          "Gold",
          "Gold",
          "Gold",
          "Gold",
          "Gold",
          "Regular",
          "Gold",
          "Regular",
          "Silver",
          "Silver",
          "Gold",
          "Gold",
          "Regular",
          "Silver",
          "Regular",
          "Gold",
          "Regular",
          "Regular",
          "Silver",
          "Gold",
          "Regular",
          "Silver",
          "Silver",
          "Gold",
          "Regular",
          "Gold",
          "Silver",
          "Gold",
          "Regular",
          "Regular",
          "Regular",
          "Gold",
          "Regular",
          "Gold",
          "Gold",
          "Regular",
          "Regular",
          "Regular",
          "Silver",
          "Silver",
          "Gold",
          "Silver",
          "Gold",
          "Silver",
          "Regular",
          "Gold",
          "Gold",
          "Regular",
          "Gold",
          "Regular",
          "Regular",
          "Silver",
          "Regular",
          "Gold",
          "Regular",
          "Regular",
          "Silver",
          "Regular",
          "Regular",
          "Silver",
          "Silver",
          "Silver",
          "Regular",
          "Gold",
          "Silver",
          "Gold",
          "Gold",
          "Gold",
          "Gold",
          "Gold",
          "Regular",
          "Silver",
          "Silver",
          "Regular",
          "Silver",
          "Gold",
          "Silver",
          "Regular",
          "Gold",
          "Regular",
          "Gold",
          "Regular",
          "Silver",
          "Regular",
          "Regular",
          "Silver",
          "Regular",
          "Regular",
          "Regular",
          "Regular",
          "Gold",
          "Regular",
          "Gold",
          "Gold",
          "Silver",
          "Regular",
          "Regular",
          "Gold",
          "Gold",
          "Silver",
          "Gold",
          "Silver",
          "Regular",
          "Regular",
          "Regular",
          "Silver",
          "Gold",
          "Silver",
          "Silver",
          "Gold",
          "Regular",
          "Regular",
          "Gold",
          "Gold",
          "Silver",
          "Regular",
          "Gold",
          "Silver",
          "Gold",
          "Regular",
          "Gold",
          "Gold",
          "Regular",
          "Silver",
          "Gold",
          "Regular",
          "Silver",
          "Silver",
          "Silver",
          "Regular",
          "Gold",
          "Silver",
          "Silver",
          "Regular",
          "Gold",
          "Gold",
          "Silver",
          "Gold",
          "Regular",
          "Silver",
          "Regular",
          "Silver",
          "Regular",
          "Silver",
          "Gold",
          "Silver",
          "Silver",
          "Regular",
          "Gold",
          "Gold",
          "Regular",
          "Silver",
          "Gold",
          "Silver",
          "Gold",
          "Gold",
          "Silver",
          "Silver",
          "Gold",
          "Silver",
          "Silver",
          "Gold",
          "Silver",
          "Gold",
          "Gold",
          "Silver",
          "Silver",
          "Silver",
          "Gold",
          "Silver",
          "Regular",
          "Silver",
          "Regular",
          "Regular",
          "Regular",
          "Silver",
          "Silver",
          "Regular",
          "Silver",
          "Gold",
          "Silver",
          "Gold",
          "Silver",
          "Silver",
          "Gold",
          "Gold",
          "Silver",
          "Regular",
          "Silver",
          "Gold",
          "Gold",
          "Regular",
          "Regular",
          "Gold",
          "Regular",
          "Gold",
          "Gold",
          "Regular",
          "Regular",
          "Silver",
          "Gold",
          "Regular",
          "Silver",
          "Gold",
          "Silver",
          "Gold",
          "Silver",
          "Gold",
          "Gold",
          "Silver",
          "Regular",
          "Regular",
          "Silver",
          "Gold",
          "Silver",
          "Silver",
          "Gold",
          "Gold",
          "Silver",
          "Gold",
          "Regular",
          "Silver",
          "Regular",
          "Gold",
          "Regular",
          "Silver",
          "Gold",
          "Gold",
          "Gold",
          "Regular",
          "Regular",
          "Regular",
          "Gold",
          "Regular",
          "Regular",
          "Silver",
          "Silver",
          "Regular",
          "Silver",
          "Silver",
          "Gold",
          "Gold",
          "Silver",
          "Silver",
          "Gold",
          "Gold",
          "Gold",
          "Gold",
          "Silver",
          "Silver",
          "Silver",
          "Gold",
          "Silver",
          "Gold",
          "Silver",
          "Regular",
          "Regular",
          "Regular",
          "Gold",
          "Gold",
          "Silver",
          "Gold",
          "Silver",
          "Regular",
          "Gold",
          "Regular",
          "Regular",
          "Regular",
          "Gold",
          "Gold",
          "Regular",
          "Silver",
          "Gold",
          "Regular",
          "Regular",
          "Silver",
          "Regular",
          "Gold",
          "Silver",
          "Silver",
          "Regular",
          "Silver",
          "Gold",
          "Gold",
          "Gold",
          "Silver",
          "Regular",
          "Regular",
          "Gold",
          "Regular",
          "Silver",
          "Regular",
          "Silver",
          "Regular",
          "Silver",
          "Silver",
          "Gold",
          "Regular",
          "Silver",
          "Silver",
          "Silver",
          "Gold",
          "Regular",
          "Silver",
          "Silver",
          "Silver",
          "Silver",
          "Regular",
          "Silver",
          "Regular",
          "Regular",
          "Gold",
          "Gold",
          "Regular",
          "Silver",
          "Silver",
          "Silver",
          "Silver",
          "Regular",
          "Regular",
          "Regular",
          "Silver",
          "Gold",
          "Regular",
          "Regular",
          "Regular",
          "Gold",
          "Regular",
          "Regular",
          "Silver",
          "Regular",
          "Regular",
          "Gold",
          "Gold",
          "Silver",
          "Gold",
          "Regular",
          "Silver",
          "Gold",
          "Silver",
          "Regular",
          "Silver",
          "Silver",
          "Silver",
          "Regular",
          "Gold",
          "Silver",
          "Silver",
          "Regular",
          "Regular",
          "Silver",
          "Silver",
          "Silver",
          "Regular",
          "Silver",
          "Gold",
          "Regular",
          "Regular",
          "Silver",
          "Silver",
          "Regular",
          "Gold",
          "Regular",
          "Regular",
          "Silver",
          "Gold",
          "Regular",
          "Silver",
          "Regular",
          "Gold",
          "Silver",
          "Gold",
          "Regular",
          "Gold",
          "Regular",
          "Regular",
          "Silver",
          "Regular",
          "Silver",
          "Silver",
          "Regular",
          "Gold",
          "Regular",
          "Regular",
          "Gold",
          "Gold",
          "Silver",
          "Gold",
          "Gold",
          "Gold",
          "Gold",
          "Silver",
          "Silver",
          "Gold",
          "Silver",
          "Silver",
          "Gold",
          "Gold",
          "Regular",
          "Silver",
          "Regular",
          "Gold",
          "Regular",
          "Silver",
          "Gold",
          "Gold",
          "Gold",
          "Silver",
          "Gold",
          "Regular",
          "Gold",
          "Regular",
          "Gold",
          "Regular",
          "Gold"
         ],
         "x0": " ",
         "xaxis": "x",
         "y": {
          "bdata": "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",
          "dtype": "f8"
         },
         "y0": " ",
         "yaxis": "y"
        }
       ],
       "layout": {
        "boxmode": "group",
        "legend": {
         "tracegroupgap": 0
        },
        "template": {
         "data": {
          "bar": [
           {
            "error_x": {
             "color": "#2a3f5f"
            },
            "error_y": {
             "color": "#2a3f5f"
            },
            "marker": {
             "line": {
              "color": "#E5ECF6",
              "width": 0.5
             },
             "pattern": {
              "fillmode": "overlay",
              "size": 10,
              "solidity": 0.2
             }
            },
            "type": "bar"
           }
          ],
          "barpolar": [
           {
            "marker": {
             "line": {
              "color": "#E5ECF6",
              "width": 0.5
             },
             "pattern": {
              "fillmode": "overlay",
              "size": 10,
              "solidity": 0.2
             }
            },
            "type": "barpolar"
           }
          ],
          "carpet": [
           {
            "aaxis": {
             "endlinecolor": "#2a3f5f",
             "gridcolor": "white",
             "linecolor": "white",
             "minorgridcolor": "white",
             "startlinecolor": "#2a3f5f"
            },
            "baxis": {
             "endlinecolor": "#2a3f5f",
             "gridcolor": "white",
             "linecolor": "white",
             "minorgridcolor": "white",
             "startlinecolor": "#2a3f5f"
            },
            "type": "carpet"
           }
          ],
          "choropleth": [
           {
            "colorbar": {
             "outlinewidth": 0,
             "ticks": ""
            },
            "type": "choropleth"
           }
          ],
          "contour": [
           {
            "colorbar": {
             "outlinewidth": 0,
             "ticks": ""
            },
            "colorscale": [
             [
              0,
              "#0d0887"
             ],
             [
              0.1111111111111111,
              "#46039f"
             ],
             [
              0.2222222222222222,
              "#7201a8"
             ],
             [
              0.3333333333333333,
              "#9c179e"
             ],
             [
              0.4444444444444444,
              "#bd3786"
             ],
             [
              0.5555555555555556,
              "#d8576b"
             ],
             [
              0.6666666666666666,
              "#ed7953"
             ],
             [
              0.7777777777777778,
              "#fb9f3a"
             ],
             [
              0.8888888888888888,
              "#fdca26"
             ],
             [
              1,
              "#f0f921"
             ]
            ],
            "type": "contour"
           }
          ],
          "contourcarpet": [
           {
            "colorbar": {
             "outlinewidth": 0,
             "ticks": ""
            },
            "type": "contourcarpet"
           }
          ],
          "heatmap": [
           {
            "colorbar": {
             "outlinewidth": 0,
             "ticks": ""
            },
            "colorscale": [
             [
              0,
              "#0d0887"
             ],
             [
              0.1111111111111111,
              "#46039f"
             ],
             [
              0.2222222222222222,
              "#7201a8"
             ],
             [
              0.3333333333333333,
              "#9c179e"
             ],
             [
              0.4444444444444444,
              "#bd3786"
             ],
             [
              0.5555555555555556,
              "#d8576b"
             ],
             [
              0.6666666666666666,
              "#ed7953"
             ],
             [
              0.7777777777777778,
              "#fb9f3a"
             ],
             [
              0.8888888888888888,
              "#fdca26"
             ],
             [
              1,
              "#f0f921"
             ]
            ],
            "type": "heatmap"
           }
          ],
          "histogram": [
           {
            "marker": {
             "pattern": {
              "fillmode": "overlay",
              "size": 10,
              "solidity": 0.2
             }
            },
            "type": "histogram"
           }
          ],
          "histogram2d": [
           {
            "colorbar": {
             "outlinewidth": 0,
             "ticks": ""
            },
            "colorscale": [
             [
              0,
              "#0d0887"
             ],
             [
              0.1111111111111111,
              "#46039f"
             ],
             [
              0.2222222222222222,
              "#7201a8"
             ],
             [
              0.3333333333333333,
              "#9c179e"
             ],
             [
              0.4444444444444444,
              "#bd3786"
             ],
             [
              0.5555555555555556,
              "#d8576b"
             ],
             [
              0.6666666666666666,
              "#ed7953"
             ],
             [
              0.7777777777777778,
              "#fb9f3a"
             ],
             [
              0.8888888888888888,
              "#fdca26"
             ],
             [
              1,
              "#f0f921"
             ]
            ],
            "type": "histogram2d"
           }
          ],
          "histogram2dcontour": [
           {
            "colorbar": {
             "outlinewidth": 0,
             "ticks": ""
            },
            "colorscale": [
             [
              0,
              "#0d0887"
             ],
             [
              0.1111111111111111,
              "#46039f"
             ],
             [
              0.2222222222222222,
              "#7201a8"
             ],
             [
              0.3333333333333333,
              "#9c179e"
             ],
             [
              0.4444444444444444,
              "#bd3786"
             ],
             [
              0.5555555555555556,
              "#d8576b"
             ],
             [
              0.6666666666666666,
              "#ed7953"
             ],
             [
              0.7777777777777778,
              "#fb9f3a"
             ],
             [
              0.8888888888888888,
              "#fdca26"
             ],
             [
              1,
              "#f0f921"
             ]
            ],
            "type": "histogram2dcontour"
           }
          ],
          "mesh3d": [
           {
            "colorbar": {
             "outlinewidth": 0,
             "ticks": ""
            },
            "type": "mesh3d"
           }
          ],
          "parcoords": [
           {
            "line": {
             "colorbar": {
              "outlinewidth": 0,
              "ticks": ""
             }
            },
            "type": "parcoords"
           }
          ],
          "pie": [
           {
            "automargin": true,
            "type": "pie"
           }
          ],
          "scatter": [
           {
            "fillpattern": {
             "fillmode": "overlay",
             "size": 10,
             "solidity": 0.2
            },
            "type": "scatter"
           }
          ],
          "scatter3d": [
           {
            "line": {
             "colorbar": {
              "outlinewidth": 0,
              "ticks": ""
             }
            },
            "marker": {
             "colorbar": {
              "outlinewidth": 0,
              "ticks": ""
             }
            },
            "type": "scatter3d"
           }
          ],
          "scattercarpet": [
           {
            "marker": {
             "colorbar": {
              "outlinewidth": 0,
              "ticks": ""
             }
            },
            "type": "scattercarpet"
           }
          ],
          "scattergeo": [
           {
            "marker": {
             "colorbar": {
              "outlinewidth": 0,
              "ticks": ""
             }
            },
            "type": "scattergeo"
           }
          ],
          "scattergl": [
           {
            "marker": {
             "colorbar": {
              "outlinewidth": 0,
              "ticks": ""
             }
            },
            "type": "scattergl"
           }
          ],
          "scattermap": [
           {
            "marker": {
             "colorbar": {
              "outlinewidth": 0,
              "ticks": ""
             }
            },
            "type": "scattermap"
           }
          ],
          "scattermapbox": [
           {
            "marker": {
             "colorbar": {
              "outlinewidth": 0,
              "ticks": ""
             }
            },
            "type": "scattermapbox"
           }
          ],
          "scatterpolar": [
           {
            "marker": {
             "colorbar": {
              "outlinewidth": 0,
              "ticks": ""
             }
            },
            "type": "scatterpolar"
           }
          ],
          "scatterpolargl": [
           {
            "marker": {
             "colorbar": {
              "outlinewidth": 0,
              "ticks": ""
             }
            },
            "type": "scatterpolargl"
           }
          ],
          "scatterternary": [
           {
            "marker": {
             "colorbar": {
              "outlinewidth": 0,
              "ticks": ""
             }
            },
            "type": "scatterternary"
           }
          ],
          "surface": [
           {
            "colorbar": {
             "outlinewidth": 0,
             "ticks": ""
            },
            "colorscale": [
             [
              0,
              "#0d0887"
             ],
             [
              0.1111111111111111,
              "#46039f"
             ],
             [
              0.2222222222222222,
              "#7201a8"
             ],
             [
              0.3333333333333333,
              "#9c179e"
             ],
             [
              0.4444444444444444,
              "#bd3786"
             ],
             [
              0.5555555555555556,
              "#d8576b"
             ],
             [
              0.6666666666666666,
              "#ed7953"
             ],
             [
              0.7777777777777778,
              "#fb9f3a"
             ],
             [
              0.8888888888888888,
              "#fdca26"
             ],
             [
              1,
              "#f0f921"
             ]
            ],
            "type": "surface"
           }
          ],
          "table": [
           {
            "cells": {
             "fill": {
              "color": "#EBF0F8"
             },
             "line": {
              "color": "white"
             }
            },
            "header": {
             "fill": {
              "color": "#C8D4E3"
             },
             "line": {
              "color": "white"
             }
            },
            "type": "table"
           }
          ]
         },
         "layout": {
          "annotationdefaults": {
           "arrowcolor": "#2a3f5f",
           "arrowhead": 0,
           "arrowwidth": 1
          },
          "autotypenumbers": "strict",
          "coloraxis": {
           "colorbar": {
            "outlinewidth": 0,
            "ticks": ""
           }
          },
          "colorscale": {
           "diverging": [
            [
             0,
             "#8e0152"
            ],
            [
             0.1,
             "#c51b7d"
            ],
            [
             0.2,
             "#de77ae"
            ],
            [
             0.3,
             "#f1b6da"
            ],
            [
             0.4,
             "#fde0ef"
            ],
            [
             0.5,
             "#f7f7f7"
            ],
            [
             0.6,
             "#e6f5d0"
            ],
            [
             0.7,
             "#b8e186"
            ],
            [
             0.8,
             "#7fbc41"
            ],
            [
             0.9,
             "#4d9221"
            ],
            [
             1,
             "#276419"
            ]
           ],
           "sequential": [
            [
             0,
             "#0d0887"
            ],
            [
             0.1111111111111111,
             "#46039f"
            ],
            [
             0.2222222222222222,
             "#7201a8"
            ],
            [
             0.3333333333333333,
             "#9c179e"
            ],
            [
             0.4444444444444444,
             "#bd3786"
            ],
            [
             0.5555555555555556,
             "#d8576b"
            ],
            [
             0.6666666666666666,
             "#ed7953"
            ],
            [
             0.7777777777777778,
             "#fb9f3a"
            ],
            [
             0.8888888888888888,
             "#fdca26"
            ],
            [
             1,
             "#f0f921"
            ]
           ],
           "sequentialminus": [
            [
             0,
             "#0d0887"
            ],
            [
             0.1111111111111111,
             "#46039f"
            ],
            [
             0.2222222222222222,
             "#7201a8"
            ],
            [
             0.3333333333333333,
             "#9c179e"
            ],
            [
             0.4444444444444444,
             "#bd3786"
            ],
            [
             0.5555555555555556,
             "#d8576b"
            ],
            [
             0.6666666666666666,
             "#ed7953"
            ],
            [
             0.7777777777777778,
             "#fb9f3a"
            ],
            [
             0.8888888888888888,
             "#fdca26"
            ],
            [
             1,
             "#f0f921"
            ]
           ]
          },
          "colorway": [
           "#636efa",
           "#EF553B",
           "#00cc96",
           "#ab63fa",
           "#FFA15A",
           "#19d3f3",
           "#FF6692",
           "#B6E880",
           "#FF97FF",
           "#FECB52"
          ],
          "font": {
           "color": "#2a3f5f"
          },
          "geo": {
           "bgcolor": "white",
           "lakecolor": "white",
           "landcolor": "#E5ECF6",
           "showlakes": true,
           "showland": true,
           "subunitcolor": "white"
          },
          "hoverlabel": {
           "align": "left"
          },
          "hovermode": "closest",
          "mapbox": {
           "style": "light"
          },
          "paper_bgcolor": "white",
          "plot_bgcolor": "#E5ECF6",
          "polar": {
           "angularaxis": {
            "gridcolor": "white",
            "linecolor": "white",
            "ticks": ""
           },
           "bgcolor": "#E5ECF6",
           "radialaxis": {
            "gridcolor": "white",
            "linecolor": "white",
            "ticks": ""
           }
          },
          "scene": {
           "xaxis": {
            "backgroundcolor": "#E5ECF6",
            "gridcolor": "white",
            "gridwidth": 2,
            "linecolor": "white",
            "showbackground": true,
            "ticks": "",
            "zerolinecolor": "white"
           },
           "yaxis": {
            "backgroundcolor": "#E5ECF6",
            "gridcolor": "white",
            "gridwidth": 2,
            "linecolor": "white",
            "showbackground": true,
            "ticks": "",
            "zerolinecolor": "white"
           },
           "zaxis": {
            "backgroundcolor": "#E5ECF6",
            "gridcolor": "white",
            "gridwidth": 2,
            "linecolor": "white",
            "showbackground": true,
            "ticks": "",
            "zerolinecolor": "white"
           }
          },
          "shapedefaults": {
           "line": {
            "color": "#2a3f5f"
           }
          },
          "ternary": {
           "aaxis": {
            "gridcolor": "white",
            "linecolor": "white",
            "ticks": ""
           },
           "baxis": {
            "gridcolor": "white",
            "linecolor": "white",
            "ticks": ""
           },
           "bgcolor": "#E5ECF6",
           "caxis": {
            "gridcolor": "white",
            "linecolor": "white",
            "ticks": ""
           }
          },
          "title": {
           "x": 0.05
          },
          "xaxis": {
           "automargin": true,
           "gridcolor": "white",
           "linecolor": "white",
           "ticks": "",
           "title": {
            "standoff": 15
           },
           "zerolinecolor": "white",
           "zerolinewidth": 2
          },
          "yaxis": {
           "automargin": true,
           "gridcolor": "white",
           "linecolor": "white",
           "ticks": "",
           "title": {
            "standoff": 15
           },
           "zerolinecolor": "white",
           "zerolinewidth": 2
          }
         }
        },
        "title": {
         "text": "Relationship Between Historical Cost of Ride and Expected_Ride_Duration"
        },
        "xaxis": {
         "anchor": "y",
         "domain": [
          0,
          1
         ],
         "title": {
          "text": "Customer_Loyalty_Status"
         }
        },
        "yaxis": {
         "anchor": "x",
         "domain": [
          0,
          1
         ],
         "title": {
          "text": "Historical_Cost_of_Ride"
         }
        }
       }
      }
     },
     "metadata": {},
     "output_type": "display_data"
    }
   ],
   "source": [
    "figure = plx.box( data, x=\"Customer_Loyalty_Status\",\n",
    "                     y= \"Historical_Cost_of_Ride\",\n",
    "                     title = \"Relationship Between Historical Cost of Ride and Expected_Ride_Duration\",\n",
    "                    )\n",
    "figure.show()"
   ]
  },
  {
   "cell_type": "markdown",
   "metadata": {},
   "source": [
    "Relationship Between Historical Cost of Ride and Time_of_Booking"
   ]
  },
  {
   "cell_type": "code",
   "execution_count": 31,
   "metadata": {},
   "outputs": [
    {
     "data": {
      "application/vnd.plotly.v1+json": {
       "config": {
        "plotlyServerURL": "https://plot.ly"
       },
       "data": [
        {
         "alignmentgroup": "True",
         "hovertemplate": "Time_of_Booking=%{x}<br>Historical_Cost_of_Ride=%{y}<extra></extra>",
         "legendgroup": "",
         "marker": {
          "color": "#636efa"
         },
         "name": "",
         "notched": false,
         "offsetgroup": "",
         "orientation": "v",
         "showlegend": false,
         "type": "box",
         "x": [
          "Night",
          "Evening",
          "Afternoon",
          "Afternoon",
          "Afternoon",
          "Night",
          "Afternoon",
          "Afternoon",
          "Evening",
          "Night",
          "Morning",
          "Evening",
          "Morning",
          "Night",
          "Afternoon",
          "Afternoon",
          "Afternoon",
          "Afternoon",
          "Evening",
          "Evening",
          "Afternoon",
          "Night",
          "Morning",
          "Evening",
          "Night",
          "Evening",
          "Morning",
          "Night",
          "Evening",
          "Night",
          "Morning",
          "Evening",
          "Afternoon",
          "Evening",
          "Morning",
          "Morning",
          "Afternoon",
          "Evening",
          "Morning",
          "Evening",
          "Night",
          "Night",
          "Evening",
          "Afternoon",
          "Morning",
          "Afternoon",
          "Night",
          "Evening",
          "Night",
          "Night",
          "Afternoon",
          "Morning",
          "Evening",
          "Afternoon",
          "Night",
          "Evening",
          "Night",
          "Morning",
          "Night",
          "Night",
          "Afternoon",
          "Morning",
          "Night",
          "Afternoon",
          "Night",
          "Evening",
          "Afternoon",
          "Morning",
          "Night",
          "Night",
          "Evening",
          "Night",
          "Afternoon",
          "Night",
          "Afternoon",
          "Evening",
          "Night",
          "Night",
          "Night",
          "Night",
          "Afternoon",
          "Afternoon",
          "Evening",
          "Afternoon",
          "Night",
          "Morning",
          "Afternoon",
          "Night",
          "Evening",
          "Morning",
          "Afternoon",
          "Evening",
          "Evening",
          "Afternoon",
          "Evening",
          "Afternoon",
          "Afternoon",
          "Evening",
          "Afternoon",
          "Morning",
          "Night",
          "Afternoon",
          "Morning",
          "Evening",
          "Morning",
          "Afternoon",
          "Afternoon",
          "Evening",
          "Night",
          "Night",
          "Afternoon",
          "Afternoon",
          "Night",
          "Night",
          "Morning",
          "Night",
          "Evening",
          "Afternoon",
          "Evening",
          "Night",
          "Morning",
          "Night",
          "Afternoon",
          "Morning",
          "Morning",
          "Evening",
          "Morning",
          "Night",
          "Afternoon",
          "Night",
          "Night",
          "Evening",
          "Night",
          "Evening",
          "Afternoon",
          "Afternoon",
          "Night",
          "Night",
          "Night",
          "Afternoon",
          "Night",
          "Morning",
          "Morning",
          "Afternoon",
          "Afternoon",
          "Morning",
          "Night",
          "Night",
          "Morning",
          "Morning",
          "Afternoon",
          "Evening",
          "Evening",
          "Afternoon",
          "Evening",
          "Night",
          "Morning",
          "Evening",
          "Morning",
          "Afternoon",
          "Night",
          "Night",
          "Night",
          "Morning",
          "Night",
          "Afternoon",
          "Night",
          "Night",
          "Night",
          "Morning",
          "Morning",
          "Night",
          "Morning",
          "Night",
          "Night",
          "Afternoon",
          "Morning",
          "Night",
          "Morning",
          "Evening",
          "Evening",
          "Evening",
          "Morning",
          "Morning",
          "Night",
          "Morning",
          "Afternoon",
          "Evening",
          "Evening",
          "Evening",
          "Morning",
          "Evening",
          "Afternoon",
          "Morning",
          "Evening",
          "Night",
          "Night",
          "Morning",
          "Evening",
          "Night",
          "Night",
          "Night",
          "Night",
          "Afternoon",
          "Morning",
          "Evening",
          "Afternoon",
          "Evening",
          "Morning",
          "Afternoon",
          "Night",
          "Morning",
          "Afternoon",
          "Morning",
          "Afternoon",
          "Evening",
          "Night",
          "Morning",
          "Night",
          "Afternoon",
          "Morning",
          "Night",
          "Evening",
          "Evening",
          "Night",
          "Night",
          "Night",
          "Evening",
          "Morning",
          "Morning",
          "Morning",
          "Morning",
          "Night",
          "Evening",
          "Morning",
          "Afternoon",
          "Evening",
          "Morning",
          "Night",
          "Afternoon",
          "Evening",
          "Night",
          "Morning",
          "Night",
          "Night",
          "Morning",
          "Evening",
          "Afternoon",
          "Morning",
          "Night",
          "Afternoon",
          "Night",
          "Night",
          "Afternoon",
          "Evening",
          "Afternoon",
          "Morning",
          "Morning",
          "Morning",
          "Afternoon",
          "Morning",
          "Morning",
          "Afternoon",
          "Afternoon",
          "Morning",
          "Evening",
          "Afternoon",
          "Evening",
          "Night",
          "Evening",
          "Afternoon",
          "Night",
          "Afternoon",
          "Morning",
          "Afternoon",
          "Night",
          "Night",
          "Afternoon",
          "Afternoon",
          "Morning",
          "Afternoon",
          "Night",
          "Night",
          "Morning",
          "Night",
          "Morning",
          "Afternoon",
          "Night",
          "Morning",
          "Afternoon",
          "Morning",
          "Evening",
          "Night",
          "Afternoon",
          "Morning",
          "Night",
          "Evening",
          "Afternoon",
          "Afternoon",
          "Night",
          "Night",
          "Morning",
          "Afternoon",
          "Night",
          "Night",
          "Afternoon",
          "Evening",
          "Afternoon",
          "Afternoon",
          "Morning",
          "Morning",
          "Night",
          "Afternoon",
          "Evening",
          "Night",
          "Morning",
          "Night",
          "Morning",
          "Afternoon",
          "Evening",
          "Afternoon",
          "Afternoon",
          "Evening",
          "Morning",
          "Morning",
          "Afternoon",
          "Morning",
          "Afternoon",
          "Night",
          "Night",
          "Afternoon",
          "Morning",
          "Evening",
          "Evening",
          "Afternoon",
          "Morning",
          "Evening",
          "Morning",
          "Evening",
          "Morning",
          "Morning",
          "Afternoon",
          "Morning",
          "Night",
          "Night",
          "Afternoon",
          "Morning",
          "Evening",
          "Afternoon",
          "Morning",
          "Afternoon",
          "Morning",
          "Evening",
          "Evening",
          "Afternoon",
          "Night",
          "Morning",
          "Morning",
          "Night",
          "Afternoon",
          "Night",
          "Morning",
          "Evening",
          "Afternoon",
          "Morning",
          "Evening",
          "Night",
          "Morning",
          "Morning",
          "Night",
          "Morning",
          "Morning",
          "Morning",
          "Night",
          "Evening",
          "Evening",
          "Night",
          "Evening",
          "Afternoon",
          "Night",
          "Morning",
          "Evening",
          "Morning",
          "Evening",
          "Night",
          "Afternoon",
          "Afternoon",
          "Morning",
          "Afternoon",
          "Evening",
          "Afternoon",
          "Afternoon",
          "Night",
          "Morning",
          "Night",
          "Afternoon",
          "Morning",
          "Night",
          "Afternoon",
          "Evening",
          "Morning",
          "Evening",
          "Afternoon",
          "Afternoon",
          "Morning",
          "Night",
          "Morning",
          "Night",
          "Morning",
          "Morning",
          "Night",
          "Night",
          "Afternoon",
          "Evening",
          "Morning",
          "Night",
          "Morning",
          "Night",
          "Night",
          "Afternoon",
          "Evening",
          "Evening",
          "Night",
          "Afternoon",
          "Afternoon",
          "Afternoon",
          "Afternoon",
          "Afternoon",
          "Afternoon",
          "Night",
          "Evening",
          "Morning",
          "Evening",
          "Evening",
          "Night",
          "Afternoon",
          "Evening",
          "Morning",
          "Night",
          "Afternoon",
          "Morning",
          "Afternoon",
          "Night",
          "Evening",
          "Night",
          "Evening",
          "Afternoon",
          "Afternoon",
          "Afternoon",
          "Morning",
          "Night",
          "Night",
          "Morning",
          "Afternoon",
          "Night",
          "Morning",
          "Night",
          "Night",
          "Night",
          "Evening",
          "Morning",
          "Night",
          "Afternoon",
          "Morning",
          "Evening",
          "Afternoon",
          "Evening",
          "Morning",
          "Afternoon",
          "Morning",
          "Afternoon",
          "Evening",
          "Afternoon",
          "Evening",
          "Night",
          "Morning",
          "Night",
          "Evening",
          "Evening",
          "Afternoon",
          "Morning",
          "Evening",
          "Evening",
          "Morning",
          "Night",
          "Night",
          "Evening",
          "Evening",
          "Evening",
          "Night",
          "Morning",
          "Night",
          "Morning",
          "Afternoon",
          "Night",
          "Morning",
          "Evening",
          "Evening",
          "Evening",
          "Evening",
          "Evening",
          "Evening",
          "Afternoon",
          "Evening",
          "Evening",
          "Night",
          "Morning",
          "Night",
          "Night",
          "Night",
          "Night",
          "Night",
          "Evening",
          "Afternoon",
          "Morning",
          "Evening",
          "Afternoon",
          "Afternoon",
          "Night",
          "Night",
          "Morning",
          "Night",
          "Evening",
          "Night",
          "Morning",
          "Afternoon",
          "Afternoon",
          "Afternoon",
          "Morning",
          "Afternoon",
          "Evening",
          "Morning",
          "Evening",
          "Evening",
          "Afternoon",
          "Night",
          "Afternoon",
          "Evening",
          "Morning",
          "Morning",
          "Night",
          "Night",
          "Afternoon",
          "Night",
          "Afternoon",
          "Afternoon",
          "Morning",
          "Night",
          "Night",
          "Morning",
          "Night",
          "Evening",
          "Morning",
          "Evening",
          "Night",
          "Evening",
          "Morning",
          "Afternoon",
          "Afternoon",
          "Evening",
          "Morning",
          "Morning",
          "Evening",
          "Morning",
          "Morning",
          "Morning",
          "Morning",
          "Evening",
          "Afternoon",
          "Afternoon",
          "Night",
          "Night",
          "Morning",
          "Night",
          "Morning",
          "Morning",
          "Morning",
          "Evening",
          "Afternoon",
          "Night",
          "Evening",
          "Evening",
          "Night",
          "Night",
          "Evening",
          "Morning",
          "Evening",
          "Afternoon",
          "Evening",
          "Afternoon",
          "Morning",
          "Night",
          "Morning",
          "Evening",
          "Afternoon",
          "Night",
          "Night",
          "Evening",
          "Evening",
          "Night",
          "Night",
          "Morning",
          "Morning",
          "Morning",
          "Night",
          "Morning",
          "Morning",
          "Night",
          "Night",
          "Morning",
          "Evening",
          "Afternoon",
          "Evening",
          "Evening",
          "Night",
          "Night",
          "Afternoon",
          "Afternoon",
          "Morning",
          "Night",
          "Morning",
          "Night",
          "Morning",
          "Night",
          "Morning",
          "Evening",
          "Afternoon",
          "Evening",
          "Night",
          "Afternoon",
          "Afternoon",
          "Night",
          "Afternoon",
          "Night",
          "Evening",
          "Afternoon",
          "Evening",
          "Evening",
          "Night",
          "Evening",
          "Evening",
          "Morning",
          "Afternoon",
          "Night",
          "Afternoon",
          "Afternoon",
          "Morning",
          "Night",
          "Night",
          "Afternoon",
          "Afternoon",
          "Evening",
          "Morning",
          "Morning",
          "Evening",
          "Morning",
          "Morning",
          "Afternoon",
          "Night",
          "Evening",
          "Evening",
          "Evening",
          "Night",
          "Afternoon",
          "Night",
          "Evening",
          "Night",
          "Evening",
          "Afternoon",
          "Afternoon",
          "Evening",
          "Evening",
          "Afternoon",
          "Afternoon",
          "Afternoon",
          "Morning",
          "Night",
          "Morning",
          "Morning",
          "Morning",
          "Afternoon",
          "Evening",
          "Evening",
          "Morning",
          "Evening",
          "Night",
          "Night",
          "Evening",
          "Night",
          "Afternoon",
          "Morning",
          "Night",
          "Afternoon",
          "Afternoon",
          "Night",
          "Morning",
          "Night",
          "Afternoon",
          "Morning",
          "Morning",
          "Night",
          "Night",
          "Morning",
          "Morning",
          "Night",
          "Afternoon",
          "Night",
          "Evening",
          "Evening",
          "Night",
          "Afternoon",
          "Evening",
          "Morning",
          "Morning",
          "Afternoon",
          "Evening",
          "Afternoon",
          "Afternoon",
          "Afternoon",
          "Morning",
          "Morning",
          "Evening",
          "Evening",
          "Afternoon",
          "Morning",
          "Afternoon",
          "Night",
          "Morning",
          "Night",
          "Afternoon",
          "Night",
          "Evening",
          "Afternoon",
          "Morning",
          "Evening",
          "Night",
          "Night",
          "Morning",
          "Afternoon",
          "Morning",
          "Evening",
          "Afternoon",
          "Night",
          "Afternoon",
          "Afternoon",
          "Morning",
          "Morning",
          "Afternoon",
          "Afternoon",
          "Morning",
          "Evening",
          "Night",
          "Evening",
          "Afternoon",
          "Night",
          "Morning",
          "Night",
          "Afternoon",
          "Evening",
          "Night",
          "Afternoon",
          "Evening",
          "Night",
          "Evening",
          "Afternoon",
          "Evening",
          "Morning",
          "Morning",
          "Evening",
          "Night",
          "Night",
          "Night",
          "Afternoon",
          "Night",
          "Afternoon",
          "Evening",
          "Night",
          "Morning",
          "Afternoon",
          "Evening",
          "Night",
          "Afternoon",
          "Morning",
          "Evening",
          "Evening",
          "Evening",
          "Afternoon",
          "Afternoon",
          "Afternoon",
          "Morning",
          "Night",
          "Morning",
          "Evening",
          "Afternoon",
          "Morning",
          "Afternoon",
          "Afternoon",
          "Afternoon",
          "Evening",
          "Evening",
          "Afternoon",
          "Morning",
          "Night",
          "Night",
          "Afternoon",
          "Afternoon",
          "Night",
          "Evening",
          "Night",
          "Evening",
          "Night",
          "Afternoon",
          "Morning",
          "Night",
          "Evening",
          "Afternoon",
          "Night",
          "Afternoon",
          "Morning",
          "Evening",
          "Morning",
          "Afternoon",
          "Morning",
          "Evening",
          "Evening",
          "Night",
          "Evening",
          "Evening",
          "Afternoon",
          "Afternoon",
          "Night",
          "Evening",
          "Afternoon",
          "Evening",
          "Night",
          "Morning",
          "Evening",
          "Morning",
          "Night",
          "Evening",
          "Evening",
          "Night",
          "Afternoon",
          "Evening",
          "Evening",
          "Night",
          "Morning",
          "Evening",
          "Morning",
          "Morning",
          "Evening",
          "Night",
          "Evening",
          "Morning",
          "Night",
          "Morning",
          "Evening",
          "Evening",
          "Night",
          "Morning",
          "Night",
          "Afternoon",
          "Morning",
          "Morning",
          "Night",
          "Morning",
          "Afternoon",
          "Night",
          "Afternoon",
          "Night",
          "Afternoon",
          "Evening",
          "Morning",
          "Night",
          "Evening",
          "Evening",
          "Afternoon",
          "Afternoon",
          "Evening",
          "Night",
          "Night",
          "Night",
          "Evening",
          "Night",
          "Evening",
          "Night",
          "Morning",
          "Morning",
          "Morning",
          "Afternoon",
          "Evening",
          "Afternoon",
          "Night",
          "Morning",
          "Evening",
          "Afternoon",
          "Morning",
          "Afternoon",
          "Morning",
          "Afternoon",
          "Morning",
          "Night",
          "Evening",
          "Afternoon",
          "Evening",
          "Evening",
          "Afternoon",
          "Evening",
          "Morning",
          "Evening",
          "Night",
          "Morning",
          "Night",
          "Morning",
          "Evening",
          "Afternoon",
          "Morning",
          "Afternoon",
          "Evening",
          "Morning",
          "Night",
          "Evening",
          "Night",
          "Night",
          "Evening",
          "Morning",
          "Morning",
          "Morning",
          "Afternoon",
          "Night",
          "Night",
          "Night",
          "Morning",
          "Evening",
          "Morning",
          "Night",
          "Evening",
          "Afternoon",
          "Afternoon",
          "Morning",
          "Afternoon",
          "Evening",
          "Afternoon",
          "Night",
          "Night",
          "Morning",
          "Morning",
          "Afternoon",
          "Morning",
          "Night",
          "Night",
          "Evening",
          "Afternoon",
          "Afternoon",
          "Night",
          "Morning",
          "Morning",
          "Afternoon",
          "Morning",
          "Morning",
          "Morning",
          "Night",
          "Night",
          "Night",
          "Night",
          "Afternoon",
          "Morning",
          "Evening",
          "Evening",
          "Morning",
          "Afternoon",
          "Night",
          "Night",
          "Evening",
          "Evening",
          "Afternoon",
          "Afternoon",
          "Night",
          "Morning",
          "Night",
          "Night",
          "Evening",
          "Night",
          "Night",
          "Night",
          "Morning",
          "Night",
          "Evening",
          "Afternoon",
          "Morning",
          "Evening",
          "Afternoon",
          "Evening",
          "Evening",
          "Evening",
          "Morning",
          "Morning",
          "Night",
          "Night",
          "Afternoon"
         ],
         "x0": " ",
         "xaxis": "x",
         "y": {
          "bdata": "CvJQyh3EcUBYWXr5/btlQFGdqT26nHRAXu3IPjhjfUChgZGNcx2CQLGSMyhJP3VAgVvPSvADWkCSwUfJ+nltQDa97quZVn9AbHw/0uTveEBVxUWWY+qEQPZcD3jX73lA+b3vUJKmfkCipO/R4oNyQANekv1rcXRA88jxnDDSe0AgtdNRKJFuQBce60M7qEdArU0tSt05YEArDLp1K+93QKRJiXF1sVRADwhVF44EUEDcOcxDs2p4QMaHLixUhWpAgbJqbg91bUBbLhSD62h5QFQxqIEuz2ZADh6ROfBkhEAjWuYxojN5QHyPZGRHzoBAAuAAbhricUCXbanm31B+QJSygGDAYmVAmBWAJQ5efkBy3CvnuWtyQMwuF2ZrjXhADzN1KOWCfEAF7BIZeGh/QEYckhX3hm5A+1ma78/Vg0ACsnsfgpZ1QNDz/j7e5GJA7F+tdxSWgEAPmMZFmi1+QASbhSRaP3ZA5qhTGmD/ckBuv+1zBBeAQLvROSAeknZAUMxpOMwQVEBhCW2K+0l6QF9wfTAkR4BA+cpV4WziZkCmvAkaZsRnQHHa6LRqUoBAGvTWRPuqeUAhVEiL90eCQKTzJkf22XJAVDQ9smTZeUC0V6vB4xFxQCeRaQSW5W5AvMJLHC+uakAQkPbHtXxyQMRcc+A7ImJANT83S0yQckCmfiEJf9WEQJinoOq6GHxA+/U5WeOHg0AmDTjbQAJYQKuB5jsT7oNAesxBXGt5ckC7Q0quahV2QDUwo5aMIE9AkCLC8RihcECY6M1hDUJ1QD3BgWchtHtACCdyZ+KQcEBJXWB85q1rQJjZkHmxk3hAStqrq5LyYkBn9PKJ659zQDG0laZs4nZAwj/nvJOfekBvB7uc2XB2QCCbusKBRXBAkOf/zNMEdEDr0tO632d8QPM+xBi5jkZArW1QCjD1a0DKiapSDKVlQKyWEYvsgYJA6xKeyuy0d0C77CD0YIt2QI7KnYfDb2lAE+GFbVxMgUCav3SMdrdxQJp2alVTMntASIiBHyVuhUASUagY47aDQE6WjkdBEYFADzczIdnWXED7S9lezEB5QNu/mP85gWNABdxeEDVUf0DhrILtfpOBQE/OO+CtGWtAL90j3s0FXkAOWdl+C6VrQOR212c4y35A/TQON+CRh0DS548n43BqQItl8v0lzHxA9IldbHCDZEAd6HlgR7ZqQH2rhEjq54ZAHhShhp7pdUDRv1dfJxxoQKUxPFfaYXJA3qrESoyhVEDePSGCtCJ4QFwtj71nbnNA3HmZy2dfd0CDGr6corFrQH9iw8/mmIBAQvKHDBVPdEAhz4ShgtZ+QHc99RwRVYhADCuQ9kGBhkCwvzQwHB5DQA+lcX227IFAnN8WRiFQhUAELOJqfiOAQMlboEpQyH5A/BL0Zg2eSEBys7sPFqt/QKwtQ3ADBXNAFZirU3rLW0ACYsXd3WZkQA0Emjq2LXlA9uZ/V8MTckC6DTPnQdFiQH5FJBrwXWhAlMekIjAVhUAUyh43dTyBQEg8/VnfhmBAC69QICiHUUA07LMrjqR1QPwhRtzcgllA7LmnLD7ifkCen/PpEPVmQJLg8B/sSHtAdoWNXLFcP0BkKYduqjd0QPSb5Rglln9AHUNj0bgNdEBOuAQaHdJqQKRt9SMDtIdAQlH8FdbNhEBumialH2JlQFLD7TPSOoRAr32wogYBg0AGbeCZiN1uQEL9SYIQ4XpArMfCVDjKeEDrzLvkLkB7QEmjuS5BXmlASXw+5UDehkBCIQkXngFrQASj5iWT91RAVqGKt+/hgUBmhUmqprNdQDuinCKYvG5AaGA6sMkxeECgcsSNNb9/QDxcyvexKW9Amkt97GP1RkBktCb9yol6QPhIxw5PflVA0RE5zXiPdEDaFRZTJJRlQHy357UYX3BAUTn6cVXhaED7lgoQEgltQKSz6JP6KWdA6qPKtl04Y0Cwt3FiiZ5fQKJ2xNYHDINAqoUiWJnycUBXIlFoMmV5QFEt4QYwIW9AG2ARqjZng0AWb1Ki+LBwQMri9tAJXoZAK4Rh9SrmekCeJEUzL+KCQM88QVHNcG5Asy+Fa9wGZkAz5LOSrHd9QOLBFfwHVnxAbKvzDW9jb0AUGHdVak6AQDeikubhp3VAkmHfWElCbUBFHRhOyABnQIgZloEYV4FATin1LNUTaEDxHZchfXlsQEDesVqgCXpAZNDn37P9hED4xH1AHkWBQGqYDl/1FXRAQqsrQ+LtakB8G3QP+LeHQNmn6dBls4VAQEQd3+dKg0CGyKl4Kop0QJuixgvNhHdA5xRHHQuNUUCZjPg09Tp8QJ0J63t21nJAeFxWnawsY0CPYEjMmDp1QN3EqFCK64ZAhLoLosN6aUDR/exIJMhxQL5btrnQwX5AZXE+SjyMVUDuqsQsDL+GQFrOu3Di1GNAFzBUZjRDRkDcGtkv0EZ8QFgeRM5+FGNAxoSQ1ZdDekBArRpkf+tiQOd6ZPGzSG5Abv/JgxvDXUAXyNPWHIl9QH3Rdb1j6nRAHqcnUF5heUDxLkXN6zqBQNMkNEMlsIBArveQ4sdTf0BQYZ/ga/NjQHD3zhrRfHZAUlEeh7bKdUC5+vaxEKh+QLNdjozuWn5AKYbuFNeOekAk7xKksDhEQOND93PMJnBAgDkXyd7+f0B9RrN88pt7QFtBseaT8GVARagg3KqUhEDI5WTop7RyQK5r/kPY7H5Ai2Lzvpvwa0C3ly8GIyl7QDF1pV1ts4NA2ccWrwHSe0CxXZ+xxJ92QFbbH+GDtHBAAU7DWqM3gECkH3uV8vuBQLrQ6mkX13VAZI/xa8JzcUC4ldOM/I2FQApvXBHUMFZA5A987F5ug0BqODiB8zlzQAZudxIjjWVAR0fiwezDe0B8gUF3LGeBQAfpDnYxNXZAx487vfavfUAL0I0UxS+CQKfWsuKDu4RAQtg3hcE7gEBSYlE6Ett4QPxskrHLQXhA35yf9Mx4gkCMAHMSZFaCQKZFTCdHR4RA9TwUi7ZSh0C0jIUQyFiBQBoACzqcHnpApD76iUJzWEDkDmgB2iJoQMfMeZdsx35AoG3O0AyNeUB1/Sa2lsJ2QJEI2oiXlGxAyMzYSJLfhECGj2W8e6V5QHEeLKdaM4ZAndvng38mZkCGX5ssBJVSQHbk7BrYhHhAtOk0toYTZUBHxkqqEFqCQACo0rXXn4FAPghVWo8FdkDeDN2r6/R5QLfpMzDohmlAY/UF4W76c0DTGVRx2qB2QPybiM2bN3hA3DmQHKfNdUDEnZ9aY+KGQM8c8A7BenVANTD64rq9gkD69FyXEkx+QFHk2i42KYJAJL0+2+vagkArgI2crB13QHt894cKJ4ZA9nK5Ns26aUCgHwRSfGSFQBytfeoQVHxA4i0Sf1vJeUDuNQeZG4d7QMupJbWANG5APpXYa1wpaUBeuffwooFrQBiWB61O94VAUA3THr/2ekDM8qiKzS19QJpxSZMF0ntAIRyvqTSae0DHYioIK+yEQHbNidMpJnZA5gbhf2abfkCkzOLSMdJrQI9mJ/cWxHlAAGbVpnODfUCLKu9/E35mQBPPgRWUTnNAOtjpIwclc0DyI3FI4A5sQHfU4uq4RFlAZfkGFfnLg0AC/+0JA3BPQBsB0Kz8AVdA0xNz3RivWkDEXbrTXIWBQL92Ra9mLnRAqnq7BW5FckDr+dEQDlhuQJsf7115rHtAV4PBWb+Yf0BgCtixrK59QNLyrzh6S4NAU6NlmK9tckB+slMTvWuGQHnPTq6ir3BAuXNeV/D1d0DnWVYZ8KZwQJrRb25PBnVAsyHW9d/mh0BwNyCujWWCQBM9fffhE3NAeuyKGfsFcECzaHZAT9B8QEbRQXD6LYJAunYi1r6IfUDirOla3uuBQFSYERpSDGhAYuZ6sElAh0AiApaRHsR5QK4Y8yXwsWdAmtTjD7JQdkDyHjwYyRJ6QMy29+6DrXNAGajrBaOvg0D0GcTx/Jh9QPRTQWcY3nNAntAnm/mPYEA9q3nYkux6QAKwExag43VAbqOO9NYmfUC62TPW112EQCJ3QLWRpXBAhDrVgCqmcEDMKfQD2vxyQJ63D4V133xA1J5MX9chaUA8q4uBuY1XQIPJhQ3cFoFAgu4mBPNLckC2yLBC/txiQKVKBMlAt4BAv61CFz+0c0DNqu9h48mCQIavdq/B64VAWTmgSyCAeECJkYaAZr10QL88mzRqOHNApFsjRWQRUUCwOeWahOuHQEAWOqS4C2VALpZIvmD8dUDvEEM0iLV2QP4CzKDeNmlAa9Sk8ShcXkAKKWs/M7aCQB/2hRX9MXdAy9wuzFe1ZUD67gLyJdSAQE8vqaxmn3FAVQUVOjsgcEBPmlFgO8N9QPYTzuxPKV9AX3q6uDbHW0Cnl6AzE116QBWAJOmhwWBAenXNZ+eMYECTcvkI2h+BQJXeRu99n3FA5dbvGuzOZkBo52U7Y5xzQHLEeMMvbnpA3swp35KNgEA/KPuzUv45QD/wx4se+XVAjShLNv1VY0BRzw6t5KVaQHwNPoZUhWBAx5XAw2UOU0BOp64zhbeCQB4M1Qo1mYFAn3fqTnlic0C5KEz2ZiRiQClG50fsOHRAW3QoJ9CQP0Bu1mrtzQ5iQGdatwrHj29ArG7kpWhQYkARvFxU0lx/QE2v8kPcFYNA8Dlak2VIaEBcrxCtXONzQCceyTkABYBAgPNNpiJfgUDTTi5jFUVuQPbnEcHWs0RAuzLrpV6cZkCsHNlFLc+AQB7phq1NZYFAEX8jkM3RY0BJLIwUA7lNQLVv5uhR4nRAdywxe2a8e0Cplx3FvidiQPAgnm43VGpAtyCni1UHY0Axq4blkiODQDcyyvIlSW9An71sGlJRc0CuzL95TIpXQJT9Qmr+fW5AIhqsvxazdEAsmn6K2ZmCQICv3yRnH31Aic/M7iAwWkBiB+vlcICIQO/chwbh7ndAhQo6Vr/0c0CQ4D5FGQGEQCSrJdDJb25AfljmHjDgYEBps8tPbI94QMwNHtlOSoNAyADKSJ1sc0Bl7DQvkRCIQBZPRkgTWHdADKslQFtziUA1jEUOjJV9QACJhdJIrHBA62XSWskVd0CXC6MNVe5bQPW/eHcs33pAQZME63PseUBiMRGd12VsQNRDAOEk7m5AEWmvcli6akA34ywAtGSEQLQNV0RXGnJAzeQkTMzwXkAhekk3c0lyQMf+czwIj3tAdW/ncSmlckC2YPiroqmDQAlYfWfwn3tAy5WfpAKchUAl71C1tbxaQBDK0BeCi4FA8uQEblWHdEDKUlRxZaxgQLXSS7q/rFxAPcp2pJakbUCcnRYJaaNjQD4mUYsG9HpAs2PK8HVOgkA7G1GPojmEQOIZwXahfIFACWcOKdGkZUCBjUZ4dMVoQMLcjw6vFmhA6lXSJm2iZEC0Pg4Qfbd3QHJIibvA0XxAFsYk3iZSbUCYWfAJf+CAQOSPLcx27XNAoDCsoxWKaECQTBFz7nODQHs7z93K2nVAD9RT8bbEaUAxvETldt+DQEjxaaqWY29A2DgqjZRBdECImpPb0Zd6QBZLzOtNZH1AR9Oc3tPgeEBI8D8sdKeBQA2rli01ym1AIcBWNZEeZ0Bcz8fmcYKDQFMHMfImVnhAxph0ySb3gUBedRVCji+AQNnaBgFveYBAdtK2CeYvaUBYH1tOIpiDQJirD3UBVGtAZlLei2l1hEDrbbql9lhyQIahEaLDX3pAVEgaK+1NgUCuBnks/al0QLa861UfV3BA+nvuooJAgECxTN+gh2hdQNeEHD090H5ALhJjHqBjaUCa1/u3a1x6QP8TgGUkEHNAU9prp1ncc0A6WEL5n852QFCXRKgc5XhAeZbobOXUfEADWSHFwWN2QCOzj9HTCWxARDviaQ1zgUBH8xReiqOEQOUqK+GWy4BAj98/gKsBfkC7kTAxD0lkQMHwbSpb8INAeMumDsdBekBtT53/ZR9fQLHk6lbmaG1AdVxCIjfVX0CzMnqNbnB4QKGZbzWw+HNA/n/u4JDEd0D5GqwT83NmQL3Eul/NQXxACOOMaVqtgUAC5H15fiJ5QABHW768joVAn6ZF0Vk6c0CuUQtD11BnQL1HB3ZWxFZAXoi1C1z7YUClsVDpsk6BQJAfUoIYCXVAhLC1EUvBV0Cyl6cBGPiBQED2s9zPinBABu1fCMYzZ0DHnEcW+2RvQCZO318Gu3JA+zTnMQkqV0AlSqGGq8N0QKlrJT2WA2dA69bryjslX0Ca7cgvrH1OQJzl2gxo8UFAetwaxe+DYEDww28wo4yBQL5e/MIHE4FAiUt2M7ZuYkBNxhxBI+eEQBQb8lLeCE9A5mGasdvbfUDnYHydF7B5QA7ES3ljUoRAcWnZ1VBnbkAQ5q7sdkeFQBvaF4fqBHtA7BNa7daFhkAS7MAeRed/QCTN8yNhVoBAbFIWzJoCe0CWf6AlUOd3QK3HGnAH93VAJN3Y8CHjf0CkfFez0p5zQD47yFmtQ3dAnZ2B9nync0BGIo1MP7l+QK5SikU/eYBAtqw/IZcNe0Dc8bt+0gSBQNecBWXsYn1ASjQzXAHFSkAbbLDfGAF2QO1bLNfqxXhAFEr5KIf8dkCr3FSE+A52QII6WXewMXVAvSE54VW+dUDmcvi9A1R9QFPSVAX6umpAhHHDUVC8gUD68/c83cJ+QHbB1zBmvGVAHQJ+jbUhekBT+juYbpKEQCvhWELD5IdAR+2KQlkDeEDlFtRUoUl5QIVnpIkS7XtALCO4RmrDY0BR8IjXx8NxQIGSs01keoJAK5VQHAkAQkAQGc+/GCmCQAAgyxoYYYJA5+z9/kYEeUAT2hM8SPuBQIai28JS32dAn68q1ozieEAD3IeR/BaIQEj1pO6fYmpAK69vTG5Tg0CVSEck0RmHQOCVkuC2F2BAH0IiEO9DgkDE0SsSBoV0QKeKXNHiKnFA2eSABo4PW0C/eAt1/bhmQHikeVcWVXlATUMGX1U+iECSnlQsExJyQHDSaxIQEYVAtoM6VOvxfUDMnG0BhiOFQI01oHeKOUtAIFp/v9i7cEDdrXh7v9d7QIA9D2A3SGpAhZkWNMTegkBzFdmF3Q99QNL2n6R9F4BA6BKcu54ofEAfBOpQwSqHQEl3dOUMvYNAXEmFS6zNUUBVMJaGPhNiQOK8YmLAnn9A/6xv26uyhkDu/y/KnLZxQFbsGrb3hWJA5AgrbfLSY0DnL38bg/JMQLCPKebY0WFAOABTwAxydkBBc5M71Xh5QN0n2spidn5Ahr1pfz1nVkChXwx9h+p/QBlo91oRdGVABPRQ0YVEgED+sfmNiqF8QLAm5ngxkYBAIE+iqEMIaUBo3KtMiQBgQG3N2mzuIIpA9UuswWxxfUCNXgJG8VFJQFV8BS6UcnBAQBfdEFNhgEDO/Wrsn6N0QBANaD20l2pA6rKr6ud2SECWJyg0KfOGQFZrAppulXFAB+fuQaPEfUDGCAF7eaV+QPhDVs0dt3ZAMwzPA4PrSECyHtrvoiaAQEn/KsT7anBAeEI0YCh4ekDh6D00nF93QEAa6zPGB2dASq0Mlsbxc0B8uppAmymBQB8QfvC2vXpAYS773h+KZEAUlSx5EvGDQL5ktd0xbmBA2p3JXZXRS0ALjNgE1z59QEIQNALSD15AGXX0oHtqd0BKQbYyG9dwQFdYTYhbbYVAvLpHGQWAgECCCs59lWCJQKv7rpZGvl1AJLZKRnBpeUD02mqY09hgQEPl5LzGfHVAsRKGSorEfECY6UJUPyZzQKJvWvl5bW9AXigT/Rc1g0B2ut0LSeVsQLYuNeHfcF1AWVfrRLivb0C+JAcLk0l5QBjkajKs5WBAE6Wzn7yNdkDvhXIzcepsQN/9RHiM5nFArZqzmmPLf0DPgb8oxY2GQExp8q0nQoFAIodJvwfqf0AiUFLWq/95QBIxNEh6oIRAoLZsSlsghEDxmBYTEzeGQOjqTdQz431AygZiRFhDh0BGajzuUOx9QKvJB7KWA1pA2R0bXvFifkAWtzHfv4iEQGC+w1g/E1hAfQ2HJUQPg0A5JouKnmF/QIk4eUOBG31AxhoChflGc0AA1bSPKzCJQFdwY5a9B4JANAl78rXEcUCaYX5F3OV9QLiUJaTf3l1ADi51BhSkgEAieKIAaj5yQLHJXdjXHoZA1vaxf3I7e0BZdS2IWIF/QBjm5zoIFn9AIDKN+M3MfEDLlAbv7wdxQP53L2uD3m5AICT5FOArfkBdqDND3a9pQGWobYfZnIBADVtXq/w3gUD77JPVVs94QLLWUJ1i43NA8Sfch+GwekCE9KVyAQV8QNrPZI+IdnxATwLiWndlZkB8CE2A5QtaQBoig/lb61ZAjxYcLV+BcEC2zGnLgop6QGs4JdRpXmtA1d+JX3MFb0BljUbi/GZ6QDcVMZ1iiHFASjtYK96vgUD+VeZ/tOGJQBc0kQgZm2BAIlpS4hmLVUD0ZectGAuBQAj+zPF+mIBADnsgAo0mW0CuGifUm+p8QDu9Rjlv3m9AVawr4DPwcECLcl2a0Id6QMvq8off+GJAaT8Q0TLxd0DTaBJYNXJYQMrb1EsF5l1ARnVfRqikX0B89/VoRuyJQHcI96sLLXpAHY3dvNEmbUAPHVW8IemFQOrDyresS3hAl5pRVd2EgECEXdJxneB3QE+14m2mWoJAZPCVmaz3ZEBKKLlQYA1zQEE6bi93InZAHN5TALtOb0CoBSc2hPN+QLrNbiPG2HJAYFWOfY0Qe0BrzC8JxfuEQAUyYh1N20hAsuO0iROCeUDh4f1JvZd0QPVl4bkV9XdAJuzCKxeRc0CtUdNfhBWGQN0MOKOw02FA14/sR5QmhkDRbgoAh4iCQLC6yzQR44JAdA5KYIcQWUBtAn4KF26FQChtzbKb5ntAExL9G7oxckAs35l9jjRoQG0KPgdrCHNAybUD41steEBl8veKpNpsQK6qhB2S3nRA7D7n9PQcdkCwodOOK1NyQI33/j9U8XtAZsi5bxxHgkAdsxD7/oJ+QNOUe4g/2G5AceE1QsWCc0A60367PwKCQOgsmGBC1ndAQQkJeyn+gEBLNRXEW4h9QPYOporx4HFAleq1TjI9VkBCjcdz2TeEQKtigmTLTnJApH/kSlG8eEDGP4uA4HpxQP2XIWQYEGhApCIPH1P8dUASB80qN1uBQDwBZe4MtnhA9jhxNypYcEBtYiGWCdl4QPL7TCU2+oZAWP076U8XckBvxuw4M2tYQKRCIHLYrmhAr9kY6w7Xh0DIvDRbmAOAQLOS2391R35AYd/6ZksQdkC/55p22t2AQCuaE1J5ilxA2/OkrUNLgED3wjHCNCZ8QE+1dqpCrFRAXfhL33tJQUCemMQGYLmAQIv16y1r1nRAlBHKnNd6ZkB4B30OuD9uQObeVxYWFndAXKUmqmYChkD6gUmdjS99QPLN3Q2Sj0RAMTtVD3pAeUBh5ZcYEnx6QET9UG8wt2RAu22+M5IWgkCaku9dmBuGQOOQawF69oBA5rVPresPgEAATZuesKVyQCQ8eDKl6GZAcooaJelEfUAvCxlg8o9rQAel41Uln3BA68RSvNR3c0ARAg8/yD6EQP1lUFOg/ndASqYyWVRvgUBe7prmeJlsQPQtao2YuG1A9weVAWaRckA/VT/QldKIQKqhdGLMnoFA40hc2pc0dUCPDlsxUx5vQNS+SJhMdHFAEE81BFohYkCh+jg8bjpuQERuE/fB6XpAvEc0csx/a0Axrofyput2QHV4qDkaTnZAvv7EK4uXe0AW11CklMRsQCoetxmL3GNAGfimxlr3h0DhZdFVkSt9QDULOEM2MG1AKcACk6MGWkBoDb5z+ipDQAyPGlMiyIdA3NRi08zNcUDFutkf7QFrQMbK3XDVr0NAB19RfYN8fUBqyzuexMp/QJdkZa6Vx1dA1Kdp6if5hkALBugvpol8QE5vB+J6j15ADPYFgYm+gkDDj602TGh7QIk33HYQIYBAzmpVy7rXeEAPlTO/cN1zQAYMdsqJrHRA7YdoeYg6h0Ale0eNvSJxQGXiJ4CF5nxAGkMKYaSogEAR2zGQ+OZhQK2BCa2Q94FAQoLogrz3akCX5R7MlzhgQN0s+iIDEHRAodpbA/iSZUBwg69HW3N8QMbR/y7f+mhAnvshlI2RcUA5ppidxNh5QNHqpbcEw2BALGUNOhCod0BuQAL5tkFkQMX3ZtTtCIBAgNLzhTdKc0D6nn1f1eJtQJw28vNRkYFArLtNfVEwfUD9E7/37nZ0QL9en3N/wXRAgwVNd12RfECNeRWih0aBQD01FYXVkHFAm5Evv4UFckDYYVf5l9aEQG6Hw8tOQHtAuFfGwAwHb0BGSRn9vdN+QPc8ZmQtOHJAChSwbfiwfEBtY+6vfN+CQLVTJz2qaX9A5Uue8nOyUkBsUYOdxY5fQOYfo/wT/3NAjg/GCJ3zaUAAPhcn6AtzQLxJrApBHH5Ac3/vx3bVVECe/lkrKQ2AQHndzL//ioFAbA7L4RYkgEDlHhbwbdOEQMrarxar6YFA+7EpTcS8cUBS7d2OILJQQNRTtBPTE3JAKf6F9aRtYkDR7o3y10GBQBuTsyt7xINAbMMck+zrfkBXT89cI79dQP4xWv7t2FZAyGnp636CekBw3KawrKtjQK7nUFGFcXFALp4MVoV4hEA=",
          "dtype": "f8"
         },
         "y0": " ",
         "yaxis": "y"
        }
       ],
       "layout": {
        "boxmode": "group",
        "legend": {
         "tracegroupgap": 0
        },
        "template": {
         "data": {
          "bar": [
           {
            "error_x": {
             "color": "#2a3f5f"
            },
            "error_y": {
             "color": "#2a3f5f"
            },
            "marker": {
             "line": {
              "color": "#E5ECF6",
              "width": 0.5
             },
             "pattern": {
              "fillmode": "overlay",
              "size": 10,
              "solidity": 0.2
             }
            },
            "type": "bar"
           }
          ],
          "barpolar": [
           {
            "marker": {
             "line": {
              "color": "#E5ECF6",
              "width": 0.5
             },
             "pattern": {
              "fillmode": "overlay",
              "size": 10,
              "solidity": 0.2
             }
            },
            "type": "barpolar"
           }
          ],
          "carpet": [
           {
            "aaxis": {
             "endlinecolor": "#2a3f5f",
             "gridcolor": "white",
             "linecolor": "white",
             "minorgridcolor": "white",
             "startlinecolor": "#2a3f5f"
            },
            "baxis": {
             "endlinecolor": "#2a3f5f",
             "gridcolor": "white",
             "linecolor": "white",
             "minorgridcolor": "white",
             "startlinecolor": "#2a3f5f"
            },
            "type": "carpet"
           }
          ],
          "choropleth": [
           {
            "colorbar": {
             "outlinewidth": 0,
             "ticks": ""
            },
            "type": "choropleth"
           }
          ],
          "contour": [
           {
            "colorbar": {
             "outlinewidth": 0,
             "ticks": ""
            },
            "colorscale": [
             [
              0,
              "#0d0887"
             ],
             [
              0.1111111111111111,
              "#46039f"
             ],
             [
              0.2222222222222222,
              "#7201a8"
             ],
             [
              0.3333333333333333,
              "#9c179e"
             ],
             [
              0.4444444444444444,
              "#bd3786"
             ],
             [
              0.5555555555555556,
              "#d8576b"
             ],
             [
              0.6666666666666666,
              "#ed7953"
             ],
             [
              0.7777777777777778,
              "#fb9f3a"
             ],
             [
              0.8888888888888888,
              "#fdca26"
             ],
             [
              1,
              "#f0f921"
             ]
            ],
            "type": "contour"
           }
          ],
          "contourcarpet": [
           {
            "colorbar": {
             "outlinewidth": 0,
             "ticks": ""
            },
            "type": "contourcarpet"
           }
          ],
          "heatmap": [
           {
            "colorbar": {
             "outlinewidth": 0,
             "ticks": ""
            },
            "colorscale": [
             [
              0,
              "#0d0887"
             ],
             [
              0.1111111111111111,
              "#46039f"
             ],
             [
              0.2222222222222222,
              "#7201a8"
             ],
             [
              0.3333333333333333,
              "#9c179e"
             ],
             [
              0.4444444444444444,
              "#bd3786"
             ],
             [
              0.5555555555555556,
              "#d8576b"
             ],
             [
              0.6666666666666666,
              "#ed7953"
             ],
             [
              0.7777777777777778,
              "#fb9f3a"
             ],
             [
              0.8888888888888888,
              "#fdca26"
             ],
             [
              1,
              "#f0f921"
             ]
            ],
            "type": "heatmap"
           }
          ],
          "histogram": [
           {
            "marker": {
             "pattern": {
              "fillmode": "overlay",
              "size": 10,
              "solidity": 0.2
             }
            },
            "type": "histogram"
           }
          ],
          "histogram2d": [
           {
            "colorbar": {
             "outlinewidth": 0,
             "ticks": ""
            },
            "colorscale": [
             [
              0,
              "#0d0887"
             ],
             [
              0.1111111111111111,
              "#46039f"
             ],
             [
              0.2222222222222222,
              "#7201a8"
             ],
             [
              0.3333333333333333,
              "#9c179e"
             ],
             [
              0.4444444444444444,
              "#bd3786"
             ],
             [
              0.5555555555555556,
              "#d8576b"
             ],
             [
              0.6666666666666666,
              "#ed7953"
             ],
             [
              0.7777777777777778,
              "#fb9f3a"
             ],
             [
              0.8888888888888888,
              "#fdca26"
             ],
             [
              1,
              "#f0f921"
             ]
            ],
            "type": "histogram2d"
           }
          ],
          "histogram2dcontour": [
           {
            "colorbar": {
             "outlinewidth": 0,
             "ticks": ""
            },
            "colorscale": [
             [
              0,
              "#0d0887"
             ],
             [
              0.1111111111111111,
              "#46039f"
             ],
             [
              0.2222222222222222,
              "#7201a8"
             ],
             [
              0.3333333333333333,
              "#9c179e"
             ],
             [
              0.4444444444444444,
              "#bd3786"
             ],
             [
              0.5555555555555556,
              "#d8576b"
             ],
             [
              0.6666666666666666,
              "#ed7953"
             ],
             [
              0.7777777777777778,
              "#fb9f3a"
             ],
             [
              0.8888888888888888,
              "#fdca26"
             ],
             [
              1,
              "#f0f921"
             ]
            ],
            "type": "histogram2dcontour"
           }
          ],
          "mesh3d": [
           {
            "colorbar": {
             "outlinewidth": 0,
             "ticks": ""
            },
            "type": "mesh3d"
           }
          ],
          "parcoords": [
           {
            "line": {
             "colorbar": {
              "outlinewidth": 0,
              "ticks": ""
             }
            },
            "type": "parcoords"
           }
          ],
          "pie": [
           {
            "automargin": true,
            "type": "pie"
           }
          ],
          "scatter": [
           {
            "fillpattern": {
             "fillmode": "overlay",
             "size": 10,
             "solidity": 0.2
            },
            "type": "scatter"
           }
          ],
          "scatter3d": [
           {
            "line": {
             "colorbar": {
              "outlinewidth": 0,
              "ticks": ""
             }
            },
            "marker": {
             "colorbar": {
              "outlinewidth": 0,
              "ticks": ""
             }
            },
            "type": "scatter3d"
           }
          ],
          "scattercarpet": [
           {
            "marker": {
             "colorbar": {
              "outlinewidth": 0,
              "ticks": ""
             }
            },
            "type": "scattercarpet"
           }
          ],
          "scattergeo": [
           {
            "marker": {
             "colorbar": {
              "outlinewidth": 0,
              "ticks": ""
             }
            },
            "type": "scattergeo"
           }
          ],
          "scattergl": [
           {
            "marker": {
             "colorbar": {
              "outlinewidth": 0,
              "ticks": ""
             }
            },
            "type": "scattergl"
           }
          ],
          "scattermap": [
           {
            "marker": {
             "colorbar": {
              "outlinewidth": 0,
              "ticks": ""
             }
            },
            "type": "scattermap"
           }
          ],
          "scattermapbox": [
           {
            "marker": {
             "colorbar": {
              "outlinewidth": 0,
              "ticks": ""
             }
            },
            "type": "scattermapbox"
           }
          ],
          "scatterpolar": [
           {
            "marker": {
             "colorbar": {
              "outlinewidth": 0,
              "ticks": ""
             }
            },
            "type": "scatterpolar"
           }
          ],
          "scatterpolargl": [
           {
            "marker": {
             "colorbar": {
              "outlinewidth": 0,
              "ticks": ""
             }
            },
            "type": "scatterpolargl"
           }
          ],
          "scatterternary": [
           {
            "marker": {
             "colorbar": {
              "outlinewidth": 0,
              "ticks": ""
             }
            },
            "type": "scatterternary"
           }
          ],
          "surface": [
           {
            "colorbar": {
             "outlinewidth": 0,
             "ticks": ""
            },
            "colorscale": [
             [
              0,
              "#0d0887"
             ],
             [
              0.1111111111111111,
              "#46039f"
             ],
             [
              0.2222222222222222,
              "#7201a8"
             ],
             [
              0.3333333333333333,
              "#9c179e"
             ],
             [
              0.4444444444444444,
              "#bd3786"
             ],
             [
              0.5555555555555556,
              "#d8576b"
             ],
             [
              0.6666666666666666,
              "#ed7953"
             ],
             [
              0.7777777777777778,
              "#fb9f3a"
             ],
             [
              0.8888888888888888,
              "#fdca26"
             ],
             [
              1,
              "#f0f921"
             ]
            ],
            "type": "surface"
           }
          ],
          "table": [
           {
            "cells": {
             "fill": {
              "color": "#EBF0F8"
             },
             "line": {
              "color": "white"
             }
            },
            "header": {
             "fill": {
              "color": "#C8D4E3"
             },
             "line": {
              "color": "white"
             }
            },
            "type": "table"
           }
          ]
         },
         "layout": {
          "annotationdefaults": {
           "arrowcolor": "#2a3f5f",
           "arrowhead": 0,
           "arrowwidth": 1
          },
          "autotypenumbers": "strict",
          "coloraxis": {
           "colorbar": {
            "outlinewidth": 0,
            "ticks": ""
           }
          },
          "colorscale": {
           "diverging": [
            [
             0,
             "#8e0152"
            ],
            [
             0.1,
             "#c51b7d"
            ],
            [
             0.2,
             "#de77ae"
            ],
            [
             0.3,
             "#f1b6da"
            ],
            [
             0.4,
             "#fde0ef"
            ],
            [
             0.5,
             "#f7f7f7"
            ],
            [
             0.6,
             "#e6f5d0"
            ],
            [
             0.7,
             "#b8e186"
            ],
            [
             0.8,
             "#7fbc41"
            ],
            [
             0.9,
             "#4d9221"
            ],
            [
             1,
             "#276419"
            ]
           ],
           "sequential": [
            [
             0,
             "#0d0887"
            ],
            [
             0.1111111111111111,
             "#46039f"
            ],
            [
             0.2222222222222222,
             "#7201a8"
            ],
            [
             0.3333333333333333,
             "#9c179e"
            ],
            [
             0.4444444444444444,
             "#bd3786"
            ],
            [
             0.5555555555555556,
             "#d8576b"
            ],
            [
             0.6666666666666666,
             "#ed7953"
            ],
            [
             0.7777777777777778,
             "#fb9f3a"
            ],
            [
             0.8888888888888888,
             "#fdca26"
            ],
            [
             1,
             "#f0f921"
            ]
           ],
           "sequentialminus": [
            [
             0,
             "#0d0887"
            ],
            [
             0.1111111111111111,
             "#46039f"
            ],
            [
             0.2222222222222222,
             "#7201a8"
            ],
            [
             0.3333333333333333,
             "#9c179e"
            ],
            [
             0.4444444444444444,
             "#bd3786"
            ],
            [
             0.5555555555555556,
             "#d8576b"
            ],
            [
             0.6666666666666666,
             "#ed7953"
            ],
            [
             0.7777777777777778,
             "#fb9f3a"
            ],
            [
             0.8888888888888888,
             "#fdca26"
            ],
            [
             1,
             "#f0f921"
            ]
           ]
          },
          "colorway": [
           "#636efa",
           "#EF553B",
           "#00cc96",
           "#ab63fa",
           "#FFA15A",
           "#19d3f3",
           "#FF6692",
           "#B6E880",
           "#FF97FF",
           "#FECB52"
          ],
          "font": {
           "color": "#2a3f5f"
          },
          "geo": {
           "bgcolor": "white",
           "lakecolor": "white",
           "landcolor": "#E5ECF6",
           "showlakes": true,
           "showland": true,
           "subunitcolor": "white"
          },
          "hoverlabel": {
           "align": "left"
          },
          "hovermode": "closest",
          "mapbox": {
           "style": "light"
          },
          "paper_bgcolor": "white",
          "plot_bgcolor": "#E5ECF6",
          "polar": {
           "angularaxis": {
            "gridcolor": "white",
            "linecolor": "white",
            "ticks": ""
           },
           "bgcolor": "#E5ECF6",
           "radialaxis": {
            "gridcolor": "white",
            "linecolor": "white",
            "ticks": ""
           }
          },
          "scene": {
           "xaxis": {
            "backgroundcolor": "#E5ECF6",
            "gridcolor": "white",
            "gridwidth": 2,
            "linecolor": "white",
            "showbackground": true,
            "ticks": "",
            "zerolinecolor": "white"
           },
           "yaxis": {
            "backgroundcolor": "#E5ECF6",
            "gridcolor": "white",
            "gridwidth": 2,
            "linecolor": "white",
            "showbackground": true,
            "ticks": "",
            "zerolinecolor": "white"
           },
           "zaxis": {
            "backgroundcolor": "#E5ECF6",
            "gridcolor": "white",
            "gridwidth": 2,
            "linecolor": "white",
            "showbackground": true,
            "ticks": "",
            "zerolinecolor": "white"
           }
          },
          "shapedefaults": {
           "line": {
            "color": "#2a3f5f"
           }
          },
          "ternary": {
           "aaxis": {
            "gridcolor": "white",
            "linecolor": "white",
            "ticks": ""
           },
           "baxis": {
            "gridcolor": "white",
            "linecolor": "white",
            "ticks": ""
           },
           "bgcolor": "#E5ECF6",
           "caxis": {
            "gridcolor": "white",
            "linecolor": "white",
            "ticks": ""
           }
          },
          "title": {
           "x": 0.05
          },
          "xaxis": {
           "automargin": true,
           "gridcolor": "white",
           "linecolor": "white",
           "ticks": "",
           "title": {
            "standoff": 15
           },
           "zerolinecolor": "white",
           "zerolinewidth": 2
          },
          "yaxis": {
           "automargin": true,
           "gridcolor": "white",
           "linecolor": "white",
           "ticks": "",
           "title": {
            "standoff": 15
           },
           "zerolinecolor": "white",
           "zerolinewidth": 2
          }
         }
        },
        "title": {
         "text": "Relationship Between Historical Cost of Ride and Time_of_Booking"
        },
        "xaxis": {
         "anchor": "y",
         "domain": [
          0,
          1
         ],
         "title": {
          "text": "Time_of_Booking"
         }
        },
        "yaxis": {
         "anchor": "x",
         "domain": [
          0,
          1
         ],
         "title": {
          "text": "Historical_Cost_of_Ride"
         }
        }
       }
      }
     },
     "metadata": {},
     "output_type": "display_data"
    }
   ],
   "source": [
    "figure = plx.box( data, x=\"Time_of_Booking\",\n",
    "                     y= \"Historical_Cost_of_Ride\",\n",
    "                     title = \"Relationship Between Historical Cost of Ride and Time_of_Booking\",\n",
    "                    )\n",
    "figure.show()"
   ]
  },
  {
   "cell_type": "markdown",
   "metadata": {},
   "source": [
    "Relationship Between Historical Cost of Ride and Vehicle_Type"
   ]
  },
  {
   "cell_type": "code",
   "execution_count": 32,
   "metadata": {},
   "outputs": [
    {
     "data": {
      "application/vnd.plotly.v1+json": {
       "config": {
        "plotlyServerURL": "https://plot.ly"
       },
       "data": [
        {
         "alignmentgroup": "True",
         "hovertemplate": "Vehicle_Type=%{x}<br>Historical_Cost_of_Ride=%{y}<extra></extra>",
         "legendgroup": "",
         "marker": {
          "color": "#636efa"
         },
         "name": "",
         "notched": false,
         "offsetgroup": "",
         "orientation": "v",
         "showlegend": false,
         "type": "box",
         "x": [
          "Premium",
          "Economy",
          "Premium",
          "Premium",
          "Economy",
          "Economy",
          "Premium",
          "Premium",
          "Economy",
          "Premium",
          "Economy",
          "Premium",
          "Economy",
          "Premium",
          "Premium",
          "Premium",
          "Premium",
          "Economy",
          "Premium",
          "Premium",
          "Premium",
          "Economy",
          "Economy",
          "Premium",
          "Premium",
          "Economy",
          "Premium",
          "Economy",
          "Premium",
          "Premium",
          "Premium",
          "Premium",
          "Premium",
          "Premium",
          "Economy",
          "Premium",
          "Premium",
          "Premium",
          "Economy",
          "Premium",
          "Premium",
          "Economy",
          "Economy",
          "Premium",
          "Premium",
          "Economy",
          "Premium",
          "Premium",
          "Economy",
          "Economy",
          "Economy",
          "Economy",
          "Economy",
          "Premium",
          "Premium",
          "Premium",
          "Economy",
          "Premium",
          "Economy",
          "Economy",
          "Economy",
          "Premium",
          "Premium",
          "Premium",
          "Economy",
          "Premium",
          "Economy",
          "Economy",
          "Economy",
          "Premium",
          "Economy",
          "Economy",
          "Premium",
          "Premium",
          "Economy",
          "Economy",
          "Economy",
          "Economy",
          "Premium",
          "Premium",
          "Premium",
          "Premium",
          "Economy",
          "Premium",
          "Economy",
          "Premium",
          "Economy",
          "Premium",
          "Economy",
          "Economy",
          "Premium",
          "Premium",
          "Premium",
          "Premium",
          "Economy",
          "Premium",
          "Economy",
          "Economy",
          "Premium",
          "Economy",
          "Economy",
          "Economy",
          "Premium",
          "Premium",
          "Premium",
          "Premium",
          "Economy",
          "Economy",
          "Premium",
          "Premium",
          "Economy",
          "Economy",
          "Premium",
          "Premium",
          "Economy",
          "Premium",
          "Economy",
          "Premium",
          "Premium",
          "Economy",
          "Premium",
          "Economy",
          "Economy",
          "Premium",
          "Premium",
          "Premium",
          "Premium",
          "Economy",
          "Premium",
          "Premium",
          "Economy",
          "Economy",
          "Economy",
          "Economy",
          "Economy",
          "Premium",
          "Economy",
          "Premium",
          "Economy",
          "Premium",
          "Economy",
          "Economy",
          "Economy",
          "Economy",
          "Economy",
          "Premium",
          "Premium",
          "Economy",
          "Premium",
          "Economy",
          "Economy",
          "Economy",
          "Premium",
          "Premium",
          "Economy",
          "Economy",
          "Premium",
          "Premium",
          "Premium",
          "Premium",
          "Economy",
          "Premium",
          "Economy",
          "Economy",
          "Economy",
          "Economy",
          "Economy",
          "Premium",
          "Economy",
          "Premium",
          "Economy",
          "Economy",
          "Premium",
          "Economy",
          "Economy",
          "Economy",
          "Economy",
          "Economy",
          "Economy",
          "Economy",
          "Economy",
          "Economy",
          "Premium",
          "Premium",
          "Premium",
          "Economy",
          "Premium",
          "Premium",
          "Premium",
          "Premium",
          "Premium",
          "Premium",
          "Economy",
          "Premium",
          "Premium",
          "Economy",
          "Economy",
          "Economy",
          "Economy",
          "Premium",
          "Premium",
          "Economy",
          "Premium",
          "Premium",
          "Economy",
          "Economy",
          "Premium",
          "Premium",
          "Premium",
          "Economy",
          "Economy",
          "Premium",
          "Premium",
          "Economy",
          "Premium",
          "Premium",
          "Economy",
          "Economy",
          "Economy",
          "Economy",
          "Economy",
          "Premium",
          "Economy",
          "Premium",
          "Economy",
          "Premium",
          "Premium",
          "Premium",
          "Economy",
          "Premium",
          "Premium",
          "Premium",
          "Economy",
          "Premium",
          "Economy",
          "Economy",
          "Economy",
          "Economy",
          "Premium",
          "Economy",
          "Premium",
          "Premium",
          "Economy",
          "Economy",
          "Premium",
          "Premium",
          "Economy",
          "Economy",
          "Premium",
          "Premium",
          "Premium",
          "Premium",
          "Premium",
          "Economy",
          "Premium",
          "Premium",
          "Premium",
          "Premium",
          "Premium",
          "Premium",
          "Economy",
          "Economy",
          "Economy",
          "Economy",
          "Premium",
          "Premium",
          "Economy",
          "Premium",
          "Premium",
          "Premium",
          "Economy",
          "Premium",
          "Premium",
          "Premium",
          "Premium",
          "Premium",
          "Premium",
          "Premium",
          "Premium",
          "Economy",
          "Economy",
          "Premium",
          "Economy",
          "Premium",
          "Premium",
          "Premium",
          "Premium",
          "Economy",
          "Economy",
          "Economy",
          "Economy",
          "Economy",
          "Premium",
          "Economy",
          "Economy",
          "Economy",
          "Premium",
          "Premium",
          "Premium",
          "Economy",
          "Premium",
          "Economy",
          "Premium",
          "Economy",
          "Premium",
          "Premium",
          "Economy",
          "Premium",
          "Economy",
          "Premium",
          "Economy",
          "Premium",
          "Economy",
          "Economy",
          "Economy",
          "Premium",
          "Economy",
          "Economy",
          "Premium",
          "Premium",
          "Premium",
          "Premium",
          "Premium",
          "Economy",
          "Premium",
          "Premium",
          "Premium",
          "Premium",
          "Premium",
          "Economy",
          "Economy",
          "Premium",
          "Premium",
          "Premium",
          "Economy",
          "Premium",
          "Economy",
          "Premium",
          "Premium",
          "Premium",
          "Economy",
          "Economy",
          "Premium",
          "Premium",
          "Economy",
          "Economy",
          "Economy",
          "Premium",
          "Premium",
          "Premium",
          "Premium",
          "Premium",
          "Premium",
          "Premium",
          "Economy",
          "Economy",
          "Economy",
          "Premium",
          "Economy",
          "Premium",
          "Economy",
          "Premium",
          "Premium",
          "Economy",
          "Economy",
          "Premium",
          "Economy",
          "Premium",
          "Economy",
          "Economy",
          "Premium",
          "Premium",
          "Premium",
          "Economy",
          "Premium",
          "Premium",
          "Economy",
          "Economy",
          "Economy",
          "Economy",
          "Premium",
          "Economy",
          "Premium",
          "Economy",
          "Premium",
          "Premium",
          "Economy",
          "Premium",
          "Premium",
          "Economy",
          "Economy",
          "Economy",
          "Premium",
          "Premium",
          "Economy",
          "Economy",
          "Economy",
          "Economy",
          "Economy",
          "Economy",
          "Premium",
          "Premium",
          "Premium",
          "Economy",
          "Premium",
          "Economy",
          "Economy",
          "Economy",
          "Economy",
          "Premium",
          "Economy",
          "Premium",
          "Economy",
          "Premium",
          "Economy",
          "Premium",
          "Economy",
          "Premium",
          "Premium",
          "Premium",
          "Premium",
          "Economy",
          "Premium",
          "Economy",
          "Premium",
          "Economy",
          "Economy",
          "Economy",
          "Premium",
          "Economy",
          "Premium",
          "Economy",
          "Economy",
          "Premium",
          "Premium",
          "Premium",
          "Premium",
          "Premium",
          "Premium",
          "Economy",
          "Economy",
          "Premium",
          "Economy",
          "Economy",
          "Premium",
          "Premium",
          "Premium",
          "Economy",
          "Economy",
          "Premium",
          "Premium",
          "Economy",
          "Economy",
          "Economy",
          "Economy",
          "Premium",
          "Premium",
          "Premium",
          "Premium",
          "Premium",
          "Economy",
          "Premium",
          "Premium",
          "Premium",
          "Economy",
          "Economy",
          "Economy",
          "Economy",
          "Economy",
          "Economy",
          "Premium",
          "Premium",
          "Premium",
          "Economy",
          "Premium",
          "Premium",
          "Premium",
          "Economy",
          "Economy",
          "Economy",
          "Economy",
          "Premium",
          "Economy",
          "Premium",
          "Economy",
          "Premium",
          "Economy",
          "Premium",
          "Premium",
          "Economy",
          "Economy",
          "Premium",
          "Premium",
          "Economy",
          "Economy",
          "Premium",
          "Economy",
          "Premium",
          "Premium",
          "Premium",
          "Economy",
          "Economy",
          "Economy",
          "Premium",
          "Premium",
          "Economy",
          "Economy",
          "Economy",
          "Premium",
          "Premium",
          "Economy",
          "Premium",
          "Premium",
          "Premium",
          "Premium",
          "Economy",
          "Premium",
          "Premium",
          "Premium",
          "Economy",
          "Premium",
          "Economy",
          "Premium",
          "Premium",
          "Premium",
          "Economy",
          "Economy",
          "Economy",
          "Premium",
          "Premium",
          "Economy",
          "Economy",
          "Economy",
          "Economy",
          "Premium",
          "Premium",
          "Economy",
          "Economy",
          "Economy",
          "Economy",
          "Economy",
          "Premium",
          "Economy",
          "Premium",
          "Economy",
          "Economy",
          "Economy",
          "Economy",
          "Economy",
          "Economy",
          "Premium",
          "Economy",
          "Economy",
          "Premium",
          "Economy",
          "Economy",
          "Economy",
          "Economy",
          "Economy",
          "Premium",
          "Premium",
          "Economy",
          "Economy",
          "Economy",
          "Economy",
          "Premium",
          "Economy",
          "Economy",
          "Premium",
          "Premium",
          "Economy",
          "Economy",
          "Premium",
          "Economy",
          "Economy",
          "Economy",
          "Economy",
          "Premium",
          "Premium",
          "Economy",
          "Economy",
          "Economy",
          "Economy",
          "Premium",
          "Economy",
          "Premium",
          "Economy",
          "Economy",
          "Premium",
          "Economy",
          "Economy",
          "Economy",
          "Premium",
          "Economy",
          "Premium",
          "Economy",
          "Premium",
          "Economy",
          "Premium",
          "Economy",
          "Economy",
          "Premium",
          "Economy",
          "Premium",
          "Premium",
          "Premium",
          "Premium",
          "Economy",
          "Economy",
          "Premium",
          "Premium",
          "Economy",
          "Economy",
          "Premium",
          "Premium",
          "Economy",
          "Economy",
          "Premium",
          "Economy",
          "Premium",
          "Economy",
          "Premium",
          "Economy",
          "Premium",
          "Premium",
          "Premium",
          "Economy",
          "Economy",
          "Premium",
          "Economy",
          "Economy",
          "Premium",
          "Premium",
          "Economy",
          "Premium",
          "Economy",
          "Economy",
          "Premium",
          "Premium",
          "Premium",
          "Premium",
          "Economy",
          "Premium",
          "Premium",
          "Premium",
          "Premium",
          "Premium",
          "Economy",
          "Premium",
          "Economy",
          "Economy",
          "Premium",
          "Economy",
          "Premium",
          "Economy",
          "Economy",
          "Economy",
          "Economy",
          "Economy",
          "Economy",
          "Premium",
          "Premium",
          "Premium",
          "Premium",
          "Economy",
          "Premium",
          "Premium",
          "Economy",
          "Premium",
          "Economy",
          "Premium",
          "Economy",
          "Economy",
          "Premium",
          "Premium",
          "Economy",
          "Economy",
          "Economy",
          "Economy",
          "Economy",
          "Economy",
          "Premium",
          "Premium",
          "Economy",
          "Economy",
          "Economy",
          "Premium",
          "Premium",
          "Premium",
          "Premium",
          "Economy",
          "Economy",
          "Economy",
          "Premium",
          "Premium",
          "Economy",
          "Economy",
          "Economy",
          "Economy",
          "Premium",
          "Premium",
          "Economy",
          "Economy",
          "Premium",
          "Economy",
          "Economy",
          "Premium",
          "Premium",
          "Premium",
          "Economy",
          "Premium",
          "Premium",
          "Premium",
          "Economy",
          "Economy",
          "Premium",
          "Premium",
          "Economy",
          "Premium",
          "Premium",
          "Premium",
          "Premium",
          "Economy",
          "Premium",
          "Economy",
          "Economy",
          "Premium",
          "Economy",
          "Premium",
          "Premium",
          "Economy",
          "Premium",
          "Premium",
          "Economy",
          "Premium",
          "Economy",
          "Premium",
          "Economy",
          "Premium",
          "Premium",
          "Premium",
          "Premium",
          "Economy",
          "Premium",
          "Premium",
          "Premium",
          "Economy",
          "Premium",
          "Economy",
          "Premium",
          "Premium",
          "Premium",
          "Economy",
          "Economy",
          "Premium",
          "Economy",
          "Economy",
          "Premium",
          "Economy",
          "Premium",
          "Premium",
          "Economy",
          "Premium",
          "Premium",
          "Premium",
          "Premium",
          "Economy",
          "Premium",
          "Premium",
          "Economy",
          "Economy",
          "Economy",
          "Economy",
          "Economy",
          "Economy",
          "Premium",
          "Economy",
          "Economy",
          "Economy",
          "Economy",
          "Premium",
          "Economy",
          "Premium",
          "Premium",
          "Economy",
          "Premium",
          "Premium",
          "Economy",
          "Economy",
          "Premium",
          "Premium",
          "Economy",
          "Economy",
          "Premium",
          "Premium",
          "Premium",
          "Premium",
          "Premium",
          "Premium",
          "Economy",
          "Premium",
          "Premium",
          "Premium",
          "Economy",
          "Premium",
          "Premium",
          "Premium",
          "Economy",
          "Premium",
          "Premium",
          "Economy",
          "Premium",
          "Economy",
          "Economy",
          "Premium",
          "Economy",
          "Premium",
          "Economy",
          "Premium",
          "Economy",
          "Premium",
          "Economy",
          "Economy",
          "Economy",
          "Premium",
          "Economy",
          "Premium",
          "Premium",
          "Premium",
          "Premium",
          "Economy",
          "Economy",
          "Premium",
          "Premium",
          "Premium",
          "Premium",
          "Economy",
          "Premium",
          "Economy",
          "Economy",
          "Premium",
          "Premium",
          "Premium",
          "Economy",
          "Premium",
          "Economy",
          "Premium",
          "Premium",
          "Economy",
          "Economy",
          "Premium",
          "Premium",
          "Economy",
          "Premium",
          "Economy",
          "Economy",
          "Premium",
          "Economy",
          "Premium",
          "Premium",
          "Premium",
          "Premium",
          "Economy",
          "Premium",
          "Premium",
          "Economy",
          "Economy",
          "Premium",
          "Economy",
          "Premium",
          "Premium",
          "Premium",
          "Economy",
          "Economy",
          "Premium",
          "Premium",
          "Economy",
          "Economy",
          "Premium",
          "Premium",
          "Premium",
          "Economy",
          "Premium",
          "Premium",
          "Economy",
          "Premium",
          "Economy",
          "Premium",
          "Premium",
          "Premium",
          "Premium",
          "Premium",
          "Premium",
          "Premium",
          "Premium",
          "Economy",
          "Premium",
          "Economy",
          "Economy",
          "Economy",
          "Premium",
          "Premium",
          "Premium",
          "Economy",
          "Economy",
          "Premium",
          "Premium",
          "Premium",
          "Premium",
          "Premium",
          "Premium",
          "Premium",
          "Economy",
          "Economy",
          "Economy",
          "Economy",
          "Premium",
          "Premium",
          "Economy",
          "Economy",
          "Economy",
          "Economy",
          "Economy",
          "Economy",
          "Economy",
          "Premium",
          "Economy",
          "Premium",
          "Economy",
          "Economy",
          "Economy",
          "Premium",
          "Economy",
          "Premium",
          "Premium",
          "Premium",
          "Premium",
          "Premium",
          "Premium",
          "Premium",
          "Economy",
          "Premium",
          "Economy",
          "Premium",
          "Premium",
          "Economy",
          "Premium",
          "Economy",
          "Premium",
          "Premium",
          "Premium",
          "Economy",
          "Premium",
          "Economy",
          "Premium",
          "Premium",
          "Economy",
          "Economy",
          "Economy",
          "Economy",
          "Economy",
          "Economy",
          "Premium",
          "Premium",
          "Economy",
          "Premium",
          "Economy",
          "Premium",
          "Premium",
          "Premium",
          "Premium",
          "Economy",
          "Premium",
          "Economy",
          "Premium",
          "Economy",
          "Economy",
          "Economy",
          "Economy",
          "Economy",
          "Economy",
          "Economy",
          "Premium",
          "Premium",
          "Premium",
          "Economy",
          "Premium",
          "Premium",
          "Economy",
          "Economy",
          "Economy",
          "Economy",
          "Premium",
          "Economy",
          "Premium",
          "Premium",
          "Premium",
          "Premium",
          "Premium",
          "Economy"
         ],
         "x0": " ",
         "xaxis": "x",
         "y": {
          "bdata": "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",
          "dtype": "f8"
         },
         "y0": " ",
         "yaxis": "y"
        }
       ],
       "layout": {
        "boxmode": "group",
        "legend": {
         "tracegroupgap": 0
        },
        "template": {
         "data": {
          "bar": [
           {
            "error_x": {
             "color": "#2a3f5f"
            },
            "error_y": {
             "color": "#2a3f5f"
            },
            "marker": {
             "line": {
              "color": "#E5ECF6",
              "width": 0.5
             },
             "pattern": {
              "fillmode": "overlay",
              "size": 10,
              "solidity": 0.2
             }
            },
            "type": "bar"
           }
          ],
          "barpolar": [
           {
            "marker": {
             "line": {
              "color": "#E5ECF6",
              "width": 0.5
             },
             "pattern": {
              "fillmode": "overlay",
              "size": 10,
              "solidity": 0.2
             }
            },
            "type": "barpolar"
           }
          ],
          "carpet": [
           {
            "aaxis": {
             "endlinecolor": "#2a3f5f",
             "gridcolor": "white",
             "linecolor": "white",
             "minorgridcolor": "white",
             "startlinecolor": "#2a3f5f"
            },
            "baxis": {
             "endlinecolor": "#2a3f5f",
             "gridcolor": "white",
             "linecolor": "white",
             "minorgridcolor": "white",
             "startlinecolor": "#2a3f5f"
            },
            "type": "carpet"
           }
          ],
          "choropleth": [
           {
            "colorbar": {
             "outlinewidth": 0,
             "ticks": ""
            },
            "type": "choropleth"
           }
          ],
          "contour": [
           {
            "colorbar": {
             "outlinewidth": 0,
             "ticks": ""
            },
            "colorscale": [
             [
              0,
              "#0d0887"
             ],
             [
              0.1111111111111111,
              "#46039f"
             ],
             [
              0.2222222222222222,
              "#7201a8"
             ],
             [
              0.3333333333333333,
              "#9c179e"
             ],
             [
              0.4444444444444444,
              "#bd3786"
             ],
             [
              0.5555555555555556,
              "#d8576b"
             ],
             [
              0.6666666666666666,
              "#ed7953"
             ],
             [
              0.7777777777777778,
              "#fb9f3a"
             ],
             [
              0.8888888888888888,
              "#fdca26"
             ],
             [
              1,
              "#f0f921"
             ]
            ],
            "type": "contour"
           }
          ],
          "contourcarpet": [
           {
            "colorbar": {
             "outlinewidth": 0,
             "ticks": ""
            },
            "type": "contourcarpet"
           }
          ],
          "heatmap": [
           {
            "colorbar": {
             "outlinewidth": 0,
             "ticks": ""
            },
            "colorscale": [
             [
              0,
              "#0d0887"
             ],
             [
              0.1111111111111111,
              "#46039f"
             ],
             [
              0.2222222222222222,
              "#7201a8"
             ],
             [
              0.3333333333333333,
              "#9c179e"
             ],
             [
              0.4444444444444444,
              "#bd3786"
             ],
             [
              0.5555555555555556,
              "#d8576b"
             ],
             [
              0.6666666666666666,
              "#ed7953"
             ],
             [
              0.7777777777777778,
              "#fb9f3a"
             ],
             [
              0.8888888888888888,
              "#fdca26"
             ],
             [
              1,
              "#f0f921"
             ]
            ],
            "type": "heatmap"
           }
          ],
          "histogram": [
           {
            "marker": {
             "pattern": {
              "fillmode": "overlay",
              "size": 10,
              "solidity": 0.2
             }
            },
            "type": "histogram"
           }
          ],
          "histogram2d": [
           {
            "colorbar": {
             "outlinewidth": 0,
             "ticks": ""
            },
            "colorscale": [
             [
              0,
              "#0d0887"
             ],
             [
              0.1111111111111111,
              "#46039f"
             ],
             [
              0.2222222222222222,
              "#7201a8"
             ],
             [
              0.3333333333333333,
              "#9c179e"
             ],
             [
              0.4444444444444444,
              "#bd3786"
             ],
             [
              0.5555555555555556,
              "#d8576b"
             ],
             [
              0.6666666666666666,
              "#ed7953"
             ],
             [
              0.7777777777777778,
              "#fb9f3a"
             ],
             [
              0.8888888888888888,
              "#fdca26"
             ],
             [
              1,
              "#f0f921"
             ]
            ],
            "type": "histogram2d"
           }
          ],
          "histogram2dcontour": [
           {
            "colorbar": {
             "outlinewidth": 0,
             "ticks": ""
            },
            "colorscale": [
             [
              0,
              "#0d0887"
             ],
             [
              0.1111111111111111,
              "#46039f"
             ],
             [
              0.2222222222222222,
              "#7201a8"
             ],
             [
              0.3333333333333333,
              "#9c179e"
             ],
             [
              0.4444444444444444,
              "#bd3786"
             ],
             [
              0.5555555555555556,
              "#d8576b"
             ],
             [
              0.6666666666666666,
              "#ed7953"
             ],
             [
              0.7777777777777778,
              "#fb9f3a"
             ],
             [
              0.8888888888888888,
              "#fdca26"
             ],
             [
              1,
              "#f0f921"
             ]
            ],
            "type": "histogram2dcontour"
           }
          ],
          "mesh3d": [
           {
            "colorbar": {
             "outlinewidth": 0,
             "ticks": ""
            },
            "type": "mesh3d"
           }
          ],
          "parcoords": [
           {
            "line": {
             "colorbar": {
              "outlinewidth": 0,
              "ticks": ""
             }
            },
            "type": "parcoords"
           }
          ],
          "pie": [
           {
            "automargin": true,
            "type": "pie"
           }
          ],
          "scatter": [
           {
            "fillpattern": {
             "fillmode": "overlay",
             "size": 10,
             "solidity": 0.2
            },
            "type": "scatter"
           }
          ],
          "scatter3d": [
           {
            "line": {
             "colorbar": {
              "outlinewidth": 0,
              "ticks": ""
             }
            },
            "marker": {
             "colorbar": {
              "outlinewidth": 0,
              "ticks": ""
             }
            },
            "type": "scatter3d"
           }
          ],
          "scattercarpet": [
           {
            "marker": {
             "colorbar": {
              "outlinewidth": 0,
              "ticks": ""
             }
            },
            "type": "scattercarpet"
           }
          ],
          "scattergeo": [
           {
            "marker": {
             "colorbar": {
              "outlinewidth": 0,
              "ticks": ""
             }
            },
            "type": "scattergeo"
           }
          ],
          "scattergl": [
           {
            "marker": {
             "colorbar": {
              "outlinewidth": 0,
              "ticks": ""
             }
            },
            "type": "scattergl"
           }
          ],
          "scattermap": [
           {
            "marker": {
             "colorbar": {
              "outlinewidth": 0,
              "ticks": ""
             }
            },
            "type": "scattermap"
           }
          ],
          "scattermapbox": [
           {
            "marker": {
             "colorbar": {
              "outlinewidth": 0,
              "ticks": ""
             }
            },
            "type": "scattermapbox"
           }
          ],
          "scatterpolar": [
           {
            "marker": {
             "colorbar": {
              "outlinewidth": 0,
              "ticks": ""
             }
            },
            "type": "scatterpolar"
           }
          ],
          "scatterpolargl": [
           {
            "marker": {
             "colorbar": {
              "outlinewidth": 0,
              "ticks": ""
             }
            },
            "type": "scatterpolargl"
           }
          ],
          "scatterternary": [
           {
            "marker": {
             "colorbar": {
              "outlinewidth": 0,
              "ticks": ""
             }
            },
            "type": "scatterternary"
           }
          ],
          "surface": [
           {
            "colorbar": {
             "outlinewidth": 0,
             "ticks": ""
            },
            "colorscale": [
             [
              0,
              "#0d0887"
             ],
             [
              0.1111111111111111,
              "#46039f"
             ],
             [
              0.2222222222222222,
              "#7201a8"
             ],
             [
              0.3333333333333333,
              "#9c179e"
             ],
             [
              0.4444444444444444,
              "#bd3786"
             ],
             [
              0.5555555555555556,
              "#d8576b"
             ],
             [
              0.6666666666666666,
              "#ed7953"
             ],
             [
              0.7777777777777778,
              "#fb9f3a"
             ],
             [
              0.8888888888888888,
              "#fdca26"
             ],
             [
              1,
              "#f0f921"
             ]
            ],
            "type": "surface"
           }
          ],
          "table": [
           {
            "cells": {
             "fill": {
              "color": "#EBF0F8"
             },
             "line": {
              "color": "white"
             }
            },
            "header": {
             "fill": {
              "color": "#C8D4E3"
             },
             "line": {
              "color": "white"
             }
            },
            "type": "table"
           }
          ]
         },
         "layout": {
          "annotationdefaults": {
           "arrowcolor": "#2a3f5f",
           "arrowhead": 0,
           "arrowwidth": 1
          },
          "autotypenumbers": "strict",
          "coloraxis": {
           "colorbar": {
            "outlinewidth": 0,
            "ticks": ""
           }
          },
          "colorscale": {
           "diverging": [
            [
             0,
             "#8e0152"
            ],
            [
             0.1,
             "#c51b7d"
            ],
            [
             0.2,
             "#de77ae"
            ],
            [
             0.3,
             "#f1b6da"
            ],
            [
             0.4,
             "#fde0ef"
            ],
            [
             0.5,
             "#f7f7f7"
            ],
            [
             0.6,
             "#e6f5d0"
            ],
            [
             0.7,
             "#b8e186"
            ],
            [
             0.8,
             "#7fbc41"
            ],
            [
             0.9,
             "#4d9221"
            ],
            [
             1,
             "#276419"
            ]
           ],
           "sequential": [
            [
             0,
             "#0d0887"
            ],
            [
             0.1111111111111111,
             "#46039f"
            ],
            [
             0.2222222222222222,
             "#7201a8"
            ],
            [
             0.3333333333333333,
             "#9c179e"
            ],
            [
             0.4444444444444444,
             "#bd3786"
            ],
            [
             0.5555555555555556,
             "#d8576b"
            ],
            [
             0.6666666666666666,
             "#ed7953"
            ],
            [
             0.7777777777777778,
             "#fb9f3a"
            ],
            [
             0.8888888888888888,
             "#fdca26"
            ],
            [
             1,
             "#f0f921"
            ]
           ],
           "sequentialminus": [
            [
             0,
             "#0d0887"
            ],
            [
             0.1111111111111111,
             "#46039f"
            ],
            [
             0.2222222222222222,
             "#7201a8"
            ],
            [
             0.3333333333333333,
             "#9c179e"
            ],
            [
             0.4444444444444444,
             "#bd3786"
            ],
            [
             0.5555555555555556,
             "#d8576b"
            ],
            [
             0.6666666666666666,
             "#ed7953"
            ],
            [
             0.7777777777777778,
             "#fb9f3a"
            ],
            [
             0.8888888888888888,
             "#fdca26"
            ],
            [
             1,
             "#f0f921"
            ]
           ]
          },
          "colorway": [
           "#636efa",
           "#EF553B",
           "#00cc96",
           "#ab63fa",
           "#FFA15A",
           "#19d3f3",
           "#FF6692",
           "#B6E880",
           "#FF97FF",
           "#FECB52"
          ],
          "font": {
           "color": "#2a3f5f"
          },
          "geo": {
           "bgcolor": "white",
           "lakecolor": "white",
           "landcolor": "#E5ECF6",
           "showlakes": true,
           "showland": true,
           "subunitcolor": "white"
          },
          "hoverlabel": {
           "align": "left"
          },
          "hovermode": "closest",
          "mapbox": {
           "style": "light"
          },
          "paper_bgcolor": "white",
          "plot_bgcolor": "#E5ECF6",
          "polar": {
           "angularaxis": {
            "gridcolor": "white",
            "linecolor": "white",
            "ticks": ""
           },
           "bgcolor": "#E5ECF6",
           "radialaxis": {
            "gridcolor": "white",
            "linecolor": "white",
            "ticks": ""
           }
          },
          "scene": {
           "xaxis": {
            "backgroundcolor": "#E5ECF6",
            "gridcolor": "white",
            "gridwidth": 2,
            "linecolor": "white",
            "showbackground": true,
            "ticks": "",
            "zerolinecolor": "white"
           },
           "yaxis": {
            "backgroundcolor": "#E5ECF6",
            "gridcolor": "white",
            "gridwidth": 2,
            "linecolor": "white",
            "showbackground": true,
            "ticks": "",
            "zerolinecolor": "white"
           },
           "zaxis": {
            "backgroundcolor": "#E5ECF6",
            "gridcolor": "white",
            "gridwidth": 2,
            "linecolor": "white",
            "showbackground": true,
            "ticks": "",
            "zerolinecolor": "white"
           }
          },
          "shapedefaults": {
           "line": {
            "color": "#2a3f5f"
           }
          },
          "ternary": {
           "aaxis": {
            "gridcolor": "white",
            "linecolor": "white",
            "ticks": ""
           },
           "baxis": {
            "gridcolor": "white",
            "linecolor": "white",
            "ticks": ""
           },
           "bgcolor": "#E5ECF6",
           "caxis": {
            "gridcolor": "white",
            "linecolor": "white",
            "ticks": ""
           }
          },
          "title": {
           "x": 0.05
          },
          "xaxis": {
           "automargin": true,
           "gridcolor": "white",
           "linecolor": "white",
           "ticks": "",
           "title": {
            "standoff": 15
           },
           "zerolinecolor": "white",
           "zerolinewidth": 2
          },
          "yaxis": {
           "automargin": true,
           "gridcolor": "white",
           "linecolor": "white",
           "ticks": "",
           "title": {
            "standoff": 15
           },
           "zerolinecolor": "white",
           "zerolinewidth": 2
          }
         }
        },
        "title": {
         "text": "Relationship Between Historical Cost of Ride and Vehicle_Type"
        },
        "xaxis": {
         "anchor": "y",
         "domain": [
          0,
          1
         ],
         "title": {
          "text": "Vehicle_Type"
         }
        },
        "yaxis": {
         "anchor": "x",
         "domain": [
          0,
          1
         ],
         "title": {
          "text": "Historical_Cost_of_Ride"
         }
        }
       }
      }
     },
     "metadata": {},
     "output_type": "display_data"
    }
   ],
   "source": [
    "figure = plx.box( data, x=\"Vehicle_Type\",\n",
    "                     y= \"Historical_Cost_of_Ride\",\n",
    "                     title = \"Relationship Between Historical Cost of Ride and Vehicle_Type\",\n",
    "                    )\n",
    "figure.show()"
   ]
  },
  {
   "cell_type": "code",
   "execution_count": null,
   "metadata": {},
   "outputs": [],
   "source": []
  }
 ],
 "metadata": {
  "kernelspec": {
   "display_name": "usr",
   "language": "python",
   "name": "python3"
  },
  "language_info": {
   "codemirror_mode": {
    "name": "ipython",
    "version": 3
   },
   "file_extension": ".py",
   "mimetype": "text/x-python",
   "name": "python",
   "nbconvert_exporter": "python",
   "pygments_lexer": "ipython3",
   "version": "3.12.3"
  }
 },
 "nbformat": 4,
 "nbformat_minor": 2
}
